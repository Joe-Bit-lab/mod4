{
 "cells": [
  {
   "cell_type": "markdown",
   "metadata": {},
   "source": [
    "# Which are the \"best\" zip codes for investing in real estate?"
   ]
  },
  {
   "cell_type": "code",
   "execution_count": 38,
   "metadata": {},
   "outputs": [],
   "source": [
    "import pickle\n",
    "import pandas as pd\n",
    "import numpy as np"
   ]
  },
  {
   "cell_type": "code",
   "execution_count": 39,
   "metadata": {},
   "outputs": [],
   "source": [
    "with open('rankings.pickle', 'rb') as f:\n",
    "    vol_zips_crisis = pickle.load(f)\n",
    "    zip_growth1118 = pickle.load(f)\n",
    "    zip_growth9618 = pickle.load(f)\n",
    "    vol_zips = pickle.load(f)      "
   ]
  },
  {
   "cell_type": "markdown",
   "metadata": {},
   "source": [
    "### Adjusting Growth in Value for Zipcode Volatility: The Sharpe Ratio"
   ]
  },
  {
   "cell_type": "code",
   "execution_count": 40,
   "metadata": {},
   "outputs": [],
   "source": [
    "zip_growth1118.rename(columns={'zipcodes':'zip'},inplace=True)"
   ]
  },
  {
   "cell_type": "code",
   "execution_count": 43,
   "metadata": {},
   "outputs": [
    {
     "data": {
      "text/html": [
       "<div>\n",
       "<style scoped>\n",
       "    .dataframe tbody tr th:only-of-type {\n",
       "        vertical-align: middle;\n",
       "    }\n",
       "\n",
       "    .dataframe tbody tr th {\n",
       "        vertical-align: top;\n",
       "    }\n",
       "\n",
       "    .dataframe thead th {\n",
       "        text-align: right;\n",
       "    }\n",
       "</style>\n",
       "<table border=\"1\" class=\"dataframe\">\n",
       "  <thead>\n",
       "    <tr style=\"text-align: right;\">\n",
       "      <th></th>\n",
       "      <th>zip</th>\n",
       "      <th>value</th>\n",
       "      <th>growth</th>\n",
       "      <th>sharpe</th>\n",
       "    </tr>\n",
       "  </thead>\n",
       "  <tbody>\n",
       "    <tr>\n",
       "      <th>5695</th>\n",
       "      <td>33976</td>\n",
       "      <td>68.041382</td>\n",
       "      <td>0.957508</td>\n",
       "      <td>0.014072</td>\n",
       "    </tr>\n",
       "    <tr>\n",
       "      <th>5694</th>\n",
       "      <td>33974</td>\n",
       "      <td>132.680694</td>\n",
       "      <td>0.960467</td>\n",
       "      <td>0.007239</td>\n",
       "    </tr>\n",
       "    <tr>\n",
       "      <th>7643</th>\n",
       "      <td>47353</td>\n",
       "      <td>47.628967</td>\n",
       "      <td>0.285470</td>\n",
       "      <td>0.005994</td>\n",
       "    </tr>\n",
       "    <tr>\n",
       "      <th>10600</th>\n",
       "      <td>71263</td>\n",
       "      <td>37.143366</td>\n",
       "      <td>0.191276</td>\n",
       "      <td>0.005150</td>\n",
       "    </tr>\n",
       "    <tr>\n",
       "      <th>10343</th>\n",
       "      <td>67860</td>\n",
       "      <td>68.651023</td>\n",
       "      <td>0.267775</td>\n",
       "      <td>0.003901</td>\n",
       "    </tr>\n",
       "    <tr>\n",
       "      <th>...</th>\n",
       "      <td>...</td>\n",
       "      <td>...</td>\n",
       "      <td>...</td>\n",
       "      <td>...</td>\n",
       "    </tr>\n",
       "    <tr>\n",
       "      <th>14300</th>\n",
       "      <td>97467</td>\n",
       "      <td>0.000000</td>\n",
       "      <td>0.259059</td>\n",
       "      <td>NaN</td>\n",
       "    </tr>\n",
       "    <tr>\n",
       "      <th>14311</th>\n",
       "      <td>97499</td>\n",
       "      <td>0.000000</td>\n",
       "      <td>0.267187</td>\n",
       "      <td>NaN</td>\n",
       "    </tr>\n",
       "    <tr>\n",
       "      <th>14330</th>\n",
       "      <td>97624</td>\n",
       "      <td>0.000000</td>\n",
       "      <td>0.306698</td>\n",
       "      <td>NaN</td>\n",
       "    </tr>\n",
       "    <tr>\n",
       "      <th>14335</th>\n",
       "      <td>97733</td>\n",
       "      <td>0.000000</td>\n",
       "      <td>0.321245</td>\n",
       "      <td>NaN</td>\n",
       "    </tr>\n",
       "    <tr>\n",
       "      <th>14623</th>\n",
       "      <td>98851</td>\n",
       "      <td>0.000000</td>\n",
       "      <td>0.124573</td>\n",
       "      <td>NaN</td>\n",
       "    </tr>\n",
       "  </tbody>\n",
       "</table>\n",
       "<p>14723 rows × 4 columns</p>\n",
       "</div>"
      ],
      "text/plain": [
       "         zip       value    growth    sharpe\n",
       "5695   33976   68.041382  0.957508  0.014072\n",
       "5694   33974  132.680694  0.960467  0.007239\n",
       "7643   47353   47.628967  0.285470  0.005994\n",
       "10600  71263   37.143366  0.191276  0.005150\n",
       "10343  67860   68.651023  0.267775  0.003901\n",
       "...      ...         ...       ...       ...\n",
       "14300  97467    0.000000  0.259059       NaN\n",
       "14311  97499    0.000000  0.267187       NaN\n",
       "14330  97624    0.000000  0.306698       NaN\n",
       "14335  97733    0.000000  0.321245       NaN\n",
       "14623  98851    0.000000  0.124573       NaN\n",
       "\n",
       "[14723 rows x 4 columns]"
      ]
     },
     "execution_count": 43,
     "metadata": {},
     "output_type": "execute_result"
    }
   ],
   "source": [
    "merged = pd.merge(vol_zips_crisis, zip_growth1118, how='left', on='zip')\n",
    "merged['sharpe']=merged['growth']/merged['value']\n",
    "merged.replace(to_replace=np.inf, value=np.nan, inplace=True)\n",
    "merged.replace(to_replace=-np.inf, value=np.nan, inplace=True)\n",
    "merged.sort_values(by='sharpe', ascending=False)"
   ]
  },
  {
   "cell_type": "markdown",
   "metadata": {},
   "source": [
    "## Let have a look at these zip codes"
   ]
  },
  {
   "cell_type": "code",
   "execution_count": 6,
   "metadata": {},
   "outputs": [],
   "source": [
    "import pandas as pd\n",
    "import numpy as np\n",
    "import seaborn as sns\n",
    "import statsmodels.api as sm\n",
    "import matplotlib.pyplot as plt"
   ]
  },
  {
   "cell_type": "code",
   "execution_count": null,
   "metadata": {},
   "outputs": [],
   "source": [
    "zill = pd.read_csv('../data/processed/zillow_cleaned_no_nulls.csv', index_col=0, dtype={'zip': 'object'})"
   ]
  },
  {
   "cell_type": "code",
   "execution_count": null,
   "metadata": {},
   "outputs": [],
   "source": [
    "zill.index = pd.to_datetime(zill.index)"
   ]
  },
  {
   "cell_type": "code",
   "execution_count": null,
   "metadata": {},
   "outputs": [],
   "source": [
    "best_zips = ['10011', '10014', '10021', '90210', '94027', '94022', '33480', '10128', '11215', '11217']"
   ]
  },
  {
   "cell_type": "code",
   "execution_count": null,
   "metadata": {},
   "outputs": [],
   "source": [
    "top_zips = zill.loc[(zill.zip.isin(best_zips))]"
   ]
  },
  {
   "cell_type": "code",
   "execution_count": null,
   "metadata": {},
   "outputs": [],
   "source": [
    "kill_cols = ['regionid', 'city', 'state', 'metro', 'countyname', 'sizerank']\n",
    "top_zips_val = top_zips.drop(columns = kill_cols)"
   ]
  },
  {
   "cell_type": "code",
   "execution_count": null,
   "metadata": {},
   "outputs": [],
   "source": [
    "top_zips_val.head()"
   ]
  },
  {
   "cell_type": "code",
   "execution_count": null,
   "metadata": {},
   "outputs": [],
   "source": [
    "sns.lineplot(x = top_zips_val.index.year, y = 'value', data = top_zips_val, hue = 'zip', legend = False);"
   ]
  },
  {
   "cell_type": "code",
   "execution_count": null,
   "metadata": {},
   "outputs": [],
   "source": [
    "top_zips_val.plot(kind = 'line', figsize=(15, 6))\n",
    "plt.show()"
   ]
  },
  {
   "cell_type": "code",
   "execution_count": null,
   "metadata": {},
   "outputs": [],
   "source": [
    "top_zips_val.index = pd.to_datetime(top_zips_val.index)"
   ]
  },
  {
   "cell_type": "code",
   "execution_count": null,
   "metadata": {},
   "outputs": [],
   "source": [
    "top_zips_val.index"
   ]
  },
  {
   "cell_type": "code",
   "execution_count": null,
   "metadata": {},
   "outputs": [],
   "source": [
    "from pylab import rcParams\n",
    "rcParams['figure.figsize'] = 11, 9\n",
    "\n",
    "decomposition = sm.tsa.seasonal_decompose(top_zips_val.resample('m').mean(), model='additive')\n",
    "fig = decomposition.plot()\n",
    "plt.show()"
   ]
  },
  {
   "cell_type": "code",
   "execution_count": null,
   "metadata": {},
   "outputs": [],
   "source": [
    "pd.plotting.autocorrelation_plot(top_zips_val);\n",
    "plt.show()"
   ]
  },
  {
   "cell_type": "code",
   "execution_count": null,
   "metadata": {},
   "outputs": [],
   "source": []
  },
  {
   "cell_type": "code",
   "execution_count": null,
   "metadata": {},
   "outputs": [],
   "source": []
  }
 ],
 "metadata": {
  "kernelspec": {
   "display_name": "Python 3",
   "language": "python",
   "name": "python3"
  },
  "language_info": {
   "codemirror_mode": {
    "name": "ipython",
    "version": 3
   },
   "file_extension": ".py",
   "mimetype": "text/x-python",
   "name": "python",
   "nbconvert_exporter": "python",
   "pygments_lexer": "ipython3",
   "version": "3.7.7"
  }
 },
 "nbformat": 4,
 "nbformat_minor": 4
}
