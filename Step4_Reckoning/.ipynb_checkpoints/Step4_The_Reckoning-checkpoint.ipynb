{
 "cells": [
  {
   "cell_type": "code",
   "execution_count": 1,
   "metadata": {},
   "outputs": [],
   "source": [
    "import pandas as pd\n",
    "import numpy as np\n",
    "import matplotlib.pyplot as plt\n",
    "import seaborn as sns\n",
    "import statsmodels.api as sm"
   ]
  },
  {
   "cell_type": "code",
   "execution_count": 2,
   "metadata": {},
   "outputs": [],
   "source": [
    "df = pd.read_csv('https://mod4finalproject.s3.amazonaws.com/zillow_cleaned_no_nulls.csv',\n",
    "                   index_col=0,\n",
    "                   dtype = {'zip':'object'})"
   ]
  },
  {
   "cell_type": "code",
   "execution_count": 3,
   "metadata": {},
   "outputs": [],
   "source": [
    "def zip_plot(df,zipcode, start, end):\n",
    "    zip_df = df.loc[df['zip']==zipcode]\n",
    "    zip_df = zip_df.loc[(zip_df.index >= start) & (zip_df.index <= end)]\n",
    "    sns.set(rc={'figure.figsize':(20,5)}, style='darkgrid')\n",
    "    sns.lineplot(x=zip_df.index, y=zip_df.value)\n",
    "    return plt.show()"
   ]
  },
  {
   "cell_type": "code",
   "execution_count": 5,
   "metadata": {},
   "outputs": [],
   "source": [
    "def diff_plot(df,zipcode, start, end, diff):\n",
    "    zip_df = df.loc[df['zip']==zipcode]\n",
    "    zip_df = zip_df.loc[(zip_df.index >= start) & (zip_df.index <= end)]\n",
    "    zip_df = zip_df.drop(columns=['city','state','metro','countyname','sizerank','regionid'],axis=1)\n",
    "    if diff == 1:\n",
    "        zip_df['diff'] = zip_df['value'].diff()\n",
    "    elif diff > 1:\n",
    "        zip_df['diff'] = zip_df['value'].diff()\n",
    "        for i in range(2, diff):\n",
    "            zip_df['diff'] = zip_df['diff'].diff()\n",
    "    else:\n",
    "        print('Please enter a diff value greater or equal to 1')\n",
    "    sns.set(rc={'figure.figsize':(20,5)}, style='darkgrid')\n",
    "    sns.lineplot(x=zip_df.index, y=zip_df['diff'])\n",
    "    return plt.show()"
   ]
  },
  {
   "cell_type": "code",
   "execution_count": 6,
   "metadata": {},
   "outputs": [],
   "source": [
    "def zip_df(df, zipcode, start, end):\n",
    "    zip_df = df.loc[df['zip']==zipcode]\n",
    "    zip_df = zip_df.loc[(zip_df.index >= start) & (zip_df.index <= end)]\n",
    "    zip_df = zip_df.drop(columns=['city','state','metro','countyname','sizerank','regionid'],axis=1)\n",
    "    return zip_df"
   ]
  },
  {
   "cell_type": "code",
   "execution_count": 7,
   "metadata": {},
   "outputs": [],
   "source": [
    "def diff_df(df,zipcode, start, end, diff):\n",
    "    diff_df = df.loc[df['zip']==zipcode]\n",
    "    diff_df = diff_df.loc[(diff_df.index >= start) & (diff_df.index <= end)]\n",
    "    diff_df = diff_df.drop(columns=['city','state','metro','countyname','sizerank','regionid'],axis=1)\n",
    "    if diff == 1:\n",
    "        diff_df['diff'] = diff_df['value'].diff()\n",
    "    elif diff > 1:\n",
    "        diff_df['diff'] = diff_df['value'].diff()\n",
    "        for i in range(2, diff):\n",
    "            diff_df['diff'] = diff_df['diff'].diff()\n",
    "    else:\n",
    "        print('Please enter a diff value greater or equal to 1')\n",
    "    return diff_df"
   ]
  }
 ],
 "metadata": {
  "kernelspec": {
   "display_name": "Python 3",
   "language": "python",
   "name": "python3"
  },
  "language_info": {
   "codemirror_mode": {
    "name": "ipython",
    "version": 3
   },
   "file_extension": ".py",
   "mimetype": "text/x-python",
   "name": "python",
   "nbconvert_exporter": "python",
   "pygments_lexer": "ipython3",
   "version": "3.7.7"
  }
 },
 "nbformat": 4,
 "nbformat_minor": 4
}
