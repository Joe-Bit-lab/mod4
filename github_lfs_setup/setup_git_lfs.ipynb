{
 "cells": [
  {
   "cell_type": "markdown",
   "metadata": {},
   "source": [
    "# Setting up git lfs\n",
    "Git's lfs (large file storage) is required for working with files over 100 mbs.  To setup lfs in your enviorment, try the following:\n",
    "\n",
    "## Install lfs with conda"
   ]
  },
  {
   "cell_type": "code",
   "execution_count": null,
   "metadata": {},
   "outputs": [],
   "source": [
    "conda install -c conda-forge git-lfs"
   ]
  },
  {
   "cell_type": "markdown",
   "metadata": {},
   "source": [
    "## This repo's master branch includes an lfs attribute tracking \"*.csv\" files\n",
    "If you need to add this attribute locally do the following in terminal:\n",
    "\n",
    "git lfs install<br>\n",
    "git lfs track \"*.csv\"<br>\n",
    "git add .gitattributes<br>\n",
    "git commit -m \"adding lfs attribute for csv files over 100 mbs\"<br>\n",
    "git push origin BranchName<br>"
   ]
  },
  {
   "cell_type": "code",
   "execution_count": null,
   "metadata": {},
   "outputs": [],
   "source": []
  }
 ],
 "metadata": {
  "kernelspec": {
   "display_name": "Python 3",
   "language": "python",
   "name": "python3"
  },
  "language_info": {
   "codemirror_mode": {
    "name": "ipython",
    "version": 3
   },
   "file_extension": ".py",
   "mimetype": "text/x-python",
   "name": "python",
   "nbconvert_exporter": "python",
   "pygments_lexer": "ipython3",
   "version": "3.7.7"
  }
 },
 "nbformat": 4,
 "nbformat_minor": 4
}
