{
 "cells": [
  {
   "cell_type": "code",
   "execution_count": 1,
   "metadata": {},
   "outputs": [],
   "source": [
    "import pandas as pd\n",
    "import numpy as np\n",
    "import normal_former as nofo"
   ]
  },
  {
   "cell_type": "code",
   "execution_count": 2,
   "metadata": {},
   "outputs": [],
   "source": [
    "# file location:\n",
    "#  /Users/algrhythm/Flatiron/blogs/blah.csv\n",
    "\n",
    "# Use below to skip user input and providing file location and type\n",
    "# file_n_type = ['/Users/algrhythm/Flatiron/blogs/blah.csv', 'csv']\n",
    "# df = nofo.getDF(file_n_type)\n",
    "\n",
    "# df = nofo.getDF(file_n_type)f"
   ]
  },
  {
   "cell_type": "code",
   "execution_count": 3,
   "metadata": {},
   "outputs": [],
   "source": [
    "wide_df = pd.read_csv('../data/raw/zillow_data.csv')\n",
    "df = wide_df\n",
    "\n",
    "cols_n_index = nofo.indexCols(df)\n",
    "# nofo.showCols(cols_n_index);"
   ]
  },
  {
   "cell_type": "code",
   "execution_count": 4,
   "metadata": {},
   "outputs": [],
   "source": [
    "# Enable below for user input\n",
    "# cols2rows = nofo.pickRows(cols_n_index)\n",
    "\n",
    "# to skip user input, use code below\n",
    "cols2rows = list(range(7,272))\n",
    "\n",
    "cols2rows = nofo.index_c2r(cols_n_index, cols2rows)\n",
    "# nofo.print_c2r(cols2rows)\n",
    "\n",
    "keep_cols_df = nofo.keep_df(df, cols2rows)\n",
    "tab_df = nofo.make_shell(cols2rows, keep_cols_df)\n",
    "nofo.add_cols2shell(keep_cols_df, tab_df)    \n",
    "\n",
    "nofo.dates2rows(cols2rows, df, tab_df)\n",
    "nofo.vals2rows(cols2rows, df, tab_df)\n",
    "nofo.export_csv(tab_df, '../data/processed/zillow_long_form.csv')"
   ]
  },
  {
   "cell_type": "code",
   "execution_count": null,
   "metadata": {},
   "outputs": [],
   "source": []
  }
 ],
 "metadata": {
  "kernelspec": {
   "display_name": "Python 3",
   "language": "python",
   "name": "python3"
  },
  "language_info": {
   "codemirror_mode": {
    "name": "ipython",
    "version": 3
   },
   "file_extension": ".py",
   "mimetype": "text/x-python",
   "name": "python",
   "nbconvert_exporter": "python",
   "pygments_lexer": "ipython3",
   "version": "3.7.7"
  }
 },
 "nbformat": 4,
 "nbformat_minor": 4
}
