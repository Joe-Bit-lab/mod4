{
 "cells": [
  {
   "cell_type": "markdown",
   "metadata": {},
   "source": [
    "# Exploratory Data Analysis (EDA) of Zillow Data\n",
    "In this notebook initial EDA is conducted on the Zillow data set.\n",
    "\n",
    "## Import required packages"
   ]
  },
  {
   "cell_type": "code",
   "execution_count": 271,
   "metadata": {},
   "outputs": [],
   "source": [
    "import pandas as pd\n",
    "import numpy as np\n",
    "import seaborn as sns\n",
    "import matplotlib.pyplot as plt\n",
    "%matplotlib inline"
   ]
  },
  {
   "cell_type": "markdown",
   "metadata": {},
   "source": [
    "## Import processed data\n",
    "- Columns are in lower case\n",
    "- Zip code column renamed to zip\n",
    "- Index set to date column in datetime format"
   ]
  },
  {
   "cell_type": "code",
   "execution_count": 272,
   "metadata": {},
   "outputs": [],
   "source": [
    "zill = pd.read_csv('../data/processed/zillow_time_index.csv', index_col=0)"
   ]
  },
  {
   "cell_type": "code",
   "execution_count": 273,
   "metadata": {},
   "outputs": [],
   "source": [
    "zill.index = pd.to_datetime(zill.index)"
   ]
  },
  {
   "cell_type": "code",
   "execution_count": 274,
   "metadata": {},
   "outputs": [],
   "source": [
    "zill.zip = zill.zip.apply(lambda z: str(z))"
   ]
  },
  {
   "cell_type": "code",
   "execution_count": 275,
   "metadata": {},
   "outputs": [
    {
     "data": {
      "text/plain": [
       "Index(['regionid', 'zip', 'city', 'state', 'metro', 'countyname', 'sizerank',\n",
       "       'value'],\n",
       "      dtype='object')"
      ]
     },
     "execution_count": 275,
     "metadata": {},
     "output_type": "execute_result"
    }
   ],
   "source": [
    "zill.columns"
   ]
  },
  {
   "cell_type": "code",
   "execution_count": 276,
   "metadata": {},
   "outputs": [
    {
     "data": {
      "text/html": [
       "<div>\n",
       "<style scoped>\n",
       "    .dataframe tbody tr th:only-of-type {\n",
       "        vertical-align: middle;\n",
       "    }\n",
       "\n",
       "    .dataframe tbody tr th {\n",
       "        vertical-align: top;\n",
       "    }\n",
       "\n",
       "    .dataframe thead th {\n",
       "        text-align: right;\n",
       "    }\n",
       "</style>\n",
       "<table border=\"1\" class=\"dataframe\">\n",
       "  <thead>\n",
       "    <tr style=\"text-align: right;\">\n",
       "      <th></th>\n",
       "      <th>regionid</th>\n",
       "      <th>zip</th>\n",
       "      <th>city</th>\n",
       "      <th>state</th>\n",
       "      <th>metro</th>\n",
       "      <th>countyname</th>\n",
       "      <th>sizerank</th>\n",
       "      <th>value</th>\n",
       "    </tr>\n",
       "    <tr>\n",
       "      <th>date</th>\n",
       "      <th></th>\n",
       "      <th></th>\n",
       "      <th></th>\n",
       "      <th></th>\n",
       "      <th></th>\n",
       "      <th></th>\n",
       "      <th></th>\n",
       "      <th></th>\n",
       "    </tr>\n",
       "  </thead>\n",
       "  <tbody>\n",
       "    <tr>\n",
       "      <th>1996-04-01</th>\n",
       "      <td>84654</td>\n",
       "      <td>60657</td>\n",
       "      <td>Chicago</td>\n",
       "      <td>IL</td>\n",
       "      <td>Chicago</td>\n",
       "      <td>Cook</td>\n",
       "      <td>1</td>\n",
       "      <td>334200.0</td>\n",
       "    </tr>\n",
       "    <tr>\n",
       "      <th>1996-04-01</th>\n",
       "      <td>90668</td>\n",
       "      <td>75070</td>\n",
       "      <td>McKinney</td>\n",
       "      <td>TX</td>\n",
       "      <td>Dallas-Fort Worth</td>\n",
       "      <td>Collin</td>\n",
       "      <td>2</td>\n",
       "      <td>235700.0</td>\n",
       "    </tr>\n",
       "    <tr>\n",
       "      <th>1996-04-01</th>\n",
       "      <td>91982</td>\n",
       "      <td>77494</td>\n",
       "      <td>Katy</td>\n",
       "      <td>TX</td>\n",
       "      <td>Houston</td>\n",
       "      <td>Harris</td>\n",
       "      <td>3</td>\n",
       "      <td>210400.0</td>\n",
       "    </tr>\n",
       "    <tr>\n",
       "      <th>1996-04-01</th>\n",
       "      <td>84616</td>\n",
       "      <td>60614</td>\n",
       "      <td>Chicago</td>\n",
       "      <td>IL</td>\n",
       "      <td>Chicago</td>\n",
       "      <td>Cook</td>\n",
       "      <td>4</td>\n",
       "      <td>498100.0</td>\n",
       "    </tr>\n",
       "    <tr>\n",
       "      <th>1996-04-01</th>\n",
       "      <td>93144</td>\n",
       "      <td>79936</td>\n",
       "      <td>El Paso</td>\n",
       "      <td>TX</td>\n",
       "      <td>El Paso</td>\n",
       "      <td>El Paso</td>\n",
       "      <td>5</td>\n",
       "      <td>77300.0</td>\n",
       "    </tr>\n",
       "  </tbody>\n",
       "</table>\n",
       "</div>"
      ],
      "text/plain": [
       "            regionid    zip      city state              metro countyname  \\\n",
       "date                                                                        \n",
       "1996-04-01     84654  60657   Chicago    IL            Chicago       Cook   \n",
       "1996-04-01     90668  75070  McKinney    TX  Dallas-Fort Worth     Collin   \n",
       "1996-04-01     91982  77494      Katy    TX            Houston     Harris   \n",
       "1996-04-01     84616  60614   Chicago    IL            Chicago       Cook   \n",
       "1996-04-01     93144  79936   El Paso    TX            El Paso    El Paso   \n",
       "\n",
       "            sizerank     value  \n",
       "date                            \n",
       "1996-04-01         1  334200.0  \n",
       "1996-04-01         2  235700.0  \n",
       "1996-04-01         3  210400.0  \n",
       "1996-04-01         4  498100.0  \n",
       "1996-04-01         5   77300.0  "
      ]
     },
     "execution_count": 276,
     "metadata": {},
     "output_type": "execute_result"
    }
   ],
   "source": [
    "zill.head()"
   ]
  },
  {
   "cell_type": "markdown",
   "metadata": {},
   "source": [
    "## Below, each feature is analyzed for the data set in turn\n",
    "Prior to creating any models, each feature is assessed to discover if there are any underlying issues affecting feature selection in this data set."
   ]
  },
  {
   "cell_type": "code",
   "execution_count": 277,
   "metadata": {},
   "outputs": [
    {
     "name": "stdout",
     "output_type": "stream",
     "text": [
      "<class 'pandas.core.frame.DataFrame'>\n",
      "DatetimeIndex: 3901595 entries, 1996-04-01 to 2018-04-01\n",
      "Data columns (total 8 columns):\n",
      " #   Column      Dtype  \n",
      "---  ------      -----  \n",
      " 0   regionid    int64  \n",
      " 1   zip         object \n",
      " 2   city        object \n",
      " 3   state       object \n",
      " 4   metro       object \n",
      " 5   countyname  object \n",
      " 6   sizerank    int64  \n",
      " 7   value       float64\n",
      "dtypes: float64(1), int64(2), object(5)\n",
      "memory usage: 267.9+ MB\n"
     ]
    }
   ],
   "source": [
    "zill.info()"
   ]
  },
  {
   "cell_type": "markdown",
   "metadata": {},
   "source": [
    "After initial research, Zillow defines 'sizerank' as the average house price per state divided by the population of that state."
   ]
  },
  {
   "cell_type": "markdown",
   "metadata": {},
   "source": [
    "## Datetime Index"
   ]
  },
  {
   "cell_type": "code",
   "execution_count": 278,
   "metadata": {},
   "outputs": [
    {
     "data": {
      "text/plain": [
       "265"
      ]
     },
     "execution_count": 278,
     "metadata": {},
     "output_type": "execute_result"
    }
   ],
   "source": [
    "len(zill.index.value_counts())"
   ]
  },
  {
   "cell_type": "markdown",
   "metadata": {},
   "source": [
    "__Key Takeaway__ The original data set included 265 columns for months and years with the associated price of a house.  As such, the value counts for features in the EDA for this data set must be divided by 265 to assure accurate actual counts."
   ]
  },
  {
   "cell_type": "markdown",
   "metadata": {},
   "source": [
    "### RegionID"
   ]
  },
  {
   "cell_type": "code",
   "execution_count": 279,
   "metadata": {},
   "outputs": [
    {
     "data": {
      "text/plain": [
       "63457    1.0\n",
       "92897    1.0\n",
       "60113    1.0\n",
       "99067    1.0\n",
       "74479    1.0\n",
       "        ... \n",
       "89457    1.0\n",
       "99690    1.0\n",
       "77180    1.0\n",
       "60740    1.0\n",
       "69666    1.0\n",
       "Name: regionid, Length: 14723, dtype: float64"
      ]
     },
     "execution_count": 279,
     "metadata": {},
     "output_type": "execute_result"
    }
   ],
   "source": [
    "zill.regionid.value_counts()/265"
   ]
  },
  {
   "cell_type": "code",
   "execution_count": 280,
   "metadata": {},
   "outputs": [
    {
     "data": {
      "text/plain": [
       "(1.0, 1.0)"
      ]
     },
     "execution_count": 280,
     "metadata": {},
     "output_type": "execute_result"
    }
   ],
   "source": [
    "(zill.regionid.value_counts().min()/265), (zill.regionid.value_counts().max()/265)"
   ]
  },
  {
   "cell_type": "markdown",
   "metadata": {},
   "source": [
    "__Key Takeaway__ This value is unique to all values and therefore adds no value.  It will be removed after the comparison of regions against one another.  As such, this column is added the the 'kill_cols' list for ulitmate deletion."
   ]
  },
  {
   "cell_type": "code",
   "execution_count": 281,
   "metadata": {},
   "outputs": [
    {
     "data": {
      "text/plain": [
       "New York                          206435\n",
       "Los Angeles-Long Beach-Anaheim     91955\n",
       "Chicago                            86125\n",
       "Philadelphia                       74465\n",
       "Washington                         65985\n",
       "                                   ...  \n",
       "Eagle Pass                           265\n",
       "Paragould                            265\n",
       "Silver City                          265\n",
       "Dodge City                           265\n",
       "Grants                               265\n",
       "Name: metro, Length: 701, dtype: int64"
      ]
     },
     "execution_count": 281,
     "metadata": {},
     "output_type": "execute_result"
    }
   ],
   "source": [
    "zill.metro.value_counts()"
   ]
  },
  {
   "cell_type": "code",
   "execution_count": 282,
   "metadata": {},
   "outputs": [],
   "source": [
    "kill_cols = ['regionid']"
   ]
  },
  {
   "cell_type": "markdown",
   "metadata": {},
   "source": [
    "## Zip"
   ]
  },
  {
   "cell_type": "code",
   "execution_count": 283,
   "metadata": {},
   "outputs": [
    {
     "data": {
      "text/plain": [
       "(1.0, 1.0)"
      ]
     },
     "execution_count": 283,
     "metadata": {},
     "output_type": "execute_result"
    }
   ],
   "source": [
    "(zill.zip.value_counts().min()/265), (zill.zip.value_counts().max()/265)"
   ]
  },
  {
   "cell_type": "code",
   "execution_count": 284,
   "metadata": {},
   "outputs": [
    {
     "data": {
      "text/plain": [
       "11726    265\n",
       "96782    265\n",
       "98840    265\n",
       "90402    265\n",
       "45505    265\n",
       "        ... \n",
       "2021     265\n",
       "56628    265\n",
       "17313    265\n",
       "15229    265\n",
       "31401    265\n",
       "Name: zip, Length: 14723, dtype: int64"
      ]
     },
     "execution_count": 284,
     "metadata": {},
     "output_type": "execute_result"
    }
   ],
   "source": [
    "zill.zip.value_counts()"
   ]
  },
  {
   "cell_type": "markdown",
   "metadata": {},
   "source": [
    "__Key Takeaway__  This is the value for which we are picking the \"best\" performers.  As such it will be kept for EDA purposes."
   ]
  },
  {
   "cell_type": "markdown",
   "metadata": {},
   "source": [
    "## City"
   ]
  },
  {
   "cell_type": "code",
   "execution_count": 285,
   "metadata": {},
   "outputs": [
    {
     "data": {
      "text/plain": [
       "(1.0, 114.0)"
      ]
     },
     "execution_count": 285,
     "metadata": {},
     "output_type": "execute_result"
    }
   ],
   "source": [
    "(zill.city.value_counts().min()/265), (zill.city.value_counts().max()/265)"
   ]
  },
  {
   "cell_type": "code",
   "execution_count": 286,
   "metadata": {},
   "outputs": [
    {
     "data": {
      "text/plain": [
       "New York            30210\n",
       "Los Angeles         25175\n",
       "Houston             23320\n",
       "San Antonio         12720\n",
       "Washington          11925\n",
       "                    ...  \n",
       "Walkerville           265\n",
       "Florence-Graham       265\n",
       "Commercial Point      265\n",
       "Seabeck               265\n",
       "Ball Ground           265\n",
       "Name: city, Length: 7554, dtype: int64"
      ]
     },
     "execution_count": 286,
     "metadata": {},
     "output_type": "execute_result"
    }
   ],
   "source": [
    "zill.city.value_counts()"
   ]
  },
  {
   "cell_type": "markdown",
   "metadata": {},
   "source": [
    "## State"
   ]
  },
  {
   "cell_type": "code",
   "execution_count": 287,
   "metadata": {},
   "outputs": [
    {
     "data": {
      "text/plain": [
       "(16.0, 1224.0)"
      ]
     },
     "execution_count": 287,
     "metadata": {},
     "output_type": "execute_result"
    }
   ],
   "source": [
    "(zill.state.value_counts().min()/265), (zill.state.value_counts().max()/265)"
   ]
  },
  {
   "cell_type": "code",
   "execution_count": 288,
   "metadata": {},
   "outputs": [
    {
     "data": {
      "text/plain": [
       "CA    1224.0\n",
       "NY    1015.0\n",
       "TX     989.0\n",
       "PA     831.0\n",
       "FL     785.0\n",
       "OH     588.0\n",
       "IL     547.0\n",
       "NJ     502.0\n",
       "MI     499.0\n",
       "IN     428.0\n",
       "NC     428.0\n",
       "MA     417.0\n",
       "TN     404.0\n",
       "VA     401.0\n",
       "MN     375.0\n",
       "GA     345.0\n",
       "WA     341.0\n",
       "WI     332.0\n",
       "MO     319.0\n",
       "MD     317.0\n",
       "CO     249.0\n",
       "KS     241.0\n",
       "AZ     230.0\n",
       "OR     224.0\n",
       "OK     221.0\n",
       "SC     206.0\n",
       "NH     199.0\n",
       "LA     193.0\n",
       "AL     183.0\n",
       "IA     158.0\n",
       "MS     153.0\n",
       "KY     139.0\n",
       "CT     124.0\n",
       "UT     121.0\n",
       "ID     110.0\n",
       "AR     105.0\n",
       "NV     103.0\n",
       "ME      86.0\n",
       "NE      83.0\n",
       "WV      72.0\n",
       "MT      71.0\n",
       "HI      62.0\n",
       "NM      60.0\n",
       "RI      59.0\n",
       "DE      41.0\n",
       "ND      31.0\n",
       "WY      31.0\n",
       "AK      28.0\n",
       "SD      19.0\n",
       "DC      18.0\n",
       "VT      16.0\n",
       "Name: state, dtype: float64"
      ]
     },
     "execution_count": 288,
     "metadata": {},
     "output_type": "execute_result"
    }
   ],
   "source": [
    "zill.state.value_counts()/265"
   ]
  },
  {
   "cell_type": "markdown",
   "metadata": {},
   "source": [
    "## Metro"
   ]
  },
  {
   "cell_type": "code",
   "execution_count": 289,
   "metadata": {},
   "outputs": [
    {
     "data": {
      "text/plain": [
       "(1.0, 779.0)"
      ]
     },
     "execution_count": 289,
     "metadata": {},
     "output_type": "execute_result"
    }
   ],
   "source": [
    "(zill.metro.value_counts().min()/265), (zill.metro.value_counts().max()/265)"
   ]
  },
  {
   "cell_type": "code",
   "execution_count": 290,
   "metadata": {},
   "outputs": [
    {
     "data": {
      "text/plain": [
       "New York                          779.0\n",
       "Los Angeles-Long Beach-Anaheim    347.0\n",
       "Chicago                           325.0\n",
       "Philadelphia                      281.0\n",
       "Washington                        249.0\n",
       "                                  ...  \n",
       "Eagle Pass                          1.0\n",
       "Paragould                           1.0\n",
       "Silver City                         1.0\n",
       "Dodge City                          1.0\n",
       "Grants                              1.0\n",
       "Name: metro, Length: 701, dtype: float64"
      ]
     },
     "execution_count": 290,
     "metadata": {},
     "output_type": "execute_result"
    }
   ],
   "source": [
    "zill.metro.value_counts()/265"
   ]
  },
  {
   "cell_type": "markdown",
   "metadata": {},
   "source": [
    "## CountyName"
   ]
  },
  {
   "cell_type": "code",
   "execution_count": 291,
   "metadata": {},
   "outputs": [
    {
     "data": {
      "text/plain": [
       "(1.0, 264.0)"
      ]
     },
     "execution_count": 291,
     "metadata": {},
     "output_type": "execute_result"
    }
   ],
   "source": [
    "(zill.countyname.value_counts().min()/265), (zill.countyname.value_counts().max()/265)"
   ]
  },
  {
   "cell_type": "code",
   "execution_count": 292,
   "metadata": {},
   "outputs": [
    {
     "data": {
      "text/plain": [
       "Los Angeles    264.0\n",
       "Jefferson      175.0\n",
       "Orange         166.0\n",
       "Washington     164.0\n",
       "Montgomery     159.0\n",
       "               ...  \n",
       "Randall          1.0\n",
       "Weston           1.0\n",
       "Lynn             1.0\n",
       "Meade            1.0\n",
       "Camp             1.0\n",
       "Name: countyname, Length: 1212, dtype: float64"
      ]
     },
     "execution_count": 292,
     "metadata": {},
     "output_type": "execute_result"
    }
   ],
   "source": [
    "zill.countyname.value_counts()/265"
   ]
  },
  {
   "cell_type": "markdown",
   "metadata": {},
   "source": [
    "## SizeRank"
   ]
  },
  {
   "cell_type": "code",
   "execution_count": 293,
   "metadata": {},
   "outputs": [
    {
     "data": {
      "text/plain": [
       "(1, 14723)"
      ]
     },
     "execution_count": 293,
     "metadata": {},
     "output_type": "execute_result"
    }
   ],
   "source": [
    "zill.sizerank.min(), zill.sizerank.max()"
   ]
  },
  {
   "cell_type": "code",
   "execution_count": 294,
   "metadata": {},
   "outputs": [
    {
     "data": {
      "text/plain": [
       "date\n",
       "1996-04-01        1\n",
       "1996-04-01        2\n",
       "1996-04-01        3\n",
       "1996-04-01        4\n",
       "1996-04-01        5\n",
       "              ...  \n",
       "2018-04-01    14719\n",
       "2018-04-01    14720\n",
       "2018-04-01    14721\n",
       "2018-04-01    14722\n",
       "2018-04-01    14723\n",
       "Name: sizerank, Length: 3901595, dtype: int64"
      ]
     },
     "execution_count": 294,
     "metadata": {},
     "output_type": "execute_result"
    }
   ],
   "source": [
    "zill.sizerank"
   ]
  },
  {
   "cell_type": "markdown",
   "metadata": {},
   "source": [
    "## Value"
   ]
  },
  {
   "cell_type": "code",
   "execution_count": 295,
   "metadata": {},
   "outputs": [
    {
     "data": {
      "text/plain": [
       "(11300.0, 19314900.0)"
      ]
     },
     "execution_count": 295,
     "metadata": {},
     "output_type": "execute_result"
    }
   ],
   "source": [
    "zill.value.min(), zill.value.max()"
   ]
  },
  {
   "cell_type": "code",
   "execution_count": 296,
   "metadata": {},
   "outputs": [
    {
     "data": {
      "text/plain": [
       "pandas.core.indexes.datetimes.DatetimeIndex"
      ]
     },
     "execution_count": 296,
     "metadata": {},
     "output_type": "execute_result"
    }
   ],
   "source": [
    "type(zill.index)"
   ]
  },
  {
   "cell_type": "markdown",
   "metadata": {},
   "source": [
    "### Let's first explore all house values by year in the data set"
   ]
  },
  {
   "cell_type": "code",
   "execution_count": 297,
   "metadata": {},
   "outputs": [
    {
     "data": {
      "text/plain": [
       "Index(['regionid', 'zip', 'city', 'state', 'metro', 'countyname', 'sizerank',\n",
       "       'value'],\n",
       "      dtype='object')"
      ]
     },
     "execution_count": 297,
     "metadata": {},
     "output_type": "execute_result"
    }
   ],
   "source": [
    "zill.columns"
   ]
  },
  {
   "cell_type": "code",
   "execution_count": 298,
   "metadata": {},
   "outputs": [],
   "source": [
    "yearly = zill.groupby([zill.index.year, zill.zip]).agg({'regionid': 'min', 'sizerank': 'min', 'value': 'mean'})"
   ]
  },
  {
   "cell_type": "code",
   "execution_count": 299,
   "metadata": {},
   "outputs": [
    {
     "data": {
      "text/plain": [
       "Int64Index([1996, 1996, 1996, 1996, 1996, 1996, 1996, 1996, 1996, 1996,\n",
       "            ...\n",
       "            2018, 2018, 2018, 2018, 2018, 2018, 2018, 2018, 2018, 2018],\n",
       "           dtype='int64', name='date', length=338629)"
      ]
     },
     "execution_count": 299,
     "metadata": {},
     "output_type": "execute_result"
    }
   ],
   "source": [
    "yearly.index.get_level_values(0)"
   ]
  },
  {
   "cell_type": "code",
   "execution_count": 300,
   "metadata": {},
   "outputs": [],
   "source": [
    "sns.set()"
   ]
  },
  {
   "cell_type": "code",
   "execution_count": 301,
   "metadata": {},
   "outputs": [
    {
     "data": {
      "image/png": "[encoded data removed]",
      "text/plain": [
       "<Figure size 432x288 with 1 Axes>"
      ]
     },
     "metadata": {},
     "output_type": "display_data"
    }
   ],
   "source": [
    "yearly_lineplot = sns.lineplot(x = yearly.index.get_level_values(0), \n",
    "                               y = 'value', \n",
    "                               data = yearly);"
   ]
  },
  {
   "cell_type": "code",
   "execution_count": 302,
   "metadata": {},
   "outputs": [],
   "source": [
    "fig = yearly_lineplot.get_figure()    \n",
    "fig.savefig('../viz/all_values_annual.png')"
   ]
  },
  {
   "cell_type": "markdown",
   "metadata": {},
   "source": [
    "__Key takeaway__: It appears that there was a dip in the mean of all housing prices starting in 2006 hitting the bottom in 2011 and rebounding through 2018.  Perhaps it's best to investigate housing value from 2011 through 2018.  With that said, it would be interesting to see which zip codes exhibited resilience to the housing crisis from 2006 to 2011 as a potential future indicator of retained value through a national crisis."
   ]
  },
  {
   "cell_type": "code",
   "execution_count": 303,
   "metadata": {},
   "outputs": [],
   "source": [
    "y2011_on = yearly.loc[(yearly.index.get_level_values(0) >= 2011)]"
   ]
  },
  {
   "cell_type": "code",
   "execution_count": 304,
   "metadata": {},
   "outputs": [
    {
     "data": {
      "text/plain": [
       "Int64Index([2011, 2011, 2011, 2011, 2011, 2011, 2011, 2011, 2011, 2011,\n",
       "            ...\n",
       "            2018, 2018, 2018, 2018, 2018, 2018, 2018, 2018, 2018, 2018],\n",
       "           dtype='int64', name='date', length=117784)"
      ]
     },
     "execution_count": 304,
     "metadata": {},
     "output_type": "execute_result"
    }
   ],
   "source": [
    "y2011_on.index.get_level_values(0)"
   ]
  },
  {
   "cell_type": "code",
   "execution_count": 305,
   "metadata": {},
   "outputs": [],
   "source": [
    "y2011_to_2018 = pd.DataFrame()\n",
    "vals_2018 = y2011_on.loc[(y2011_on.index.get_level_values(0) == 2018)].value\n",
    "vals_2011 = y2011_on.loc[(y2011_on.index.get_level_values(0) == 2011)].value"
   ]
  },
  {
   "cell_type": "code",
   "execution_count": 306,
   "metadata": {},
   "outputs": [
    {
     "data": {
      "text/plain": [
       "date  zip  \n",
       "2011  1001     1.885083e+05\n",
       "      10011    6.639325e+06\n",
       "      10014    6.864725e+06\n",
       "      1002     3.040417e+05\n",
       "      10021    1.282832e+07\n",
       "                   ...     \n",
       "      99709    2.598333e+05\n",
       "      99712    2.705667e+05\n",
       "      99801    3.337750e+05\n",
       "      99835    3.161333e+05\n",
       "      99901    2.475000e+05\n",
       "Name: value, Length: 14723, dtype: float64"
      ]
     },
     "execution_count": 306,
     "metadata": {},
     "output_type": "execute_result"
    }
   ],
   "source": [
    "vals_2011"
   ]
  },
  {
   "cell_type": "code",
   "execution_count": null,
   "metadata": {},
   "outputs": [],
   "source": []
  },
  {
   "cell_type": "code",
   "execution_count": 307,
   "metadata": {},
   "outputs": [],
   "source": [
    "z = y2011_on.loc[(y2011_on.index.get_level_values(0) == 2018)].index.get_level_values(1).to_list()\n",
    "v_2011 = vals_2011.to_list()\n",
    "v_2018 = vals_2018.to_list()"
   ]
  },
  {
   "cell_type": "code",
   "execution_count": 308,
   "metadata": {},
   "outputs": [],
   "source": [
    "y2011_to_2018 = pd.DataFrame()\n",
    "y2011_to_2018['zips'] = z\n",
    "y2011_to_2018['v_2011'] = v_2011\n",
    "y2011_to_2018['v_2018'] = v_2018\n",
    "y2011_to_2018['18_less_11'] = y2011_to_2018.v_2018 - y2011_to_2018.v_2011"
   ]
  },
  {
   "cell_type": "code",
   "execution_count": 309,
   "metadata": {},
   "outputs": [],
   "source": [
    "top10 = y2011_to_2018.sort_values(by = '18_less_11', ascending = False).head(10)"
   ]
  },
  {
   "cell_type": "code",
   "execution_count": 310,
   "metadata": {},
   "outputs": [
    {
     "data": {
      "text/html": [
       "<div>\n",
       "<style scoped>\n",
       "    .dataframe tbody tr th:only-of-type {\n",
       "        vertical-align: middle;\n",
       "    }\n",
       "\n",
       "    .dataframe tbody tr th {\n",
       "        vertical-align: top;\n",
       "    }\n",
       "\n",
       "    .dataframe thead th {\n",
       "        text-align: right;\n",
       "    }\n",
       "</style>\n",
       "<table border=\"1\" class=\"dataframe\">\n",
       "  <thead>\n",
       "    <tr style=\"text-align: right;\">\n",
       "      <th></th>\n",
       "      <th>zips</th>\n",
       "      <th>v_2011</th>\n",
       "      <th>v_2018</th>\n",
       "      <th>18_less_11</th>\n",
       "    </tr>\n",
       "  </thead>\n",
       "  <tbody>\n",
       "    <tr>\n",
       "      <th>4</th>\n",
       "      <td>10021</td>\n",
       "      <td>1.282832e+07</td>\n",
       "      <td>18282225.0</td>\n",
       "      <td>5.453900e+06</td>\n",
       "    </tr>\n",
       "    <tr>\n",
       "      <th>1</th>\n",
       "      <td>10011</td>\n",
       "      <td>6.639325e+06</td>\n",
       "      <td>11717175.0</td>\n",
       "      <td>5.077850e+06</td>\n",
       "    </tr>\n",
       "    <tr>\n",
       "      <th>13590</th>\n",
       "      <td>94027</td>\n",
       "      <td>3.018625e+06</td>\n",
       "      <td>6763625.0</td>\n",
       "      <td>3.745000e+06</td>\n",
       "    </tr>\n",
       "    <tr>\n",
       "      <th>12902</th>\n",
       "      <td>90210</td>\n",
       "      <td>2.536608e+06</td>\n",
       "      <td>5854700.0</td>\n",
       "      <td>3.318092e+06</td>\n",
       "    </tr>\n",
       "    <tr>\n",
       "      <th>13628</th>\n",
       "      <td>94301</td>\n",
       "      <td>1.792317e+06</td>\n",
       "      <td>4711200.0</td>\n",
       "      <td>2.918883e+06</td>\n",
       "    </tr>\n",
       "    <tr>\n",
       "      <th>13587</th>\n",
       "      <td>94022</td>\n",
       "      <td>1.739783e+06</td>\n",
       "      <td>4275175.0</td>\n",
       "      <td>2.535392e+06</td>\n",
       "    </tr>\n",
       "    <tr>\n",
       "      <th>2</th>\n",
       "      <td>10014</td>\n",
       "      <td>6.864725e+06</td>\n",
       "      <td>9244300.0</td>\n",
       "      <td>2.379575e+06</td>\n",
       "    </tr>\n",
       "    <tr>\n",
       "      <th>4691</th>\n",
       "      <td>33480</td>\n",
       "      <td>2.482375e+06</td>\n",
       "      <td>4666550.0</td>\n",
       "      <td>2.184175e+06</td>\n",
       "    </tr>\n",
       "    <tr>\n",
       "      <th>13621</th>\n",
       "      <td>94123</td>\n",
       "      <td>2.456875e+06</td>\n",
       "      <td>4625525.0</td>\n",
       "      <td>2.168650e+06</td>\n",
       "    </tr>\n",
       "    <tr>\n",
       "      <th>12940</th>\n",
       "      <td>90402</td>\n",
       "      <td>2.135925e+06</td>\n",
       "      <td>4156500.0</td>\n",
       "      <td>2.020575e+06</td>\n",
       "    </tr>\n",
       "  </tbody>\n",
       "</table>\n",
       "</div>"
      ],
      "text/plain": [
       "        zips        v_2011      v_2018    18_less_11\n",
       "4      10021  1.282832e+07  18282225.0  5.453900e+06\n",
       "1      10011  6.639325e+06  11717175.0  5.077850e+06\n",
       "13590  94027  3.018625e+06   6763625.0  3.745000e+06\n",
       "12902  90210  2.536608e+06   5854700.0  3.318092e+06\n",
       "13628  94301  1.792317e+06   4711200.0  2.918883e+06\n",
       "13587  94022  1.739783e+06   4275175.0  2.535392e+06\n",
       "2      10014  6.864725e+06   9244300.0  2.379575e+06\n",
       "4691   33480  2.482375e+06   4666550.0  2.184175e+06\n",
       "13621  94123  2.456875e+06   4625525.0  2.168650e+06\n",
       "12940  90402  2.135925e+06   4156500.0  2.020575e+06"
      ]
     },
     "execution_count": 310,
     "metadata": {},
     "output_type": "execute_result"
    }
   ],
   "source": [
    "top10"
   ]
  },
  {
   "cell_type": "code",
   "execution_count": 311,
   "metadata": {},
   "outputs": [
    {
     "data": {
      "image/png": "[encoded data removed]",
      "text/plain": [
       "<Figure size 842.4x595.44 with 1 Axes>"
      ]
     },
     "metadata": {},
     "output_type": "display_data"
    }
   ],
   "source": [
    "sns.catplot(x = 'zips', \n",
    "            y = '18_less_11', \n",
    "            data = top10, \n",
    "            hue = 'zips', \n",
    "            kind = 'bar', \n",
    "            height=8.27, \n",
    "            aspect=11.7/8.27);"
   ]
  },
  {
   "cell_type": "code",
   "execution_count": null,
   "metadata": {},
   "outputs": [],
   "source": [
    "y2011_on_lineplot = sns.lineplot(x = y2011_on.index.get_level_values(0),\n",
    "                                 y = 'value',\n",
    "                                 data = y2011_on, \n",
    "                                 hue = y2011_on.index.get_level_values(1));"
   ]
  },
  {
   "cell_type": "code",
   "execution_count": null,
   "metadata": {},
   "outputs": [],
   "source": [
    "fig2011 = y2011_on_lineplot.get_figure()    \n",
    "fig2011.savefig('../viz/all_values_annual.png')"
   ]
  },
  {
   "cell_type": "code",
   "execution_count": null,
   "metadata": {},
   "outputs": [],
   "source": []
  },
  {
   "cell_type": "code",
   "execution_count": null,
   "metadata": {},
   "outputs": [],
   "source": []
  },
  {
   "cell_type": "code",
   "execution_count": null,
   "metadata": {},
   "outputs": [],
   "source": []
  }
 ],
 "metadata": {
  "kernelspec": {
   "display_name": "Python 3",
   "language": "python",
   "name": "python3"
  },
  "language_info": {
   "codemirror_mode": {
    "name": "ipython",
    "version": 3
   },
   "file_extension": ".py",
   "mimetype": "text/x-python",
   "name": "python",
   "nbconvert_exporter": "python",
   "pygments_lexer": "ipython3",
   "version": "3.7.7"
  }
 },
 "nbformat": 4,
 "nbformat_minor": 4
}
