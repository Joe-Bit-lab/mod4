{
 "cells": [
  {
   "cell_type": "markdown",
   "metadata": {},
   "source": [
    "# Exploratory Data Analysis (EDA) of Zillow Data\n",
    "In this notebook initial EDA is conducted on the Zillow data set.\n",
    "\n",
    "## Import required packages"
   ]
  },
  {
   "cell_type": "code",
   "execution_count": 13,
   "metadata": {},
   "outputs": [],
   "source": [
    "import pandas as pd\n",
    "import numpy as np\n",
    "import seaborn as sns"
   ]
  },
  {
   "cell_type": "markdown",
   "metadata": {},
   "source": [
    "## Import processed data\n",
    "- Columns are in lower case\n",
    "- Zip code column renamed to zip\n",
    "- Index set to date column in datetime format"
   ]
  },
  {
   "cell_type": "code",
   "execution_count": 14,
   "metadata": {},
   "outputs": [],
   "source": [
    "zill = pd.read_csv('../data/processed/zillow_time_index.csv', index_col=0)"
   ]
  },
  {
   "cell_type": "code",
   "execution_count": 15,
   "metadata": {},
   "outputs": [
    {
     "data": {
      "text/plain": [
       "Index(['regionid', 'zip', 'city', 'state', 'metro', 'countyname', 'sizerank',\n",
       "       'value'],\n",
       "      dtype='object')"
      ]
     },
     "execution_count": 15,
     "metadata": {},
     "output_type": "execute_result"
    }
   ],
   "source": [
    "zill.columns"
   ]
  },
  {
   "cell_type": "code",
   "execution_count": 16,
   "metadata": {},
   "outputs": [
    {
     "data": {
      "text/html": [
       "<div>\n",
       "<style scoped>\n",
       "    .dataframe tbody tr th:only-of-type {\n",
       "        vertical-align: middle;\n",
       "    }\n",
       "\n",
       "    .dataframe tbody tr th {\n",
       "        vertical-align: top;\n",
       "    }\n",
       "\n",
       "    .dataframe thead th {\n",
       "        text-align: right;\n",
       "    }\n",
       "</style>\n",
       "<table border=\"1\" class=\"dataframe\">\n",
       "  <thead>\n",
       "    <tr style=\"text-align: right;\">\n",
       "      <th></th>\n",
       "      <th>regionid</th>\n",
       "      <th>zip</th>\n",
       "      <th>city</th>\n",
       "      <th>state</th>\n",
       "      <th>metro</th>\n",
       "      <th>countyname</th>\n",
       "      <th>sizerank</th>\n",
       "      <th>value</th>\n",
       "    </tr>\n",
       "    <tr>\n",
       "      <th>date</th>\n",
       "      <th></th>\n",
       "      <th></th>\n",
       "      <th></th>\n",
       "      <th></th>\n",
       "      <th></th>\n",
       "      <th></th>\n",
       "      <th></th>\n",
       "      <th></th>\n",
       "    </tr>\n",
       "  </thead>\n",
       "  <tbody>\n",
       "    <tr>\n",
       "      <th>1996-04-01</th>\n",
       "      <td>84654</td>\n",
       "      <td>60657</td>\n",
       "      <td>Chicago</td>\n",
       "      <td>IL</td>\n",
       "      <td>Chicago</td>\n",
       "      <td>Cook</td>\n",
       "      <td>1</td>\n",
       "      <td>334200.0</td>\n",
       "    </tr>\n",
       "    <tr>\n",
       "      <th>1996-04-01</th>\n",
       "      <td>90668</td>\n",
       "      <td>75070</td>\n",
       "      <td>McKinney</td>\n",
       "      <td>TX</td>\n",
       "      <td>Dallas-Fort Worth</td>\n",
       "      <td>Collin</td>\n",
       "      <td>2</td>\n",
       "      <td>235700.0</td>\n",
       "    </tr>\n",
       "    <tr>\n",
       "      <th>1996-04-01</th>\n",
       "      <td>91982</td>\n",
       "      <td>77494</td>\n",
       "      <td>Katy</td>\n",
       "      <td>TX</td>\n",
       "      <td>Houston</td>\n",
       "      <td>Harris</td>\n",
       "      <td>3</td>\n",
       "      <td>210400.0</td>\n",
       "    </tr>\n",
       "    <tr>\n",
       "      <th>1996-04-01</th>\n",
       "      <td>84616</td>\n",
       "      <td>60614</td>\n",
       "      <td>Chicago</td>\n",
       "      <td>IL</td>\n",
       "      <td>Chicago</td>\n",
       "      <td>Cook</td>\n",
       "      <td>4</td>\n",
       "      <td>498100.0</td>\n",
       "    </tr>\n",
       "    <tr>\n",
       "      <th>1996-04-01</th>\n",
       "      <td>93144</td>\n",
       "      <td>79936</td>\n",
       "      <td>El Paso</td>\n",
       "      <td>TX</td>\n",
       "      <td>El Paso</td>\n",
       "      <td>El Paso</td>\n",
       "      <td>5</td>\n",
       "      <td>77300.0</td>\n",
       "    </tr>\n",
       "  </tbody>\n",
       "</table>\n",
       "</div>"
      ],
      "text/plain": [
       "            regionid    zip      city state              metro countyname  \\\n",
       "date                                                                        \n",
       "1996-04-01     84654  60657   Chicago    IL            Chicago       Cook   \n",
       "1996-04-01     90668  75070  McKinney    TX  Dallas-Fort Worth     Collin   \n",
       "1996-04-01     91982  77494      Katy    TX            Houston     Harris   \n",
       "1996-04-01     84616  60614   Chicago    IL            Chicago       Cook   \n",
       "1996-04-01     93144  79936   El Paso    TX            El Paso    El Paso   \n",
       "\n",
       "            sizerank     value  \n",
       "date                            \n",
       "1996-04-01         1  334200.0  \n",
       "1996-04-01         2  235700.0  \n",
       "1996-04-01         3  210400.0  \n",
       "1996-04-01         4  498100.0  \n",
       "1996-04-01         5   77300.0  "
      ]
     },
     "execution_count": 16,
     "metadata": {},
     "output_type": "execute_result"
    }
   ],
   "source": [
    "zill.head()"
   ]
  },
  {
   "cell_type": "markdown",
   "metadata": {},
   "source": [
    "## Below, each feature is analyzed for the data set in turn\n",
    "Prior to creating any models, each feature is assessed to discover if there are any underlying issues affecting feature selection in this data set."
   ]
  },
  {
   "cell_type": "code",
   "execution_count": 17,
   "metadata": {},
   "outputs": [
    {
     "name": "stdout",
     "output_type": "stream",
     "text": [
      "<class 'pandas.core.frame.DataFrame'>\n",
      "Index: 3901595 entries, 1996-04-01 to 2018-04-01\n",
      "Data columns (total 8 columns):\n",
      " #   Column      Dtype  \n",
      "---  ------      -----  \n",
      " 0   regionid    int64  \n",
      " 1   zip         int64  \n",
      " 2   city        object \n",
      " 3   state       object \n",
      " 4   metro       object \n",
      " 5   countyname  object \n",
      " 6   sizerank    int64  \n",
      " 7   value       float64\n",
      "dtypes: float64(1), int64(3), object(4)\n",
      "memory usage: 267.9+ MB\n"
     ]
    }
   ],
   "source": [
    "zill.info()"
   ]
  },
  {
   "cell_type": "markdown",
   "metadata": {},
   "source": [
    "After initial research, Zillow defines 'sizerank' as the average house price per state divided by the population of that state."
   ]
  },
  {
   "cell_type": "markdown",
   "metadata": {},
   "source": [
    "## Datetime Index"
   ]
  },
  {
   "cell_type": "code",
   "execution_count": 20,
   "metadata": {},
   "outputs": [
    {
     "data": {
      "text/plain": [
       "265"
      ]
     },
     "execution_count": 20,
     "metadata": {},
     "output_type": "execute_result"
    }
   ],
   "source": [
    "len(zill.index.value_counts())"
   ]
  },
  {
   "cell_type": "markdown",
   "metadata": {},
   "source": [
    "__Key Takeaway__ The original data set included 265 columns for months and years with the associated price of a house.  As such, the value counts for features in the EDA for this data set must be divided by 265 to assure accurate actual counts."
   ]
  },
  {
   "cell_type": "markdown",
   "metadata": {},
   "source": [
    "### RegionID"
   ]
  },
  {
   "cell_type": "code",
   "execution_count": 34,
   "metadata": {},
   "outputs": [
    {
     "data": {
      "text/plain": [
       "63457    1.0\n",
       "92897    1.0\n",
       "60113    1.0\n",
       "99067    1.0\n",
       "74479    1.0\n",
       "        ... \n",
       "89457    1.0\n",
       "99690    1.0\n",
       "77180    1.0\n",
       "60740    1.0\n",
       "69666    1.0\n",
       "Name: regionid, Length: 14723, dtype: float64"
      ]
     },
     "execution_count": 34,
     "metadata": {},
     "output_type": "execute_result"
    }
   ],
   "source": [
    "zill.regionid.value_counts()/265"
   ]
  },
  {
   "cell_type": "code",
   "execution_count": 44,
   "metadata": {},
   "outputs": [
    {
     "data": {
      "text/plain": [
       "(1.0, 1.0)"
      ]
     },
     "execution_count": 44,
     "metadata": {},
     "output_type": "execute_result"
    }
   ],
   "source": [
    "(zill.regionid.value_counts().min()/265), (zill.regionid.value_counts().max()/265)"
   ]
  },
  {
   "cell_type": "markdown",
   "metadata": {},
   "source": [
    "__Key Takeaway__ This value is unique to all values and therefore adds no value.  It will be removed after the comparison of regions against one another.  As such, this column is added the the 'kill_cols' list for ulitmate deletion."
   ]
  },
  {
   "cell_type": "code",
   "execution_count": 23,
   "metadata": {},
   "outputs": [
    {
     "data": {
      "text/plain": [
       "New York                          206435\n",
       "Los Angeles-Long Beach-Anaheim     91955\n",
       "Chicago                            86125\n",
       "Philadelphia                       74465\n",
       "Washington                         65985\n",
       "                                   ...  \n",
       "Clarksdale                           265\n",
       "Alamogordo                           265\n",
       "Beeville                             265\n",
       "Alice                                265\n",
       "Sweetwater                           265\n",
       "Name: metro, Length: 701, dtype: int64"
      ]
     },
     "execution_count": 23,
     "metadata": {},
     "output_type": "execute_result"
    }
   ],
   "source": [
    "zill.metro.value_counts()"
   ]
  },
  {
   "cell_type": "code",
   "execution_count": 45,
   "metadata": {},
   "outputs": [],
   "source": [
    "kill_cols = ['regionid']"
   ]
  },
  {
   "cell_type": "markdown",
   "metadata": {},
   "source": [
    "## Zip"
   ]
  },
  {
   "cell_type": "code",
   "execution_count": 46,
   "metadata": {},
   "outputs": [
    {
     "data": {
      "text/plain": [
       "(1.0, 1.0)"
      ]
     },
     "execution_count": 46,
     "metadata": {},
     "output_type": "execute_result"
    }
   ],
   "source": [
    "(zill.zip.value_counts().min()/265), (zill.zip.value_counts().max()/265)"
   ]
  },
  {
   "cell_type": "markdown",
   "metadata": {},
   "source": [
    "__Key Takeaway__  This is the value for which we are picking the \"best\" performers.  As such it will be kept for EDA purposes."
   ]
  },
  {
   "cell_type": "markdown",
   "metadata": {},
   "source": [
    "## City"
   ]
  },
  {
   "cell_type": "code",
   "execution_count": 47,
   "metadata": {},
   "outputs": [
    {
     "data": {
      "text/plain": [
       "(1.0, 114.0)"
      ]
     },
     "execution_count": 47,
     "metadata": {},
     "output_type": "execute_result"
    }
   ],
   "source": [
    "(zill.city.value_counts().min()/265), (zill.city.value_counts().max()/265)"
   ]
  },
  {
   "cell_type": "code",
   "execution_count": 48,
   "metadata": {},
   "outputs": [
    {
     "data": {
      "text/plain": [
       "New York            30210\n",
       "Los Angeles         25175\n",
       "Houston             23320\n",
       "San Antonio         12720\n",
       "Washington          11925\n",
       "                    ...  \n",
       "Minneota              265\n",
       "Southern Shores       265\n",
       "Camp Hill             265\n",
       "Oronoko               265\n",
       "Highland Springs      265\n",
       "Name: city, Length: 7554, dtype: int64"
      ]
     },
     "execution_count": 48,
     "metadata": {},
     "output_type": "execute_result"
    }
   ],
   "source": [
    "zill.city.value_counts()"
   ]
  },
  {
   "cell_type": "markdown",
   "metadata": {},
   "source": [
    "## State"
   ]
  },
  {
   "cell_type": "code",
   "execution_count": 49,
   "metadata": {},
   "outputs": [
    {
     "data": {
      "text/plain": [
       "(16.0, 1224.0)"
      ]
     },
     "execution_count": 49,
     "metadata": {},
     "output_type": "execute_result"
    }
   ],
   "source": [
    "(zill.state.value_counts().min()/265), (zill.state.value_counts().max()/265)"
   ]
  },
  {
   "cell_type": "code",
   "execution_count": 58,
   "metadata": {},
   "outputs": [
    {
     "data": {
      "text/plain": [
       "CA    1224.0\n",
       "NY    1015.0\n",
       "TX     989.0\n",
       "PA     831.0\n",
       "FL     785.0\n",
       "OH     588.0\n",
       "IL     547.0\n",
       "NJ     502.0\n",
       "MI     499.0\n",
       "NC     428.0\n",
       "IN     428.0\n",
       "MA     417.0\n",
       "TN     404.0\n",
       "VA     401.0\n",
       "MN     375.0\n",
       "GA     345.0\n",
       "WA     341.0\n",
       "WI     332.0\n",
       "MO     319.0\n",
       "MD     317.0\n",
       "CO     249.0\n",
       "KS     241.0\n",
       "AZ     230.0\n",
       "OR     224.0\n",
       "OK     221.0\n",
       "SC     206.0\n",
       "NH     199.0\n",
       "LA     193.0\n",
       "AL     183.0\n",
       "IA     158.0\n",
       "MS     153.0\n",
       "KY     139.0\n",
       "CT     124.0\n",
       "UT     121.0\n",
       "ID     110.0\n",
       "AR     105.0\n",
       "NV     103.0\n",
       "ME      86.0\n",
       "NE      83.0\n",
       "WV      72.0\n",
       "MT      71.0\n",
       "HI      62.0\n",
       "NM      60.0\n",
       "RI      59.0\n",
       "DE      41.0\n",
       "WY      31.0\n",
       "ND      31.0\n",
       "AK      28.0\n",
       "SD      19.0\n",
       "DC      18.0\n",
       "VT      16.0\n",
       "Name: state, dtype: float64"
      ]
     },
     "execution_count": 58,
     "metadata": {},
     "output_type": "execute_result"
    }
   ],
   "source": [
    "zill.state.value_counts()/265"
   ]
  },
  {
   "cell_type": "markdown",
   "metadata": {},
   "source": [
    "## Metro"
   ]
  },
  {
   "cell_type": "code",
   "execution_count": 50,
   "metadata": {},
   "outputs": [
    {
     "data": {
      "text/plain": [
       "(1.0, 779.0)"
      ]
     },
     "execution_count": 50,
     "metadata": {},
     "output_type": "execute_result"
    }
   ],
   "source": [
    "(zill.metro.value_counts().min()/265), (zill.metro.value_counts().max()/265)"
   ]
  },
  {
   "cell_type": "code",
   "execution_count": 59,
   "metadata": {},
   "outputs": [
    {
     "data": {
      "text/plain": [
       "New York                          779.0\n",
       "Los Angeles-Long Beach-Anaheim    347.0\n",
       "Chicago                           325.0\n",
       "Philadelphia                      281.0\n",
       "Washington                        249.0\n",
       "                                  ...  \n",
       "Clarksdale                          1.0\n",
       "Alamogordo                          1.0\n",
       "Beeville                            1.0\n",
       "Alice                               1.0\n",
       "Sweetwater                          1.0\n",
       "Name: metro, Length: 701, dtype: float64"
      ]
     },
     "execution_count": 59,
     "metadata": {},
     "output_type": "execute_result"
    }
   ],
   "source": [
    "zill.metro.value_counts()/265"
   ]
  },
  {
   "cell_type": "markdown",
   "metadata": {},
   "source": [
    "## CountyName"
   ]
  },
  {
   "cell_type": "code",
   "execution_count": 51,
   "metadata": {},
   "outputs": [
    {
     "data": {
      "text/plain": [
       "(1.0, 264.0)"
      ]
     },
     "execution_count": 51,
     "metadata": {},
     "output_type": "execute_result"
    }
   ],
   "source": [
    "(zill.countyname.value_counts().min()/265), (zill.countyname.value_counts().max()/265)"
   ]
  },
  {
   "cell_type": "code",
   "execution_count": 60,
   "metadata": {},
   "outputs": [
    {
     "data": {
      "text/plain": [
       "Los Angeles    264.0\n",
       "Jefferson      175.0\n",
       "Orange         166.0\n",
       "Washington     164.0\n",
       "Montgomery     159.0\n",
       "               ...  \n",
       "Bullitt          1.0\n",
       "Erath            1.0\n",
       "Bailey           1.0\n",
       "Yankton          1.0\n",
       "Lemhi            1.0\n",
       "Name: countyname, Length: 1212, dtype: float64"
      ]
     },
     "execution_count": 60,
     "metadata": {},
     "output_type": "execute_result"
    }
   ],
   "source": [
    "zill.countyname.value_counts()/265"
   ]
  },
  {
   "cell_type": "markdown",
   "metadata": {},
   "source": [
    "## SizeRank"
   ]
  },
  {
   "cell_type": "code",
   "execution_count": 65,
   "metadata": {},
   "outputs": [
    {
     "data": {
      "text/plain": [
       "(1, 14723)"
      ]
     },
     "execution_count": 65,
     "metadata": {},
     "output_type": "execute_result"
    }
   ],
   "source": [
    "zill.sizerank.min(), zill.sizerank.max()"
   ]
  },
  {
   "cell_type": "code",
   "execution_count": 64,
   "metadata": {},
   "outputs": [
    {
     "data": {
      "text/plain": [
       "date\n",
       "1996-04-01        1\n",
       "1996-04-01        2\n",
       "1996-04-01        3\n",
       "1996-04-01        4\n",
       "1996-04-01        5\n",
       "              ...  \n",
       "2018-04-01    14719\n",
       "2018-04-01    14720\n",
       "2018-04-01    14721\n",
       "2018-04-01    14722\n",
       "2018-04-01    14723\n",
       "Name: sizerank, Length: 3901595, dtype: int64"
      ]
     },
     "execution_count": 64,
     "metadata": {},
     "output_type": "execute_result"
    }
   ],
   "source": [
    "zill.sizerank"
   ]
  },
  {
   "cell_type": "markdown",
   "metadata": {},
   "source": [
    "## Value"
   ]
  },
  {
   "cell_type": "code",
   "execution_count": 56,
   "metadata": {},
   "outputs": [
    {
     "data": {
      "text/plain": [
       "(11300.0, 19314900.0)"
      ]
     },
     "execution_count": 56,
     "metadata": {},
     "output_type": "execute_result"
    }
   ],
   "source": [
    "zill.value.min(), zill.value.max()"
   ]
  },
  {
   "cell_type": "code",
   "execution_count": null,
   "metadata": {},
   "outputs": [],
   "source": [
    "sns.relplot(x = zill.index, y = zill.value, kind='line', data = zill)"
   ]
  },
  {
   "cell_type": "code",
   "execution_count": null,
   "metadata": {},
   "outputs": [],
   "source": []
  }
 ],
 "metadata": {
  "kernelspec": {
   "display_name": "Python 3",
   "language": "python",
   "name": "python3"
  },
  "language_info": {
   "codemirror_mode": {
    "name": "ipython",
    "version": 3
   },
   "file_extension": ".py",
   "mimetype": "text/x-python",
   "name": "python",
   "nbconvert_exporter": "python",
   "pygments_lexer": "ipython3",
   "version": "3.7.7"
  }
 },
 "nbformat": 4,
 "nbformat_minor": 4
}
