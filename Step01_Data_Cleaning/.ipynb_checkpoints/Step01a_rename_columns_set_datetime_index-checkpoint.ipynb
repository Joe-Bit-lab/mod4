{
 "cells": [
  {
   "cell_type": "markdown",
   "metadata": {},
   "source": [
    "# Zillow data cleaning\n",
    "In this notebook, the following steps are taken to clean the Zillow housing value data:\n",
    "- Reformat data set from wide to long format\n",
    "- Interpelate missing values\n",
    "- Make dates datetime objects\n",
    "- Set date as index\n",
    "- Export data set"
   ]
  },
  {
   "cell_type": "code",
   "execution_count": 1,
   "metadata": {},
   "outputs": [],
   "source": [
    "import pandas as pd\n",
    "import numpy as np\n",
    "import normal_former as nofo"
   ]
  },
  {
   "cell_type": "code",
   "execution_count": 2,
   "metadata": {},
   "outputs": [],
   "source": [
    "# Import raw data in wide format and use the normal_former package (custom made) to covert to long format\n",
    "wide_df = pd.read_csv('../data/raw/zillow_data.csv', dtype = {'RegionID': 'object', \n",
    "                            'RegionName': 'object', \n",
    "                            'City': 'object', \n",
    "                            'State': 'object', \n",
    "                            'Metro': 'object', \n",
    "                            'CountyName': 'object', \n",
    "                            'SizeRank': 'int64',\n",
    "                            'Value': 'float64'})\n",
    "df = wide_df\n",
    "\n",
    "cols_n_index = nofo.indexCols(df)\n",
    "\n",
    "cols2rows = list(range(7,272))\n",
    "\n",
    "cols2rows = nofo.index_c2r(cols_n_index, cols2rows)\n",
    "\n",
    "keep_cols_df = nofo.keep_df(df, cols2rows)\n",
    "tab_df = nofo.make_shell(cols2rows, keep_cols_df)\n",
    "nofo.add_cols2shell(keep_cols_df, tab_df)    \n",
    "\n",
    "nofo.dates2rows(cols2rows, df, tab_df)\n",
    "nofo.vals2rows(cols2rows, df, tab_df)\n",
    "zill = tab_df"
   ]
  },
  {
   "cell_type": "code",
   "execution_count": 3,
   "metadata": {},
   "outputs": [
    {
     "data": {
      "text/plain": [
       "RegionID       object\n",
       "RegionName     object\n",
       "City           object\n",
       "State          object\n",
       "Metro          object\n",
       "CountyName     object\n",
       "SizeRank        int64\n",
       "Date           object\n",
       "Value         float64\n",
       "dtype: object"
      ]
     },
     "execution_count": 3,
     "metadata": {},
     "output_type": "execute_result"
    }
   ],
   "source": [
    "zill.dtypes"
   ]
  },
  {
   "cell_type": "code",
   "execution_count": 4,
   "metadata": {},
   "outputs": [
    {
     "data": {
      "text/html": [
       "<div>\n",
       "<style scoped>\n",
       "    .dataframe tbody tr th:only-of-type {\n",
       "        vertical-align: middle;\n",
       "    }\n",
       "\n",
       "    .dataframe tbody tr th {\n",
       "        vertical-align: top;\n",
       "    }\n",
       "\n",
       "    .dataframe thead th {\n",
       "        text-align: right;\n",
       "    }\n",
       "</style>\n",
       "<table border=\"1\" class=\"dataframe\">\n",
       "  <thead>\n",
       "    <tr style=\"text-align: right;\">\n",
       "      <th></th>\n",
       "      <th>RegionID</th>\n",
       "      <th>RegionName</th>\n",
       "      <th>City</th>\n",
       "      <th>State</th>\n",
       "      <th>Metro</th>\n",
       "      <th>CountyName</th>\n",
       "      <th>SizeRank</th>\n",
       "      <th>Date</th>\n",
       "      <th>Value</th>\n",
       "    </tr>\n",
       "  </thead>\n",
       "  <tbody>\n",
       "    <tr>\n",
       "      <th>0</th>\n",
       "      <td>84654</td>\n",
       "      <td>60657</td>\n",
       "      <td>Chicago</td>\n",
       "      <td>IL</td>\n",
       "      <td>Chicago</td>\n",
       "      <td>Cook</td>\n",
       "      <td>1</td>\n",
       "      <td>1996-04</td>\n",
       "      <td>334200.0</td>\n",
       "    </tr>\n",
       "    <tr>\n",
       "      <th>1</th>\n",
       "      <td>90668</td>\n",
       "      <td>75070</td>\n",
       "      <td>McKinney</td>\n",
       "      <td>TX</td>\n",
       "      <td>Dallas-Fort Worth</td>\n",
       "      <td>Collin</td>\n",
       "      <td>2</td>\n",
       "      <td>1996-04</td>\n",
       "      <td>235700.0</td>\n",
       "    </tr>\n",
       "    <tr>\n",
       "      <th>2</th>\n",
       "      <td>91982</td>\n",
       "      <td>77494</td>\n",
       "      <td>Katy</td>\n",
       "      <td>TX</td>\n",
       "      <td>Houston</td>\n",
       "      <td>Harris</td>\n",
       "      <td>3</td>\n",
       "      <td>1996-04</td>\n",
       "      <td>210400.0</td>\n",
       "    </tr>\n",
       "    <tr>\n",
       "      <th>3</th>\n",
       "      <td>84616</td>\n",
       "      <td>60614</td>\n",
       "      <td>Chicago</td>\n",
       "      <td>IL</td>\n",
       "      <td>Chicago</td>\n",
       "      <td>Cook</td>\n",
       "      <td>4</td>\n",
       "      <td>1996-04</td>\n",
       "      <td>498100.0</td>\n",
       "    </tr>\n",
       "    <tr>\n",
       "      <th>4</th>\n",
       "      <td>93144</td>\n",
       "      <td>79936</td>\n",
       "      <td>El Paso</td>\n",
       "      <td>TX</td>\n",
       "      <td>El Paso</td>\n",
       "      <td>El Paso</td>\n",
       "      <td>5</td>\n",
       "      <td>1996-04</td>\n",
       "      <td>77300.0</td>\n",
       "    </tr>\n",
       "  </tbody>\n",
       "</table>\n",
       "</div>"
      ],
      "text/plain": [
       "  RegionID RegionName      City State              Metro CountyName  SizeRank  \\\n",
       "0    84654      60657   Chicago    IL            Chicago       Cook         1   \n",
       "1    90668      75070  McKinney    TX  Dallas-Fort Worth     Collin         2   \n",
       "2    91982      77494      Katy    TX            Houston     Harris         3   \n",
       "3    84616      60614   Chicago    IL            Chicago       Cook         4   \n",
       "4    93144      79936   El Paso    TX            El Paso    El Paso         5   \n",
       "\n",
       "      Date     Value  \n",
       "0  1996-04  334200.0  \n",
       "1  1996-04  235700.0  \n",
       "2  1996-04  210400.0  \n",
       "3  1996-04  498100.0  \n",
       "4  1996-04   77300.0  "
      ]
     },
     "execution_count": 4,
     "metadata": {},
     "output_type": "execute_result"
    }
   ],
   "source": [
    "zill.head()"
   ]
  },
  {
   "cell_type": "code",
   "execution_count": 214,
   "metadata": {},
   "outputs": [],
   "source": [
    "# Cleanup the long form data set starting with making the column names lower case\n",
    "zill.columns = map(str.lower, zill.columns)\n",
    "\n",
    "# Rename regionname as zip\n",
    "zill = zill.rename(columns={'regionname': 'zip'})\n",
    "\n",
    "# Make date a datetime object\n",
    "zill.date = pd.to_datetime(zill.date)\n",
    "\n",
    "# Set as the index\n",
    "zill = zill.set_index(zill.date)\n",
    "\n",
    "# Drop data column\n",
    "zill = zill.drop(columns = 'date')"
   ]
  },
  {
   "cell_type": "code",
   "execution_count": 215,
   "metadata": {},
   "outputs": [],
   "source": [
    "# There are some null values in the value column, \n",
    "# other null values are not important and will eventually be ignored\n",
    "# Various imputation methods were deemed unsatisfactory, thus the zipcodes with missing values are dropped \n",
    "\n",
    "zill_sorted = zill.sort_values(by=['zip', 'date'])"
   ]
  },
  {
   "cell_type": "code",
   "execution_count": 216,
   "metadata": {},
   "outputs": [
    {
     "data": {
      "text/html": [
       "<div>\n",
       "<style scoped>\n",
       "    .dataframe tbody tr th:only-of-type {\n",
       "        vertical-align: middle;\n",
       "    }\n",
       "\n",
       "    .dataframe tbody tr th {\n",
       "        vertical-align: top;\n",
       "    }\n",
       "\n",
       "    .dataframe thead th {\n",
       "        text-align: right;\n",
       "    }\n",
       "</style>\n",
       "<table border=\"1\" class=\"dataframe\">\n",
       "  <thead>\n",
       "    <tr style=\"text-align: right;\">\n",
       "      <th></th>\n",
       "      <th>regionid</th>\n",
       "      <th>zip</th>\n",
       "      <th>city</th>\n",
       "      <th>state</th>\n",
       "      <th>metro</th>\n",
       "      <th>countyname</th>\n",
       "      <th>sizerank</th>\n",
       "      <th>value</th>\n",
       "    </tr>\n",
       "    <tr>\n",
       "      <th>date</th>\n",
       "      <th></th>\n",
       "      <th></th>\n",
       "      <th></th>\n",
       "      <th></th>\n",
       "      <th></th>\n",
       "      <th></th>\n",
       "      <th></th>\n",
       "      <th></th>\n",
       "    </tr>\n",
       "  </thead>\n",
       "  <tbody>\n",
       "    <tr>\n",
       "      <th>1996-04-01</th>\n",
       "      <td>58804</td>\n",
       "      <td>02554</td>\n",
       "      <td>Nantucket</td>\n",
       "      <td>MA</td>\n",
       "      <td>NaN</td>\n",
       "      <td>Nantucket</td>\n",
       "      <td>5781</td>\n",
       "      <td>324200.0</td>\n",
       "    </tr>\n",
       "    <tr>\n",
       "      <th>1996-05-01</th>\n",
       "      <td>58804</td>\n",
       "      <td>02554</td>\n",
       "      <td>Nantucket</td>\n",
       "      <td>MA</td>\n",
       "      <td>NaN</td>\n",
       "      <td>Nantucket</td>\n",
       "      <td>5781</td>\n",
       "      <td>329600.0</td>\n",
       "    </tr>\n",
       "    <tr>\n",
       "      <th>1996-06-01</th>\n",
       "      <td>58804</td>\n",
       "      <td>02554</td>\n",
       "      <td>Nantucket</td>\n",
       "      <td>MA</td>\n",
       "      <td>NaN</td>\n",
       "      <td>Nantucket</td>\n",
       "      <td>5781</td>\n",
       "      <td>335700.0</td>\n",
       "    </tr>\n",
       "    <tr>\n",
       "      <th>1996-07-01</th>\n",
       "      <td>58804</td>\n",
       "      <td>02554</td>\n",
       "      <td>Nantucket</td>\n",
       "      <td>MA</td>\n",
       "      <td>NaN</td>\n",
       "      <td>Nantucket</td>\n",
       "      <td>5781</td>\n",
       "      <td>342700.0</td>\n",
       "    </tr>\n",
       "    <tr>\n",
       "      <th>1996-08-01</th>\n",
       "      <td>58804</td>\n",
       "      <td>02554</td>\n",
       "      <td>Nantucket</td>\n",
       "      <td>MA</td>\n",
       "      <td>NaN</td>\n",
       "      <td>Nantucket</td>\n",
       "      <td>5781</td>\n",
       "      <td>350200.0</td>\n",
       "    </tr>\n",
       "    <tr>\n",
       "      <th>...</th>\n",
       "      <td>...</td>\n",
       "      <td>...</td>\n",
       "      <td>...</td>\n",
       "      <td>...</td>\n",
       "      <td>...</td>\n",
       "      <td>...</td>\n",
       "      <td>...</td>\n",
       "      <td>...</td>\n",
       "    </tr>\n",
       "    <tr>\n",
       "      <th>2017-12-01</th>\n",
       "      <td>100473</td>\n",
       "      <td>99835</td>\n",
       "      <td>Sitka</td>\n",
       "      <td>AK</td>\n",
       "      <td>NaN</td>\n",
       "      <td>Sitka</td>\n",
       "      <td>8659</td>\n",
       "      <td>396200.0</td>\n",
       "    </tr>\n",
       "    <tr>\n",
       "      <th>2018-01-01</th>\n",
       "      <td>100473</td>\n",
       "      <td>99835</td>\n",
       "      <td>Sitka</td>\n",
       "      <td>AK</td>\n",
       "      <td>NaN</td>\n",
       "      <td>Sitka</td>\n",
       "      <td>8659</td>\n",
       "      <td>397500.0</td>\n",
       "    </tr>\n",
       "    <tr>\n",
       "      <th>2018-02-01</th>\n",
       "      <td>100473</td>\n",
       "      <td>99835</td>\n",
       "      <td>Sitka</td>\n",
       "      <td>AK</td>\n",
       "      <td>NaN</td>\n",
       "      <td>Sitka</td>\n",
       "      <td>8659</td>\n",
       "      <td>398900.0</td>\n",
       "    </tr>\n",
       "    <tr>\n",
       "      <th>2018-03-01</th>\n",
       "      <td>100473</td>\n",
       "      <td>99835</td>\n",
       "      <td>Sitka</td>\n",
       "      <td>AK</td>\n",
       "      <td>NaN</td>\n",
       "      <td>Sitka</td>\n",
       "      <td>8659</td>\n",
       "      <td>402100.0</td>\n",
       "    </tr>\n",
       "    <tr>\n",
       "      <th>2018-04-01</th>\n",
       "      <td>100473</td>\n",
       "      <td>99835</td>\n",
       "      <td>Sitka</td>\n",
       "      <td>AK</td>\n",
       "      <td>NaN</td>\n",
       "      <td>Sitka</td>\n",
       "      <td>8659</td>\n",
       "      <td>404800.0</td>\n",
       "    </tr>\n",
       "  </tbody>\n",
       "</table>\n",
       "<p>276395 rows × 8 columns</p>\n",
       "</div>"
      ],
      "text/plain": [
       "           regionid    zip       city state metro countyname  sizerank  \\\n",
       "date                                                                     \n",
       "1996-04-01    58804  02554  Nantucket    MA   NaN  Nantucket      5781   \n",
       "1996-05-01    58804  02554  Nantucket    MA   NaN  Nantucket      5781   \n",
       "1996-06-01    58804  02554  Nantucket    MA   NaN  Nantucket      5781   \n",
       "1996-07-01    58804  02554  Nantucket    MA   NaN  Nantucket      5781   \n",
       "1996-08-01    58804  02554  Nantucket    MA   NaN  Nantucket      5781   \n",
       "...             ...    ...        ...   ...   ...        ...       ...   \n",
       "2017-12-01   100473  99835      Sitka    AK   NaN      Sitka      8659   \n",
       "2018-01-01   100473  99835      Sitka    AK   NaN      Sitka      8659   \n",
       "2018-02-01   100473  99835      Sitka    AK   NaN      Sitka      8659   \n",
       "2018-03-01   100473  99835      Sitka    AK   NaN      Sitka      8659   \n",
       "2018-04-01   100473  99835      Sitka    AK   NaN      Sitka      8659   \n",
       "\n",
       "               value  \n",
       "date                  \n",
       "1996-04-01  324200.0  \n",
       "1996-05-01  329600.0  \n",
       "1996-06-01  335700.0  \n",
       "1996-07-01  342700.0  \n",
       "1996-08-01  350200.0  \n",
       "...              ...  \n",
       "2017-12-01  396200.0  \n",
       "2018-01-01  397500.0  \n",
       "2018-02-01  398900.0  \n",
       "2018-03-01  402100.0  \n",
       "2018-04-01  404800.0  \n",
       "\n",
       "[276395 rows x 8 columns]"
      ]
     },
     "execution_count": 216,
     "metadata": {},
     "output_type": "execute_result"
    }
   ],
   "source": [
    "#Identifying rows will null values for metro\n",
    "zill_sorted.loc[zill_sorted['metro'].isnull()==True]"
   ]
  },
  {
   "cell_type": "code",
   "execution_count": 217,
   "metadata": {},
   "outputs": [],
   "source": [
    "#Since city and metro appear to have a lot of overlap, in instances where there is no value for metro, city is imputed\n",
    "zill_sorted['metro'].fillna(zill_sorted['city'], inplace=True)"
   ]
  },
  {
   "cell_type": "code",
   "execution_count": 218,
   "metadata": {},
   "outputs": [
    {
     "name": "stdout",
     "output_type": "stream",
     "text": [
      "Bad rows percentage: 4.02%\n"
     ]
    }
   ],
   "source": [
    "bad_rows = zill_sorted.loc[(zill_sorted.value.isnull() == True)]\n",
    "print('Bad rows percentage: {}%'.format(round(len(bad_rows)/len(zill_sorted)*100,2)))"
   ]
  },
  {
   "cell_type": "code",
   "execution_count": 219,
   "metadata": {},
   "outputs": [
    {
     "name": "stdout",
     "output_type": "stream",
     "text": [
      "Bad rows percentage: 4.02%\n"
     ]
    }
   ],
   "source": [
    "#Cross referencing null row percentage calculation:\n",
    "print('Bad rows percentage: {}%'.format(round(zill_sorted.isnull().sum()[-1]/len(zill_sorted)*100,2)))"
   ]
  },
  {
   "cell_type": "code",
   "execution_count": 220,
   "metadata": {},
   "outputs": [],
   "source": [
    "n_zill_sorted = zill_sorted.dropna()"
   ]
  },
  {
   "cell_type": "code",
   "execution_count": 227,
   "metadata": {},
   "outputs": [
    {
     "name": "stdout",
     "output_type": "stream",
     "text": [
      "Percentage change: 4.02%\n"
     ]
    }
   ],
   "source": [
    "#Cross referencing again because I'm paranoid:\n",
    "print('Percentage change: {}%'.format(round((len(zill_sorted) - len(n_zill_sorted))/len(zill_sorted)*100,2)))"
   ]
  },
  {
   "cell_type": "code",
   "execution_count": 228,
   "metadata": {},
   "outputs": [],
   "source": [
    "n_zill_sorted.to_csv('../data/processed/zillow_cleaned_no_nulls.csv')"
   ]
  }
 ],
 "metadata": {
  "kernelspec": {
   "display_name": "Python 3",
   "language": "python",
   "name": "python3"
  },
  "language_info": {
   "codemirror_mode": {
    "name": "ipython",
    "version": 3
   },
   "file_extension": ".py",
   "mimetype": "text/x-python",
   "name": "python",
   "nbconvert_exporter": "python",
   "pygments_lexer": "ipython3",
   "version": "3.7.7"
  }
 },
 "nbformat": 4,
 "nbformat_minor": 4
}
