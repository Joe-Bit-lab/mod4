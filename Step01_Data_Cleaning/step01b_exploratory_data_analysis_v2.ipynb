{
 "cells": [
  {
   "cell_type": "markdown",
   "metadata": {},
   "source": [
    "# Exploratory Data Analysis (EDA) of Zillow Data\n",
    "In this notebook initial EDA is conducted on the Zillow data set.\n",
    "\n",
    "## Import required packages"
   ]
  },
  {
   "cell_type": "code",
   "execution_count": 1,
   "metadata": {},
   "outputs": [],
   "source": [
    "import pandas as pd\n",
    "import numpy as np\n",
    "import seaborn as sns\n",
    "import matplotlib.pyplot as plt\n",
    "%matplotlib inline"
   ]
  },
  {
   "cell_type": "markdown",
   "metadata": {},
   "source": [
    "## Import processed data\n",
    "- Columns are in lower case\n",
    "- Zip code column renamed to zip\n",
    "- Index set to date column in datetime format"
   ]
  },
  {
   "cell_type": "code",
   "execution_count": 2,
   "metadata": {},
   "outputs": [],
   "source": [
    "zill = pd.read_csv('../data/processed/zillow_cleaned_no_nulls.csv', index_col=0, dtype = {'zip':'object'})"
   ]
  },
  {
   "cell_type": "code",
   "execution_count": 3,
   "metadata": {},
   "outputs": [
    {
     "data": {
      "text/plain": [
       "regionid        int64\n",
       "zip            object\n",
       "city           object\n",
       "state          object\n",
       "metro          object\n",
       "countyname     object\n",
       "sizerank        int64\n",
       "value         float64\n",
       "dtype: object"
      ]
     },
     "execution_count": 3,
     "metadata": {},
     "output_type": "execute_result"
    }
   ],
   "source": [
    "zill.dtypes"
   ]
  },
  {
   "cell_type": "code",
   "execution_count": 4,
   "metadata": {},
   "outputs": [],
   "source": [
    "zill.index = pd.to_datetime(zill.index)"
   ]
  },
  {
   "cell_type": "code",
   "execution_count": 5,
   "metadata": {},
   "outputs": [],
   "source": [
    "zill.zip = zill.zip.apply(lambda z: str(z))"
   ]
  },
  {
   "cell_type": "code",
   "execution_count": 6,
   "metadata": {},
   "outputs": [
    {
     "data": {
      "text/plain": [
       "Index(['regionid', 'zip', 'city', 'state', 'metro', 'countyname', 'sizerank',\n",
       "       'value'],\n",
       "      dtype='object')"
      ]
     },
     "execution_count": 6,
     "metadata": {},
     "output_type": "execute_result"
    }
   ],
   "source": [
    "zill.columns"
   ]
  },
  {
   "cell_type": "code",
   "execution_count": 7,
   "metadata": {},
   "outputs": [
    {
     "data": {
      "text/html": [
       "<div>\n",
       "<style scoped>\n",
       "    .dataframe tbody tr th:only-of-type {\n",
       "        vertical-align: middle;\n",
       "    }\n",
       "\n",
       "    .dataframe tbody tr th {\n",
       "        vertical-align: top;\n",
       "    }\n",
       "\n",
       "    .dataframe thead th {\n",
       "        text-align: right;\n",
       "    }\n",
       "</style>\n",
       "<table border=\"1\" class=\"dataframe\">\n",
       "  <thead>\n",
       "    <tr style=\"text-align: right;\">\n",
       "      <th></th>\n",
       "      <th>regionid</th>\n",
       "      <th>zip</th>\n",
       "      <th>city</th>\n",
       "      <th>state</th>\n",
       "      <th>metro</th>\n",
       "      <th>countyname</th>\n",
       "      <th>sizerank</th>\n",
       "      <th>value</th>\n",
       "    </tr>\n",
       "    <tr>\n",
       "      <th>date</th>\n",
       "      <th></th>\n",
       "      <th></th>\n",
       "      <th></th>\n",
       "      <th></th>\n",
       "      <th></th>\n",
       "      <th></th>\n",
       "      <th></th>\n",
       "      <th></th>\n",
       "    </tr>\n",
       "  </thead>\n",
       "  <tbody>\n",
       "    <tr>\n",
       "      <th>1996-04-01</th>\n",
       "      <td>58196</td>\n",
       "      <td>01001</td>\n",
       "      <td>Agawam</td>\n",
       "      <td>MA</td>\n",
       "      <td>Springfield</td>\n",
       "      <td>Hampden</td>\n",
       "      <td>5851</td>\n",
       "      <td>113100.0</td>\n",
       "    </tr>\n",
       "    <tr>\n",
       "      <th>1996-05-01</th>\n",
       "      <td>58196</td>\n",
       "      <td>01001</td>\n",
       "      <td>Agawam</td>\n",
       "      <td>MA</td>\n",
       "      <td>Springfield</td>\n",
       "      <td>Hampden</td>\n",
       "      <td>5851</td>\n",
       "      <td>112800.0</td>\n",
       "    </tr>\n",
       "    <tr>\n",
       "      <th>1996-06-01</th>\n",
       "      <td>58196</td>\n",
       "      <td>01001</td>\n",
       "      <td>Agawam</td>\n",
       "      <td>MA</td>\n",
       "      <td>Springfield</td>\n",
       "      <td>Hampden</td>\n",
       "      <td>5851</td>\n",
       "      <td>112600.0</td>\n",
       "    </tr>\n",
       "    <tr>\n",
       "      <th>1996-07-01</th>\n",
       "      <td>58196</td>\n",
       "      <td>01001</td>\n",
       "      <td>Agawam</td>\n",
       "      <td>MA</td>\n",
       "      <td>Springfield</td>\n",
       "      <td>Hampden</td>\n",
       "      <td>5851</td>\n",
       "      <td>112300.0</td>\n",
       "    </tr>\n",
       "    <tr>\n",
       "      <th>1996-08-01</th>\n",
       "      <td>58196</td>\n",
       "      <td>01001</td>\n",
       "      <td>Agawam</td>\n",
       "      <td>MA</td>\n",
       "      <td>Springfield</td>\n",
       "      <td>Hampden</td>\n",
       "      <td>5851</td>\n",
       "      <td>112100.0</td>\n",
       "    </tr>\n",
       "  </tbody>\n",
       "</table>\n",
       "</div>"
      ],
      "text/plain": [
       "            regionid    zip    city state        metro countyname  sizerank  \\\n",
       "date                                                                          \n",
       "1996-04-01     58196  01001  Agawam    MA  Springfield    Hampden      5851   \n",
       "1996-05-01     58196  01001  Agawam    MA  Springfield    Hampden      5851   \n",
       "1996-06-01     58196  01001  Agawam    MA  Springfield    Hampden      5851   \n",
       "1996-07-01     58196  01001  Agawam    MA  Springfield    Hampden      5851   \n",
       "1996-08-01     58196  01001  Agawam    MA  Springfield    Hampden      5851   \n",
       "\n",
       "               value  \n",
       "date                  \n",
       "1996-04-01  113100.0  \n",
       "1996-05-01  112800.0  \n",
       "1996-06-01  112600.0  \n",
       "1996-07-01  112300.0  \n",
       "1996-08-01  112100.0  "
      ]
     },
     "execution_count": 7,
     "metadata": {},
     "output_type": "execute_result"
    }
   ],
   "source": [
    "zill.head()"
   ]
  },
  {
   "cell_type": "markdown",
   "metadata": {},
   "source": [
    "## Below, each feature is analyzed for the data set in turn\n",
    "Prior to creating any models, each feature is assessed to discover if there are any underlying issues affecting feature selection in this data set."
   ]
  },
  {
   "cell_type": "code",
   "execution_count": 8,
   "metadata": {},
   "outputs": [
    {
     "name": "stdout",
     "output_type": "stream",
     "text": [
      "<class 'pandas.core.frame.DataFrame'>\n",
      "DatetimeIndex: 3626260 entries, 1996-04-01 to 2018-04-01\n",
      "Data columns (total 8 columns):\n",
      " #   Column      Dtype  \n",
      "---  ------      -----  \n",
      " 0   regionid    int64  \n",
      " 1   zip         object \n",
      " 2   city        object \n",
      " 3   state       object \n",
      " 4   metro       object \n",
      " 5   countyname  object \n",
      " 6   sizerank    int64  \n",
      " 7   value       float64\n",
      "dtypes: float64(1), int64(2), object(5)\n",
      "memory usage: 249.0+ MB\n"
     ]
    }
   ],
   "source": [
    "zill.info()"
   ]
  },
  {
   "cell_type": "markdown",
   "metadata": {},
   "source": [
    "After initial research, Zillow defines 'sizerank' as the average house price per state divided by the population of that state."
   ]
  },
  {
   "cell_type": "markdown",
   "metadata": {},
   "source": [
    "## Datetime Index"
   ]
  },
  {
   "cell_type": "code",
   "execution_count": 9,
   "metadata": {},
   "outputs": [
    {
     "data": {
      "text/plain": [
       "265"
      ]
     },
     "execution_count": 9,
     "metadata": {},
     "output_type": "execute_result"
    }
   ],
   "source": [
    "len(zill.index.value_counts())"
   ]
  },
  {
   "cell_type": "markdown",
   "metadata": {},
   "source": [
    "__Key Takeaway__ The original data set included 265 columns for months and years with the associated price of a house.  As such, the value counts for features in the EDA for this data set must be divided by 265 to assure accurate actual counts."
   ]
  },
  {
   "cell_type": "markdown",
   "metadata": {},
   "source": [
    "### RegionID"
   ]
  },
  {
   "cell_type": "code",
   "execution_count": 10,
   "metadata": {},
   "outputs": [
    {
     "data": {
      "text/plain": [
       "63457    1.0\n",
       "64219    1.0\n",
       "99059    1.0\n",
       "94957    1.0\n",
       "97004    1.0\n",
       "        ... \n",
       "81271    1.0\n",
       "77173    1.0\n",
       "71026    1.0\n",
       "66928    1.0\n",
       "69666    1.0\n",
       "Name: regionid, Length: 13684, dtype: float64"
      ]
     },
     "execution_count": 10,
     "metadata": {},
     "output_type": "execute_result"
    }
   ],
   "source": [
    "zill.regionid.value_counts()/265"
   ]
  },
  {
   "cell_type": "code",
   "execution_count": 11,
   "metadata": {},
   "outputs": [
    {
     "data": {
      "text/plain": [
       "(1.0, 1.0)"
      ]
     },
     "execution_count": 11,
     "metadata": {},
     "output_type": "execute_result"
    }
   ],
   "source": [
    "(zill.regionid.value_counts().min()/265), (zill.regionid.value_counts().max()/265)"
   ]
  },
  {
   "cell_type": "markdown",
   "metadata": {},
   "source": [
    "__Key Takeaway__ This value is unique to all values and therefore adds no value.  It will be removed after the comparison of regions against one another.  As such, this column is added the the 'kill_cols' list for ulitmate deletion."
   ]
  },
  {
   "cell_type": "code",
   "execution_count": 12,
   "metadata": {},
   "outputs": [
    {
     "data": {
      "text/plain": [
       "New York                          202725\n",
       "Los Angeles-Long Beach-Anaheim     91160\n",
       "Chicago                            84005\n",
       "Philadelphia                       74465\n",
       "Washington                         65720\n",
       "                                   ...  \n",
       "Orland                               265\n",
       "Cannelton                            265\n",
       "Ephraim                              265\n",
       "Valliant                             265\n",
       "Waupaca                              265\n",
       "Name: metro, Length: 1290, dtype: int64"
      ]
     },
     "execution_count": 12,
     "metadata": {},
     "output_type": "execute_result"
    }
   ],
   "source": [
    "zill.metro.value_counts()"
   ]
  },
  {
   "cell_type": "code",
   "execution_count": 13,
   "metadata": {},
   "outputs": [],
   "source": [
    "kill_cols = ['regionid']"
   ]
  },
  {
   "cell_type": "markdown",
   "metadata": {},
   "source": [
    "## Zip"
   ]
  },
  {
   "cell_type": "code",
   "execution_count": 14,
   "metadata": {},
   "outputs": [
    {
     "data": {
      "text/plain": [
       "(1.0, 1.0)"
      ]
     },
     "execution_count": 14,
     "metadata": {},
     "output_type": "execute_result"
    }
   ],
   "source": [
    "(zill.zip.value_counts().min()/265), (zill.zip.value_counts().max()/265)"
   ]
  },
  {
   "cell_type": "code",
   "execution_count": 15,
   "metadata": {},
   "outputs": [
    {
     "data": {
      "text/plain": [
       "60521    265\n",
       "03781    265\n",
       "37090    265\n",
       "21713    265\n",
       "92315    265\n",
       "        ... \n",
       "97322    265\n",
       "22193    265\n",
       "10473    265\n",
       "33991    265\n",
       "38115    265\n",
       "Name: zip, Length: 13684, dtype: int64"
      ]
     },
     "execution_count": 15,
     "metadata": {},
     "output_type": "execute_result"
    }
   ],
   "source": [
    "zill.zip.value_counts()"
   ]
  },
  {
   "cell_type": "markdown",
   "metadata": {},
   "source": [
    "__Key Takeaway__  This is the value for which we are picking the \"best\" performers.  As such it will be kept for EDA purposes."
   ]
  },
  {
   "cell_type": "markdown",
   "metadata": {},
   "source": [
    "## City"
   ]
  },
  {
   "cell_type": "code",
   "execution_count": 16,
   "metadata": {},
   "outputs": [
    {
     "data": {
      "text/plain": [
       "(1.0, 104.0)"
      ]
     },
     "execution_count": 16,
     "metadata": {},
     "output_type": "execute_result"
    }
   ],
   "source": [
    "(zill.city.value_counts().min()/265), (zill.city.value_counts().max()/265)"
   ]
  },
  {
   "cell_type": "code",
   "execution_count": 17,
   "metadata": {},
   "outputs": [
    {
     "data": {
      "text/plain": [
       "New York              27560\n",
       "Los Angeles           24645\n",
       "Houston               22790\n",
       "San Antonio           12720\n",
       "Washington            11395\n",
       "                      ...  \n",
       "Ashby                   265\n",
       "North Myrtle Beach      265\n",
       "Camanche                265\n",
       "Merkel                  265\n",
       "Universal City          265\n",
       "Name: city, Length: 7046, dtype: int64"
      ]
     },
     "execution_count": 17,
     "metadata": {},
     "output_type": "execute_result"
    }
   ],
   "source": [
    "zill.city.value_counts()"
   ]
  },
  {
   "cell_type": "markdown",
   "metadata": {},
   "source": [
    "## State"
   ]
  },
  {
   "cell_type": "code",
   "execution_count": 18,
   "metadata": {},
   "outputs": [
    {
     "data": {
      "text/plain": [
       "(10.0, 1188.0)"
      ]
     },
     "execution_count": 18,
     "metadata": {},
     "output_type": "execute_result"
    }
   ],
   "source": [
    "(zill.state.value_counts().min()/265), (zill.state.value_counts().max()/265)"
   ]
  },
  {
   "cell_type": "code",
   "execution_count": 19,
   "metadata": {
    "scrolled": true
   },
   "outputs": [
    {
     "data": {
      "text/plain": [
       "CA    1188.0\n",
       "NY     985.0\n",
       "TX     944.0\n",
       "PA     797.0\n",
       "FL     765.0\n",
       "OH     529.0\n",
       "IL     523.0\n",
       "NJ     502.0\n",
       "MI     453.0\n",
       "MA     414.0\n",
       "NC     402.0\n",
       "TN     399.0\n",
       "IN     392.0\n",
       "VA     372.0\n",
       "MN     344.0\n",
       "WA     336.0\n",
       "WI     327.0\n",
       "MD     313.0\n",
       "GA     291.0\n",
       "MO     269.0\n",
       "CO     247.0\n",
       "AZ     215.0\n",
       "OR     210.0\n",
       "OK     210.0\n",
       "NH     195.0\n",
       "SC     192.0\n",
       "KS     168.0\n",
       "AL     158.0\n",
       "IA     148.0\n",
       "LA     145.0\n",
       "CT     124.0\n",
       "KY     120.0\n",
       "UT     116.0\n",
       "AR      97.0\n",
       "ID      95.0\n",
       "NV      88.0\n",
       "ME      77.0\n",
       "NE      70.0\n",
       "MS      67.0\n",
       "WV      60.0\n",
       "RI      59.0\n",
       "NM      53.0\n",
       "MT      52.0\n",
       "HI      51.0\n",
       "AK      28.0\n",
       "DE      26.0\n",
       "WY      24.0\n",
       "DC      18.0\n",
       "VT      16.0\n",
       "SD      10.0\n",
       "Name: state, dtype: float64"
      ]
     },
     "execution_count": 19,
     "metadata": {},
     "output_type": "execute_result"
    }
   ],
   "source": [
    "zill.state.value_counts()/265"
   ]
  },
  {
   "cell_type": "markdown",
   "metadata": {},
   "source": [
    "## Metro"
   ]
  },
  {
   "cell_type": "code",
   "execution_count": 20,
   "metadata": {},
   "outputs": [
    {
     "data": {
      "text/plain": [
       "(1.0, 765.0)"
      ]
     },
     "execution_count": 20,
     "metadata": {},
     "output_type": "execute_result"
    }
   ],
   "source": [
    "(zill.metro.value_counts().min()/265), (zill.metro.value_counts().max()/265)"
   ]
  },
  {
   "cell_type": "code",
   "execution_count": 21,
   "metadata": {},
   "outputs": [
    {
     "data": {
      "text/plain": [
       "New York                          765.0\n",
       "Los Angeles-Long Beach-Anaheim    344.0\n",
       "Chicago                           317.0\n",
       "Philadelphia                      281.0\n",
       "Washington                        248.0\n",
       "                                  ...  \n",
       "Orland                              1.0\n",
       "Cannelton                           1.0\n",
       "Ephraim                             1.0\n",
       "Valliant                            1.0\n",
       "Waupaca                             1.0\n",
       "Name: metro, Length: 1290, dtype: float64"
      ]
     },
     "execution_count": 21,
     "metadata": {},
     "output_type": "execute_result"
    }
   ],
   "source": [
    "zill.metro.value_counts()/265"
   ]
  },
  {
   "cell_type": "markdown",
   "metadata": {},
   "source": [
    "## CountyName"
   ]
  },
  {
   "cell_type": "code",
   "execution_count": 22,
   "metadata": {},
   "outputs": [
    {
     "data": {
      "text/plain": [
       "(1.0, 261.0)"
      ]
     },
     "execution_count": 22,
     "metadata": {},
     "output_type": "execute_result"
    }
   ],
   "source": [
    "(zill.countyname.value_counts().min()/265), (zill.countyname.value_counts().max()/265)"
   ]
  },
  {
   "cell_type": "code",
   "execution_count": 23,
   "metadata": {},
   "outputs": [
    {
     "data": {
      "text/plain": [
       "Los Angeles    261.0\n",
       "Jefferson      172.0\n",
       "Orange         164.0\n",
       "Montgomery     154.0\n",
       "Washington     152.0\n",
       "               ...  \n",
       "Cibola           1.0\n",
       "Val Verde        1.0\n",
       "Erath            1.0\n",
       "Andrew           1.0\n",
       "Wasco            1.0\n",
       "Name: countyname, Length: 1063, dtype: float64"
      ]
     },
     "execution_count": 23,
     "metadata": {},
     "output_type": "execute_result"
    }
   ],
   "source": [
    "zill.countyname.value_counts()/265"
   ]
  },
  {
   "cell_type": "markdown",
   "metadata": {},
   "source": [
    "## SizeRank"
   ]
  },
  {
   "cell_type": "code",
   "execution_count": 24,
   "metadata": {},
   "outputs": [
    {
     "data": {
      "text/plain": [
       "(1, 14723)"
      ]
     },
     "execution_count": 24,
     "metadata": {},
     "output_type": "execute_result"
    }
   ],
   "source": [
    "zill.sizerank.min(), zill.sizerank.max()"
   ]
  },
  {
   "cell_type": "code",
   "execution_count": 25,
   "metadata": {},
   "outputs": [
    {
     "data": {
      "text/plain": [
       "date\n",
       "1996-04-01    5851\n",
       "1996-05-01    5851\n",
       "1996-06-01    5851\n",
       "1996-07-01    5851\n",
       "1996-08-01    5851\n",
       "              ... \n",
       "2017-12-01    7294\n",
       "2018-01-01    7294\n",
       "2018-02-01    7294\n",
       "2018-03-01    7294\n",
       "2018-04-01    7294\n",
       "Name: sizerank, Length: 3626260, dtype: int64"
      ]
     },
     "execution_count": 25,
     "metadata": {},
     "output_type": "execute_result"
    }
   ],
   "source": [
    "zill.sizerank"
   ]
  },
  {
   "cell_type": "markdown",
   "metadata": {},
   "source": [
    "## Value"
   ]
  },
  {
   "cell_type": "code",
   "execution_count": 26,
   "metadata": {},
   "outputs": [
    {
     "data": {
      "text/plain": [
       "(11300.0, 8558700.0)"
      ]
     },
     "execution_count": 26,
     "metadata": {},
     "output_type": "execute_result"
    }
   ],
   "source": [
    "zill.value.min(), zill.value.max()"
   ]
  },
  {
   "cell_type": "code",
   "execution_count": 27,
   "metadata": {},
   "outputs": [
    {
     "data": {
      "text/plain": [
       "pandas.core.indexes.datetimes.DatetimeIndex"
      ]
     },
     "execution_count": 27,
     "metadata": {},
     "output_type": "execute_result"
    }
   ],
   "source": [
    "type(zill.index)"
   ]
  },
  {
   "cell_type": "markdown",
   "metadata": {},
   "source": [
    "### Let's first explore all house values by year in the data set"
   ]
  },
  {
   "cell_type": "code",
   "execution_count": 28,
   "metadata": {},
   "outputs": [
    {
     "data": {
      "text/plain": [
       "Index(['regionid', 'zip', 'city', 'state', 'metro', 'countyname', 'sizerank',\n",
       "       'value'],\n",
       "      dtype='object')"
      ]
     },
     "execution_count": 28,
     "metadata": {},
     "output_type": "execute_result"
    }
   ],
   "source": [
    "zill.columns"
   ]
  },
  {
   "cell_type": "code",
   "execution_count": 29,
   "metadata": {},
   "outputs": [],
   "source": [
    "yearly = zill.groupby([zill.index.year, zill.zip]).agg({'regionid': 'min', 'sizerank': 'min', 'value': 'mean'})"
   ]
  },
  {
   "cell_type": "code",
   "execution_count": 30,
   "metadata": {},
   "outputs": [
    {
     "data": {
      "text/html": [
       "<div>\n",
       "<style scoped>\n",
       "    .dataframe tbody tr th:only-of-type {\n",
       "        vertical-align: middle;\n",
       "    }\n",
       "\n",
       "    .dataframe tbody tr th {\n",
       "        vertical-align: top;\n",
       "    }\n",
       "\n",
       "    .dataframe thead th {\n",
       "        text-align: right;\n",
       "    }\n",
       "</style>\n",
       "<table border=\"1\" class=\"dataframe\">\n",
       "  <thead>\n",
       "    <tr style=\"text-align: right;\">\n",
       "      <th></th>\n",
       "      <th></th>\n",
       "      <th>regionid</th>\n",
       "      <th>sizerank</th>\n",
       "      <th>value</th>\n",
       "    </tr>\n",
       "    <tr>\n",
       "      <th>date</th>\n",
       "      <th>zip</th>\n",
       "      <th></th>\n",
       "      <th></th>\n",
       "      <th></th>\n",
       "    </tr>\n",
       "  </thead>\n",
       "  <tbody>\n",
       "    <tr>\n",
       "      <th rowspan=\"5\" valign=\"top\">1996</th>\n",
       "      <th>01001</th>\n",
       "      <td>58196</td>\n",
       "      <td>5851</td>\n",
       "      <td>112222.222222</td>\n",
       "    </tr>\n",
       "    <tr>\n",
       "      <th>01002</th>\n",
       "      <td>58197</td>\n",
       "      <td>4200</td>\n",
       "      <td>158444.444444</td>\n",
       "    </tr>\n",
       "    <tr>\n",
       "      <th>01005</th>\n",
       "      <td>58200</td>\n",
       "      <td>11214</td>\n",
       "      <td>103944.444444</td>\n",
       "    </tr>\n",
       "    <tr>\n",
       "      <th>01007</th>\n",
       "      <td>58201</td>\n",
       "      <td>6851</td>\n",
       "      <td>131288.888889</td>\n",
       "    </tr>\n",
       "    <tr>\n",
       "      <th>01008</th>\n",
       "      <td>58202</td>\n",
       "      <td>14548</td>\n",
       "      <td>116877.777778</td>\n",
       "    </tr>\n",
       "  </tbody>\n",
       "</table>\n",
       "</div>"
      ],
      "text/plain": [
       "            regionid  sizerank          value\n",
       "date zip                                     \n",
       "1996 01001     58196      5851  112222.222222\n",
       "     01002     58197      4200  158444.444444\n",
       "     01005     58200     11214  103944.444444\n",
       "     01007     58201      6851  131288.888889\n",
       "     01008     58202     14548  116877.777778"
      ]
     },
     "execution_count": 30,
     "metadata": {},
     "output_type": "execute_result"
    }
   ],
   "source": [
    "yearly.head()"
   ]
  },
  {
   "cell_type": "code",
   "execution_count": 31,
   "metadata": {},
   "outputs": [
    {
     "data": {
      "text/plain": [
       "Int64Index([1996, 1996, 1996, 1996, 1996, 1996, 1996, 1996, 1996, 1996,\n",
       "            ...\n",
       "            2018, 2018, 2018, 2018, 2018, 2018, 2018, 2018, 2018, 2018],\n",
       "           dtype='int64', name='date', length=314732)"
      ]
     },
     "execution_count": 31,
     "metadata": {},
     "output_type": "execute_result"
    }
   ],
   "source": [
    "yearly.index.get_level_values(0)"
   ]
  },
  {
   "cell_type": "code",
   "execution_count": 32,
   "metadata": {},
   "outputs": [],
   "source": [
    "sns.set(rc={'figure.figsize':(12,7)})"
   ]
  },
  {
   "cell_type": "code",
   "execution_count": 33,
   "metadata": {},
   "outputs": [
    {
     "data": {
      "image/png": "[encoded data removed]",
      "text/plain": [
       "<Figure size 864x504 with 1 Axes>"
      ]
     },
     "metadata": {},
     "output_type": "display_data"
    }
   ],
   "source": [
    "yearly_lineplot = sns.lineplot(x = yearly.index.get_level_values(0), \n",
    "                               y = 'value',\n",
    "                               data = yearly);"
   ]
  },
  {
   "cell_type": "markdown",
   "metadata": {},
   "source": [
    "__Key takeaway__: It appears that there was a dip in the mean of all housing prices starting in 2006 hitting the bottom in 2011 and rebounding through 2018.  Perhaps it's best to investigate housing value from 2011 through 2018.  With that said, it would be interesting to see which zip codes exhibited resilience to the housing crisis from 2006 to 2011 as a potential future indicator of retained value through a national crisis."
   ]
  },
  {
   "cell_type": "code",
   "execution_count": 34,
   "metadata": {},
   "outputs": [],
   "source": [
    "fig = yearly_lineplot.get_figure()    \n",
    "fig.savefig('../viz/all_values_annual.png')"
   ]
  },
  {
   "cell_type": "code",
   "execution_count": 35,
   "metadata": {},
   "outputs": [],
   "source": [
    "states = zill.groupby([zill.index.year, zill.state]).agg({'regionid':'min', 'sizerank':'min', 'value':'mean'})"
   ]
  },
  {
   "cell_type": "markdown",
   "metadata": {},
   "source": [
    "### What zip codes inceased in value the most from 2011 to 2018?\n",
    "After housing prices rebounded from the 2006 dip, which 10 zip codes increase the most in value?"
   ]
  },
  {
   "cell_type": "markdown",
   "metadata": {},
   "source": [
    "### Determining the highest growing zipcodes from 2011 - 2018"
   ]
  },
  {
   "cell_type": "code",
   "execution_count": 129,
   "metadata": {},
   "outputs": [],
   "source": [
    "values_2018 = yearly.loc[yearly.index.get_level_values(0) == 2018].value\n",
    "values_2011 = yearly.loc[yearly.index.get_level_values(0) == 2011].value\n",
    "zip_growth = pd.DataFrame(np.log(values_2018.values) - np.log(values_2011.values), columns = ['growth'])\n",
    "zip_growth['zipcodes'] = values_2018.index.get_level_values(1)\n",
    "zip_growth = zip_growth.sort_values(by='growth', ascending=False)"
   ]
  },
  {
   "cell_type": "markdown",
   "metadata": {},
   "source": [
    "#### Top 10 zipcodes by growth"
   ]
  },
  {
   "cell_type": "code",
   "execution_count": 146,
   "metadata": {},
   "outputs": [
    {
     "data": {
      "text/plain": [
       "['33404',\n",
       " '11216',\n",
       " '85008',\n",
       " '94804',\n",
       " '34207',\n",
       " '33936',\n",
       " '94089',\n",
       " '94606',\n",
       " '33056',\n",
       " '94601']"
      ]
     },
     "execution_count": 146,
     "metadata": {},
     "output_type": "execute_result"
    }
   ],
   "source": [
    "list(zip_growth.head(10)['zipcodes'].values)"
   ]
  },
  {
   "cell_type": "markdown",
   "metadata": {},
   "source": [
    "### Determining the highest growing states from 2011 - 2018"
   ]
  },
  {
   "cell_type": "code",
   "execution_count": 88,
   "metadata": {},
   "outputs": [],
   "source": [
    "states = zill.groupby([zill.index.year, zill.state]).agg({'regionid': 'min', 'sizerank': 'min', 'value': 'mean'})"
   ]
  },
  {
   "cell_type": "code",
   "execution_count": 131,
   "metadata": {},
   "outputs": [],
   "source": [
    "states_values_2018 = states.loc[states.index.get_level_values(0) == 2018].value\n",
    "states_values_2011 = states.loc[states.index.get_level_values(0) == 2011].value\n",
    "states_growth = pd.DataFrame(np.log(states_values_2018.values) - np.log(states_values_2011.values), columns = ['growth'])\n",
    "states_growth['states'] = states_values_2018.index.get_level_values(1)\n",
    "states_growth = states_growth.sort_values(by='growth', ascending=False)"
   ]
  },
  {
   "cell_type": "markdown",
   "metadata": {},
   "source": [
    "#### Top 10 states by growth"
   ]
  },
  {
   "cell_type": "code",
   "execution_count": 147,
   "metadata": {},
   "outputs": [
    {
     "data": {
      "text/plain": [
       "['NV', 'CA', 'WA', 'FL', 'CO', 'AZ', 'OR', 'MI', 'ID', 'DC']"
      ]
     },
     "execution_count": 147,
     "metadata": {},
     "output_type": "execute_result"
    }
   ],
   "source": [
    "top_10 = states_growth.head(10)\n",
    "list(top_10['states'].values)"
   ]
  },
  {
   "cell_type": "code",
   "execution_count": 135,
   "metadata": {},
   "outputs": [],
   "source": [
    "top_10_list = list(top_10['states'][0:10])"
   ]
  },
  {
   "cell_type": "code",
   "execution_count": 136,
   "metadata": {},
   "outputs": [],
   "source": [
    "top_10_states = states.loc[states.index.get_level_values(1).isin(top_10_list)]"
   ]
  },
  {
   "cell_type": "code",
   "execution_count": 138,
   "metadata": {},
   "outputs": [
    {
     "data": {
      "text/plain": [
       "<matplotlib.axes._subplots.AxesSubplot at 0x1a377d8850>"
      ]
     },
     "execution_count": 138,
     "metadata": {},
     "output_type": "execute_result"
    },
    {
     "data": {
      "image/png": "[encoded data removed]",
      "text/plain": [
       "<Figure size 864x504 with 1 Axes>"
      ]
     },
     "metadata": {},
     "output_type": "display_data"
    }
   ],
   "source": [
    "sns.lineplot(x=top_10_states.index.get_level_values(0),\n",
    "            y=top_10_states['value'],\n",
    "            hue=top_10_states.index.get_level_values(1))"
   ]
  },
  {
   "cell_type": "markdown",
   "metadata": {},
   "source": [
    "### Top 10 most profitable zip codes from 2011 to 2018\n",
    "- 33404\n",
    "- 11216\n",
    "- 85008\n",
    "- 94804\n",
    "- 34207\n",
    "- 33936\n",
    "- 94089\n",
    "- 94606\n",
    "- 33056\n",
    "- 94601"
   ]
  },
  {
   "cell_type": "markdown",
   "metadata": {},
   "source": [
    "### Top 10 most profitable states from 2011 to 2018\n",
    "- NV \n",
    "- CA \n",
    "- WA \n",
    "- FL \n",
    "- CO \n",
    "- AZ \n",
    "- OR \n",
    "- MI \n",
    "- ID\n",
    "- DC"
   ]
  },
  {
   "cell_type": "markdown",
   "metadata": {},
   "source": [
    "### Using standard deviation to measure volatility:"
   ]
  },
  {
   "cell_type": "code",
   "execution_count": 152,
   "metadata": {},
   "outputs": [],
   "source": [
    "vol_zips = yearly.groupby(yearly.index.get_level_values(1)).std()\n",
    "vol_states = states.groupby(states.index.get_level_values(1)).std()\n",
    "vol_zips = vol_zips.drop(['regionid','sizerank'],axis=1)\n",
    "vol_states = vol_states.drop(['regionid','sizerank'],axis=1)"
   ]
  },
  {
   "cell_type": "code",
   "execution_count": 180,
   "metadata": {},
   "outputs": [
    {
     "data": {
      "text/plain": [
       "['73521',\n",
       " '74631',\n",
       " '74339',\n",
       " '39813',\n",
       " '38317',\n",
       " '62094',\n",
       " '42410',\n",
       " '38255',\n",
       " '14301',\n",
       " '55753']"
      ]
     },
     "execution_count": 180,
     "metadata": {},
     "output_type": "execute_result"
    }
   ],
   "source": [
    "vol_zips.sort_values(by='value', ascending=True)\n",
    "vol_zips_top_10 = vol_zips.sort_values(by='value', ascending=True)[0:10]\n",
    "list(vol_zips_top_10.index)"
   ]
  },
  {
   "cell_type": "code",
   "execution_count": 179,
   "metadata": {},
   "outputs": [
    {
     "data": {
      "text/plain": [
       "['IN', 'OH', 'OK', 'WV', 'AR', 'KY', 'MO', 'MI', 'KS', 'AL']"
      ]
     },
     "execution_count": 179,
     "metadata": {},
     "output_type": "execute_result"
    }
   ],
   "source": [
    "vol_states.sort_values(by='value', ascending=True)\n",
    "vol_states_top_10 = vol_states.sort_values(by='value', ascending=True)[0:10]\n",
    "list(vol_states_top_10.index)"
   ]
  },
  {
   "cell_type": "markdown",
   "metadata": {},
   "source": [
    "### Resiliant Zips\n",
    "To assess resiliance to risk, which zip codes were the least affected by the housing crisis from 2006 to 2011?"
   ]
  },
  {
   "cell_type": "code",
   "execution_count": 51,
   "metadata": {},
   "outputs": [],
   "source": [
    "y2006_to_2011 = yearly.loc[(yearly.index.get_level_values(0) >= 2006) & \\\n",
    "                           (yearly.index.get_level_values(0) <= 2011)]"
   ]
  },
  {
   "cell_type": "code",
   "execution_count": 52,
   "metadata": {},
   "outputs": [],
   "source": [
    "vals_2011 = y2006_to_2011.loc[(y2006_to_2011.index.get_level_values(0) == 2011)].value\n",
    "vals_2006 = y2006_to_2011.loc[(y2006_to_2011.index.get_level_values(0) == 2006)].value"
   ]
  },
  {
   "cell_type": "code",
   "execution_count": 53,
   "metadata": {},
   "outputs": [],
   "source": [
    "z = y2006_to_2011.loc[(y2006_to_2011.index.get_level_values(0) == 2011)].index.get_level_values(1).to_list()\n",
    "v_2006 = vals_2006.to_list()\n",
    "v_2011 = vals_2011.to_list()"
   ]
  },
  {
   "cell_type": "code",
   "execution_count": 54,
   "metadata": {},
   "outputs": [],
   "source": [
    "y2006_to_2011 = pd.DataFrame()\n",
    "y2006_to_2011['zips'] = z\n",
    "y2006_to_2011['v_2006'] = v_2006\n",
    "y2006_to_2011['v_2011'] = v_2011\n",
    "y2006_to_2011['11_less_06'] = y2006_to_2011.v_2011 - y2006_to_2011.v_2006"
   ]
  },
  {
   "cell_type": "code",
   "execution_count": 55,
   "metadata": {},
   "outputs": [],
   "source": [
    "res10 = y2006_to_2011.sort_values(by = '11_less_06', ascending = False).head(10)"
   ]
  },
  {
   "cell_type": "code",
   "execution_count": 56,
   "metadata": {},
   "outputs": [
    {
     "data": {
      "text/html": [
       "<div>\n",
       "<style scoped>\n",
       "    .dataframe tbody tr th:only-of-type {\n",
       "        vertical-align: middle;\n",
       "    }\n",
       "\n",
       "    .dataframe tbody tr th {\n",
       "        vertical-align: top;\n",
       "    }\n",
       "\n",
       "    .dataframe thead th {\n",
       "        text-align: right;\n",
       "    }\n",
       "</style>\n",
       "<table border=\"1\" class=\"dataframe\">\n",
       "  <thead>\n",
       "    <tr style=\"text-align: right;\">\n",
       "      <th></th>\n",
       "      <th>zips</th>\n",
       "      <th>v_2006</th>\n",
       "      <th>v_2011</th>\n",
       "      <th>11_less_06</th>\n",
       "    </tr>\n",
       "  </thead>\n",
       "  <tbody>\n",
       "    <tr>\n",
       "      <th>1387</th>\n",
       "      <td>10128</td>\n",
       "      <td>4.979258e+06</td>\n",
       "      <td>6.083183e+06</td>\n",
       "      <td>1.103925e+06</td>\n",
       "    </tr>\n",
       "    <tr>\n",
       "      <th>1544</th>\n",
       "      <td>11215</td>\n",
       "      <td>1.053833e+06</td>\n",
       "      <td>1.253717e+06</td>\n",
       "      <td>1.998833e+05</td>\n",
       "    </tr>\n",
       "    <tr>\n",
       "      <th>1723</th>\n",
       "      <td>11932</td>\n",
       "      <td>1.419350e+06</td>\n",
       "      <td>1.533592e+06</td>\n",
       "      <td>1.142417e+05</td>\n",
       "    </tr>\n",
       "    <tr>\n",
       "      <th>320</th>\n",
       "      <td>02446</td>\n",
       "      <td>1.096392e+06</td>\n",
       "      <td>1.180458e+06</td>\n",
       "      <td>8.406667e+04</td>\n",
       "    </tr>\n",
       "    <tr>\n",
       "      <th>9097</th>\n",
       "      <td>62535</td>\n",
       "      <td>1.945083e+05</td>\n",
       "      <td>2.741000e+05</td>\n",
       "      <td>7.959167e+04</td>\n",
       "    </tr>\n",
       "    <tr>\n",
       "      <th>1746</th>\n",
       "      <td>11976</td>\n",
       "      <td>2.120675e+06</td>\n",
       "      <td>2.179267e+06</td>\n",
       "      <td>5.859167e+04</td>\n",
       "    </tr>\n",
       "    <tr>\n",
       "      <th>13656</th>\n",
       "      <td>99501</td>\n",
       "      <td>2.769917e+05</td>\n",
       "      <td>3.303083e+05</td>\n",
       "      <td>5.331667e+04</td>\n",
       "    </tr>\n",
       "    <tr>\n",
       "      <th>13666</th>\n",
       "      <td>99567</td>\n",
       "      <td>3.211167e+05</td>\n",
       "      <td>3.743500e+05</td>\n",
       "      <td>5.323333e+04</td>\n",
       "    </tr>\n",
       "    <tr>\n",
       "      <th>13669</th>\n",
       "      <td>99603</td>\n",
       "      <td>2.190417e+05</td>\n",
       "      <td>2.681083e+05</td>\n",
       "      <td>4.906667e+04</td>\n",
       "    </tr>\n",
       "    <tr>\n",
       "      <th>12644</th>\n",
       "      <td>94303</td>\n",
       "      <td>1.001417e+06</td>\n",
       "      <td>1.049433e+06</td>\n",
       "      <td>4.801667e+04</td>\n",
       "    </tr>\n",
       "  </tbody>\n",
       "</table>\n",
       "</div>"
      ],
      "text/plain": [
       "        zips        v_2006        v_2011    11_less_06\n",
       "1387   10128  4.979258e+06  6.083183e+06  1.103925e+06\n",
       "1544   11215  1.053833e+06  1.253717e+06  1.998833e+05\n",
       "1723   11932  1.419350e+06  1.533592e+06  1.142417e+05\n",
       "320    02446  1.096392e+06  1.180458e+06  8.406667e+04\n",
       "9097   62535  1.945083e+05  2.741000e+05  7.959167e+04\n",
       "1746   11976  2.120675e+06  2.179267e+06  5.859167e+04\n",
       "13656  99501  2.769917e+05  3.303083e+05  5.331667e+04\n",
       "13666  99567  3.211167e+05  3.743500e+05  5.323333e+04\n",
       "13669  99603  2.190417e+05  2.681083e+05  4.906667e+04\n",
       "12644  94303  1.001417e+06  1.049433e+06  4.801667e+04"
      ]
     },
     "execution_count": 56,
     "metadata": {},
     "output_type": "execute_result"
    }
   ],
   "source": [
    "res10"
   ]
  },
  {
   "cell_type": "code",
   "execution_count": 57,
   "metadata": {},
   "outputs": [
    {
     "data": {
      "image/png": "[encoded data removed]",
      "text/plain": [
       "<Figure size 842.4x595.44 with 1 Axes>"
      ]
     },
     "metadata": {},
     "output_type": "display_data"
    }
   ],
   "source": [
    "sns.catplot(x = 'zips', \n",
    "            y = '11_less_06', \n",
    "            data = res10, \n",
    "            hue = 'zips', \n",
    "            kind = 'bar', \n",
    "            height=8.27, \n",
    "            aspect=11.7/8.27);"
   ]
  },
  {
   "cell_type": "markdown",
   "metadata": {},
   "source": [
    "### Most resiliant zips include:\n",
    "- 10011: Chelsea, NY\n",
    "- 10014: Greenwich Village, NY\n",
    "- 10021: Upper East Side, NY\n",
    "- 10128: North Upper East Side, NY\n",
    "- 11215: Brooklyn, NY\n",
    "- 11217: Boerum, Ny (North of Brooklyn)\n",
    "- 11231: Carroll Gardens, NY\n",
    "- 11932: Bridgehampton, NY\n",
    "- 03215: Waterville Valley, NH\n",
    "- 94608: Oakland, CA"
   ]
  },
  {
   "cell_type": "code",
   "execution_count": 58,
   "metadata": {},
   "outputs": [],
   "source": [
    "# zill.loc[(zill.zip == '94608')]"
   ]
  },
  {
   "cell_type": "markdown",
   "metadata": {},
   "source": [
    "## Maximum real estate value increase across the entire data set\n",
    "What zip codes increased in value the most from 1996 to 2018?"
   ]
  },
  {
   "cell_type": "code",
   "execution_count": 59,
   "metadata": {},
   "outputs": [],
   "source": [
    "vals_1996 = yearly.loc[(yearly.index.get_level_values(0) == 1996)].value\n",
    "vals_2018 = yearly.loc[(yearly.index.get_level_values(0) == 2018)].value"
   ]
  },
  {
   "cell_type": "code",
   "execution_count": 60,
   "metadata": {},
   "outputs": [],
   "source": [
    "z = yearly.loc[(yearly.index.get_level_values(0) == 2018)].index.get_level_values(1).to_list()\n",
    "v_1996 = vals_1996.to_list()\n",
    "v_2018 = vals_2018.to_list()"
   ]
  },
  {
   "cell_type": "code",
   "execution_count": 61,
   "metadata": {},
   "outputs": [],
   "source": [
    "y1996_to_2018 = pd.DataFrame()\n",
    "y1996_to_2018['zips'] = z\n",
    "y1996_to_2018['v_1996'] = v_1996\n",
    "y1996_to_2018['v_2018'] = v_2018\n",
    "y1996_to_2018['18_less_96'] = y1996_to_2018.v_2018 - y1996_to_2018.v_1996"
   ]
  },
  {
   "cell_type": "code",
   "execution_count": 62,
   "metadata": {},
   "outputs": [],
   "source": [
    "all_time10 = y1996_to_2018.sort_values(by = '18_less_96', ascending = False).head(10)"
   ]
  },
  {
   "cell_type": "code",
   "execution_count": 63,
   "metadata": {},
   "outputs": [
    {
     "data": {
      "text/html": [
       "<div>\n",
       "<style scoped>\n",
       "    .dataframe tbody tr th:only-of-type {\n",
       "        vertical-align: middle;\n",
       "    }\n",
       "\n",
       "    .dataframe tbody tr th {\n",
       "        vertical-align: top;\n",
       "    }\n",
       "\n",
       "    .dataframe thead th {\n",
       "        text-align: right;\n",
       "    }\n",
       "</style>\n",
       "<table border=\"1\" class=\"dataframe\">\n",
       "  <thead>\n",
       "    <tr style=\"text-align: right;\">\n",
       "      <th></th>\n",
       "      <th>zips</th>\n",
       "      <th>v_1996</th>\n",
       "      <th>v_2018</th>\n",
       "      <th>18_less_96</th>\n",
       "    </tr>\n",
       "  </thead>\n",
       "  <tbody>\n",
       "    <tr>\n",
       "      <th>12605</th>\n",
       "      <td>94027</td>\n",
       "      <td>1.202589e+06</td>\n",
       "      <td>6763625.0</td>\n",
       "      <td>5.561036e+06</td>\n",
       "    </tr>\n",
       "    <tr>\n",
       "      <th>11927</th>\n",
       "      <td>90210</td>\n",
       "      <td>1.023000e+06</td>\n",
       "      <td>5854700.0</td>\n",
       "      <td>4.831700e+06</td>\n",
       "    </tr>\n",
       "    <tr>\n",
       "      <th>12643</th>\n",
       "      <td>94301</td>\n",
       "      <td>7.273667e+05</td>\n",
       "      <td>4711200.0</td>\n",
       "      <td>3.983833e+06</td>\n",
       "    </tr>\n",
       "    <tr>\n",
       "      <th>12636</th>\n",
       "      <td>94123</td>\n",
       "      <td>8.878111e+05</td>\n",
       "      <td>4625525.0</td>\n",
       "      <td>3.737714e+06</td>\n",
       "    </tr>\n",
       "    <tr>\n",
       "      <th>5286</th>\n",
       "      <td>33480</td>\n",
       "      <td>9.592667e+05</td>\n",
       "      <td>4666550.0</td>\n",
       "      <td>3.707283e+06</td>\n",
       "    </tr>\n",
       "    <tr>\n",
       "      <th>1387</th>\n",
       "      <td>10128</td>\n",
       "      <td>3.791967e+06</td>\n",
       "      <td>7363300.0</td>\n",
       "      <td>3.571333e+06</td>\n",
       "    </tr>\n",
       "    <tr>\n",
       "      <th>12602</th>\n",
       "      <td>94022</td>\n",
       "      <td>8.119778e+05</td>\n",
       "      <td>4275175.0</td>\n",
       "      <td>3.463197e+06</td>\n",
       "    </tr>\n",
       "    <tr>\n",
       "      <th>12630</th>\n",
       "      <td>94115</td>\n",
       "      <td>8.059111e+05</td>\n",
       "      <td>4145850.0</td>\n",
       "      <td>3.339939e+06</td>\n",
       "    </tr>\n",
       "    <tr>\n",
       "      <th>11965</th>\n",
       "      <td>90402</td>\n",
       "      <td>8.860667e+05</td>\n",
       "      <td>4156500.0</td>\n",
       "      <td>3.270433e+06</td>\n",
       "    </tr>\n",
       "    <tr>\n",
       "      <th>11271</th>\n",
       "      <td>81611</td>\n",
       "      <td>1.486256e+06</td>\n",
       "      <td>4561050.0</td>\n",
       "      <td>3.074794e+06</td>\n",
       "    </tr>\n",
       "  </tbody>\n",
       "</table>\n",
       "</div>"
      ],
      "text/plain": [
       "        zips        v_1996     v_2018    18_less_96\n",
       "12605  94027  1.202589e+06  6763625.0  5.561036e+06\n",
       "11927  90210  1.023000e+06  5854700.0  4.831700e+06\n",
       "12643  94301  7.273667e+05  4711200.0  3.983833e+06\n",
       "12636  94123  8.878111e+05  4625525.0  3.737714e+06\n",
       "5286   33480  9.592667e+05  4666550.0  3.707283e+06\n",
       "1387   10128  3.791967e+06  7363300.0  3.571333e+06\n",
       "12602  94022  8.119778e+05  4275175.0  3.463197e+06\n",
       "12630  94115  8.059111e+05  4145850.0  3.339939e+06\n",
       "11965  90402  8.860667e+05  4156500.0  3.270433e+06\n",
       "11271  81611  1.486256e+06  4561050.0  3.074794e+06"
      ]
     },
     "execution_count": 63,
     "metadata": {},
     "output_type": "execute_result"
    }
   ],
   "source": [
    "all_time10"
   ]
  },
  {
   "cell_type": "code",
   "execution_count": 64,
   "metadata": {},
   "outputs": [
    {
     "data": {
      "image/png": "[encoded data removed]",
      "text/plain": [
       "<Figure size 842.4x595.44 with 1 Axes>"
      ]
     },
     "metadata": {},
     "output_type": "display_data"
    }
   ],
   "source": [
    "sns.catplot(x = 'zips', \n",
    "            y = '18_less_96', \n",
    "            data = all_time10, \n",
    "            hue = 'zips', \n",
    "            kind = 'bar', \n",
    "            height=8.27, \n",
    "            aspect=11.7/8.27);"
   ]
  },
  {
   "cell_type": "markdown",
   "metadata": {},
   "source": [
    "### Most profitable zip codes from 1996 to 2018:\n",
    "- 10011: Chelsea, NYC\n",
    "- 10014: West Village, NYC\n",
    "- 10021: Upper East Side, NYC\n",
    "- 10128: North Uppder East Side, NYC\n",
    "- 33480: Palm Beach, FL\n",
    "- 90210: Beverly Hills, CA\n",
    "- 94022: Los Altos, CA\n",
    "- 94027: Atherton, CA\n",
    "- 94123: San Francisco, CA\n",
    "- 94301: Palo Alto, CA"
   ]
  },
  {
   "cell_type": "code",
   "execution_count": 65,
   "metadata": {},
   "outputs": [],
   "source": [
    "# zill.loc[(zill.zip == '94301')]"
   ]
  },
  {
   "cell_type": "markdown",
   "metadata": {},
   "source": [
    "## Seasonality in real estate prices\n",
    "Are there any sesonality trend in the real estate prices?  Let's take a look."
   ]
  },
  {
   "cell_type": "code",
   "execution_count": 66,
   "metadata": {},
   "outputs": [],
   "source": [
    "monthly = zill.groupby([zill.index.month, zill.zip]).agg({'regionid': 'min', 'sizerank': 'min', 'value': 'mean'})"
   ]
  },
  {
   "cell_type": "code",
   "execution_count": 67,
   "metadata": {},
   "outputs": [
    {
     "data": {
      "text/html": [
       "<div>\n",
       "<style scoped>\n",
       "    .dataframe tbody tr th:only-of-type {\n",
       "        vertical-align: middle;\n",
       "    }\n",
       "\n",
       "    .dataframe tbody tr th {\n",
       "        vertical-align: top;\n",
       "    }\n",
       "\n",
       "    .dataframe thead th {\n",
       "        text-align: right;\n",
       "    }\n",
       "</style>\n",
       "<table border=\"1\" class=\"dataframe\">\n",
       "  <thead>\n",
       "    <tr style=\"text-align: right;\">\n",
       "      <th></th>\n",
       "      <th></th>\n",
       "      <th>regionid</th>\n",
       "      <th>sizerank</th>\n",
       "      <th>value</th>\n",
       "    </tr>\n",
       "    <tr>\n",
       "      <th>date</th>\n",
       "      <th>zip</th>\n",
       "      <th></th>\n",
       "      <th></th>\n",
       "      <th></th>\n",
       "    </tr>\n",
       "  </thead>\n",
       "  <tbody>\n",
       "    <tr>\n",
       "      <th rowspan=\"5\" valign=\"top\">1</th>\n",
       "      <th>01001</th>\n",
       "      <td>58196</td>\n",
       "      <td>5851</td>\n",
       "      <td>175718.181818</td>\n",
       "    </tr>\n",
       "    <tr>\n",
       "      <th>01002</th>\n",
       "      <td>58197</td>\n",
       "      <td>4200</td>\n",
       "      <td>275404.545455</td>\n",
       "    </tr>\n",
       "    <tr>\n",
       "      <th>01005</th>\n",
       "      <td>58200</td>\n",
       "      <td>11214</td>\n",
       "      <td>174127.272727</td>\n",
       "    </tr>\n",
       "    <tr>\n",
       "      <th>01007</th>\n",
       "      <td>58201</td>\n",
       "      <td>6851</td>\n",
       "      <td>219513.636364</td>\n",
       "    </tr>\n",
       "    <tr>\n",
       "      <th>01008</th>\n",
       "      <td>58202</td>\n",
       "      <td>14548</td>\n",
       "      <td>176436.363636</td>\n",
       "    </tr>\n",
       "    <tr>\n",
       "      <th>...</th>\n",
       "      <th>...</th>\n",
       "      <td>...</td>\n",
       "      <td>...</td>\n",
       "      <td>...</td>\n",
       "    </tr>\n",
       "    <tr>\n",
       "      <th rowspan=\"5\" valign=\"top\">12</th>\n",
       "      <th>99709</th>\n",
       "      <td>100384</td>\n",
       "      <td>4527</td>\n",
       "      <td>210936.363636</td>\n",
       "    </tr>\n",
       "    <tr>\n",
       "      <th>99712</th>\n",
       "      <td>100387</td>\n",
       "      <td>8439</td>\n",
       "      <td>218363.636364</td>\n",
       "    </tr>\n",
       "    <tr>\n",
       "      <th>99801</th>\n",
       "      <td>100459</td>\n",
       "      <td>4107</td>\n",
       "      <td>291763.636364</td>\n",
       "    </tr>\n",
       "    <tr>\n",
       "      <th>99835</th>\n",
       "      <td>100473</td>\n",
       "      <td>8659</td>\n",
       "      <td>275540.909091</td>\n",
       "    </tr>\n",
       "    <tr>\n",
       "      <th>99901</th>\n",
       "      <td>100478</td>\n",
       "      <td>7294</td>\n",
       "      <td>217568.181818</td>\n",
       "    </tr>\n",
       "  </tbody>\n",
       "</table>\n",
       "<p>164208 rows × 3 columns</p>\n",
       "</div>"
      ],
      "text/plain": [
       "            regionid  sizerank          value\n",
       "date zip                                     \n",
       "1    01001     58196      5851  175718.181818\n",
       "     01002     58197      4200  275404.545455\n",
       "     01005     58200     11214  174127.272727\n",
       "     01007     58201      6851  219513.636364\n",
       "     01008     58202     14548  176436.363636\n",
       "...              ...       ...            ...\n",
       "12   99709    100384      4527  210936.363636\n",
       "     99712    100387      8439  218363.636364\n",
       "     99801    100459      4107  291763.636364\n",
       "     99835    100473      8659  275540.909091\n",
       "     99901    100478      7294  217568.181818\n",
       "\n",
       "[164208 rows x 3 columns]"
      ]
     },
     "execution_count": 67,
     "metadata": {},
     "output_type": "execute_result"
    }
   ],
   "source": [
    "monthly"
   ]
  },
  {
   "cell_type": "code",
   "execution_count": 68,
   "metadata": {},
   "outputs": [
    {
     "data": {
      "image/png": "[encoded data removed]",
      "text/plain": [
       "<Figure size 864x504 with 1 Axes>"
      ]
     },
     "metadata": {},
     "output_type": "display_data"
    }
   ],
   "source": [
    "## Monthly sales prices for all housing prices\n",
    "monthly_lineplot_all = sns.lineplot(x = monthly.index.get_level_values(0),\n",
    "                                y = 'value',\n",
    "                                data = monthly);"
   ]
  },
  {
   "cell_type": "code",
   "execution_count": 69,
   "metadata": {},
   "outputs": [
    {
     "data": {
      "image/png": "[encoded data removed]",
      "text/plain": [
       "<Figure size 864x504 with 1 Axes>"
      ]
     },
     "metadata": {},
     "output_type": "display_data"
    }
   ],
   "source": [
    "## Monthly sales prices by zip\n",
    "monthly_lineplot = sns.lineplot(x = monthly.index.get_level_values(0),\n",
    "                                y = 'value',\n",
    "                                data = monthly,\n",
    "                                hue = monthly.index.get_level_values(1), \n",
    "                                legend=False);"
   ]
  },
  {
   "cell_type": "markdown",
   "metadata": {},
   "source": [
    "__Key Takeaway__: In the aggregate, there appears to be an increase in housing prices in March followed by a dip through May.  Prices then increase from May back to March before the cycle repeats.  When looking at the house values by zip code, there appears to be a much less drastic relationship.  Additional analysis regarding seasonality will take place after selecting the top 10 target zip codes."
   ]
  }
 ],
 "metadata": {
  "kernelspec": {
   "display_name": "Python 3",
   "language": "python",
   "name": "python3"
  },
  "language_info": {
   "codemirror_mode": {
    "name": "ipython",
    "version": 3
   },
   "file_extension": ".py",
   "mimetype": "text/x-python",
   "name": "python",
   "nbconvert_exporter": "python",
   "pygments_lexer": "ipython3",
   "version": "3.7.7"
  }
 },
 "nbformat": 4,
 "nbformat_minor": 4
}
