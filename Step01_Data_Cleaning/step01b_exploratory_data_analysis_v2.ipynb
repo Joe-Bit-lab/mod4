{
 "cells": [
  {
   "cell_type": "markdown",
   "metadata": {},
   "source": [
    "# Exploratory Data Analysis (EDA) of Zillow Data\n",
    "In this notebook initial EDA is conducted on the Zillow data set.\n",
    "\n",
    "## Import required packages"
   ]
  },
  {
   "cell_type": "code",
   "execution_count": 1,
   "metadata": {},
   "outputs": [],
   "source": [
    "import pandas as pd\n",
    "import numpy as np\n",
    "import seaborn as sns\n",
    "import matplotlib.pyplot as plt\n",
    "%matplotlib inline"
   ]
  },
  {
   "cell_type": "markdown",
   "metadata": {},
   "source": [
    "## Import processed data\n",
    "- Columns are in lower case\n",
    "- Zip code column renamed to zip\n",
    "- Index set to date column in datetime format"
   ]
  },
  {
   "cell_type": "code",
   "execution_count": 2,
   "metadata": {},
   "outputs": [],
   "source": [
    "zill = pd.read_csv('../data/processed/zillow_cleaned_no_nulls.csv', index_col=0, dtype = {'zip':'object'})"
   ]
  },
  {
   "cell_type": "code",
   "execution_count": 3,
   "metadata": {},
   "outputs": [
    {
     "data": {
      "text/plain": [
       "regionid        int64\n",
       "zip            object\n",
       "city           object\n",
       "state          object\n",
       "metro          object\n",
       "countyname     object\n",
       "sizerank        int64\n",
       "value         float64\n",
       "dtype: object"
      ]
     },
     "execution_count": 3,
     "metadata": {},
     "output_type": "execute_result"
    }
   ],
   "source": [
    "zill.dtypes"
   ]
  },
  {
   "cell_type": "code",
   "execution_count": 4,
   "metadata": {},
   "outputs": [],
   "source": [
    "zill.index = pd.to_datetime(zill.index)"
   ]
  },
  {
   "cell_type": "code",
   "execution_count": 5,
   "metadata": {},
   "outputs": [],
   "source": [
    "zill.zip = zill.zip.apply(lambda z: str(z))"
   ]
  },
  {
   "cell_type": "code",
   "execution_count": 6,
   "metadata": {},
   "outputs": [
    {
     "data": {
      "text/plain": [
       "Index(['regionid', 'zip', 'city', 'state', 'metro', 'countyname', 'sizerank',\n",
       "       'value'],\n",
       "      dtype='object')"
      ]
     },
     "execution_count": 6,
     "metadata": {},
     "output_type": "execute_result"
    }
   ],
   "source": [
    "zill.columns"
   ]
  },
  {
   "cell_type": "code",
   "execution_count": 7,
   "metadata": {},
   "outputs": [
    {
     "data": {
      "text/html": [
       "<div>\n",
       "<style scoped>\n",
       "    .dataframe tbody tr th:only-of-type {\n",
       "        vertical-align: middle;\n",
       "    }\n",
       "\n",
       "    .dataframe tbody tr th {\n",
       "        vertical-align: top;\n",
       "    }\n",
       "\n",
       "    .dataframe thead th {\n",
       "        text-align: right;\n",
       "    }\n",
       "</style>\n",
       "<table border=\"1\" class=\"dataframe\">\n",
       "  <thead>\n",
       "    <tr style=\"text-align: right;\">\n",
       "      <th></th>\n",
       "      <th>regionid</th>\n",
       "      <th>zip</th>\n",
       "      <th>city</th>\n",
       "      <th>state</th>\n",
       "      <th>metro</th>\n",
       "      <th>countyname</th>\n",
       "      <th>sizerank</th>\n",
       "      <th>value</th>\n",
       "    </tr>\n",
       "    <tr>\n",
       "      <th>date</th>\n",
       "      <th></th>\n",
       "      <th></th>\n",
       "      <th></th>\n",
       "      <th></th>\n",
       "      <th></th>\n",
       "      <th></th>\n",
       "      <th></th>\n",
       "      <th></th>\n",
       "    </tr>\n",
       "  </thead>\n",
       "  <tbody>\n",
       "    <tr>\n",
       "      <th>1996-04-01</th>\n",
       "      <td>58196</td>\n",
       "      <td>01001</td>\n",
       "      <td>Agawam</td>\n",
       "      <td>MA</td>\n",
       "      <td>Springfield</td>\n",
       "      <td>Hampden</td>\n",
       "      <td>5851</td>\n",
       "      <td>113100.0</td>\n",
       "    </tr>\n",
       "    <tr>\n",
       "      <th>1996-05-01</th>\n",
       "      <td>58196</td>\n",
       "      <td>01001</td>\n",
       "      <td>Agawam</td>\n",
       "      <td>MA</td>\n",
       "      <td>Springfield</td>\n",
       "      <td>Hampden</td>\n",
       "      <td>5851</td>\n",
       "      <td>112800.0</td>\n",
       "    </tr>\n",
       "    <tr>\n",
       "      <th>1996-06-01</th>\n",
       "      <td>58196</td>\n",
       "      <td>01001</td>\n",
       "      <td>Agawam</td>\n",
       "      <td>MA</td>\n",
       "      <td>Springfield</td>\n",
       "      <td>Hampden</td>\n",
       "      <td>5851</td>\n",
       "      <td>112600.0</td>\n",
       "    </tr>\n",
       "    <tr>\n",
       "      <th>1996-07-01</th>\n",
       "      <td>58196</td>\n",
       "      <td>01001</td>\n",
       "      <td>Agawam</td>\n",
       "      <td>MA</td>\n",
       "      <td>Springfield</td>\n",
       "      <td>Hampden</td>\n",
       "      <td>5851</td>\n",
       "      <td>112300.0</td>\n",
       "    </tr>\n",
       "    <tr>\n",
       "      <th>1996-08-01</th>\n",
       "      <td>58196</td>\n",
       "      <td>01001</td>\n",
       "      <td>Agawam</td>\n",
       "      <td>MA</td>\n",
       "      <td>Springfield</td>\n",
       "      <td>Hampden</td>\n",
       "      <td>5851</td>\n",
       "      <td>112100.0</td>\n",
       "    </tr>\n",
       "  </tbody>\n",
       "</table>\n",
       "</div>"
      ],
      "text/plain": [
       "            regionid    zip    city state        metro countyname  sizerank  \\\n",
       "date                                                                          \n",
       "1996-04-01     58196  01001  Agawam    MA  Springfield    Hampden      5851   \n",
       "1996-05-01     58196  01001  Agawam    MA  Springfield    Hampden      5851   \n",
       "1996-06-01     58196  01001  Agawam    MA  Springfield    Hampden      5851   \n",
       "1996-07-01     58196  01001  Agawam    MA  Springfield    Hampden      5851   \n",
       "1996-08-01     58196  01001  Agawam    MA  Springfield    Hampden      5851   \n",
       "\n",
       "               value  \n",
       "date                  \n",
       "1996-04-01  113100.0  \n",
       "1996-05-01  112800.0  \n",
       "1996-06-01  112600.0  \n",
       "1996-07-01  112300.0  \n",
       "1996-08-01  112100.0  "
      ]
     },
     "execution_count": 7,
     "metadata": {},
     "output_type": "execute_result"
    }
   ],
   "source": [
    "zill.head()"
   ]
  },
  {
   "cell_type": "markdown",
   "metadata": {},
   "source": [
    "## Below, each feature is analyzed for the data set in turn\n",
    "Prior to creating any models, each feature is assessed to discover if there are any underlying issues affecting feature selection in this data set."
   ]
  },
  {
   "cell_type": "code",
   "execution_count": 8,
   "metadata": {},
   "outputs": [
    {
     "name": "stdout",
     "output_type": "stream",
     "text": [
      "<class 'pandas.core.frame.DataFrame'>\n",
      "DatetimeIndex: 3626260 entries, 1996-04-01 to 2018-04-01\n",
      "Data columns (total 8 columns):\n",
      " #   Column      Dtype  \n",
      "---  ------      -----  \n",
      " 0   regionid    int64  \n",
      " 1   zip         object \n",
      " 2   city        object \n",
      " 3   state       object \n",
      " 4   metro       object \n",
      " 5   countyname  object \n",
      " 6   sizerank    int64  \n",
      " 7   value       float64\n",
      "dtypes: float64(1), int64(2), object(5)\n",
      "memory usage: 249.0+ MB\n"
     ]
    }
   ],
   "source": [
    "zill.info()"
   ]
  },
  {
   "cell_type": "markdown",
   "metadata": {},
   "source": [
    "After initial research, Zillow defines 'sizerank' as the average house price per state divided by the population of that state."
   ]
  },
  {
   "cell_type": "markdown",
   "metadata": {},
   "source": [
    "## Datetime Index"
   ]
  },
  {
   "cell_type": "code",
   "execution_count": 9,
   "metadata": {},
   "outputs": [
    {
     "data": {
      "text/plain": [
       "265"
      ]
     },
     "execution_count": 9,
     "metadata": {},
     "output_type": "execute_result"
    }
   ],
   "source": [
    "len(zill.index.value_counts())"
   ]
  },
  {
   "cell_type": "markdown",
   "metadata": {},
   "source": [
    "__Key Takeaway__ The original data set included 265 columns for months and years with the associated price of a house.  As such, the value counts for features in the EDA for this data set must be divided by 265 to assure accurate actual counts."
   ]
  },
  {
   "cell_type": "markdown",
   "metadata": {},
   "source": [
    "### RegionID"
   ]
  },
  {
   "cell_type": "code",
   "execution_count": 10,
   "metadata": {},
   "outputs": [
    {
     "data": {
      "text/plain": [
       "63457    1.0\n",
       "64219    1.0\n",
       "99059    1.0\n",
       "94957    1.0\n",
       "97004    1.0\n",
       "        ... \n",
       "81271    1.0\n",
       "77173    1.0\n",
       "71026    1.0\n",
       "66928    1.0\n",
       "69666    1.0\n",
       "Name: regionid, Length: 13684, dtype: float64"
      ]
     },
     "execution_count": 10,
     "metadata": {},
     "output_type": "execute_result"
    }
   ],
   "source": [
    "zill.regionid.value_counts()/265"
   ]
  },
  {
   "cell_type": "code",
   "execution_count": 11,
   "metadata": {},
   "outputs": [
    {
     "data": {
      "text/plain": [
       "(1.0, 1.0)"
      ]
     },
     "execution_count": 11,
     "metadata": {},
     "output_type": "execute_result"
    }
   ],
   "source": [
    "(zill.regionid.value_counts().min()/265), (zill.regionid.value_counts().max()/265)"
   ]
  },
  {
   "cell_type": "markdown",
   "metadata": {},
   "source": [
    "__Key Takeaway__ This value is unique to all values and therefore adds no value.  It will be removed after the comparison of regions against one another.  As such, this column is added the the 'kill_cols' list for ulitmate deletion."
   ]
  },
  {
   "cell_type": "code",
   "execution_count": 12,
   "metadata": {},
   "outputs": [
    {
     "data": {
      "text/plain": [
       "New York                          202725\n",
       "Los Angeles-Long Beach-Anaheim     91160\n",
       "Chicago                            84005\n",
       "Philadelphia                       74465\n",
       "Washington                         65720\n",
       "                                   ...  \n",
       "Shiner                               265\n",
       "Nordland                             265\n",
       "Buchanan Dam                         265\n",
       "Bigfork                              265\n",
       "Porum                                265\n",
       "Name: metro, Length: 1290, dtype: int64"
      ]
     },
     "execution_count": 12,
     "metadata": {},
     "output_type": "execute_result"
    }
   ],
   "source": [
    "zill.metro.value_counts()"
   ]
  },
  {
   "cell_type": "code",
   "execution_count": 13,
   "metadata": {},
   "outputs": [],
   "source": [
    "kill_cols = ['regionid']"
   ]
  },
  {
   "cell_type": "markdown",
   "metadata": {},
   "source": [
    "## Zip"
   ]
  },
  {
   "cell_type": "code",
   "execution_count": 14,
   "metadata": {},
   "outputs": [
    {
     "data": {
      "text/plain": [
       "(1.0, 1.0)"
      ]
     },
     "execution_count": 14,
     "metadata": {},
     "output_type": "execute_result"
    }
   ],
   "source": [
    "(zill.zip.value_counts().min()/265), (zill.zip.value_counts().max()/265)"
   ]
  },
  {
   "cell_type": "code",
   "execution_count": 15,
   "metadata": {},
   "outputs": [
    {
     "data": {
      "text/plain": [
       "84119    265\n",
       "77511    265\n",
       "35223    265\n",
       "99123    265\n",
       "33701    265\n",
       "        ... \n",
       "33313    265\n",
       "37091    265\n",
       "22735    265\n",
       "38375    265\n",
       "01904    265\n",
       "Name: zip, Length: 13684, dtype: int64"
      ]
     },
     "execution_count": 15,
     "metadata": {},
     "output_type": "execute_result"
    }
   ],
   "source": [
    "zill.zip.value_counts()"
   ]
  },
  {
   "cell_type": "markdown",
   "metadata": {},
   "source": [
    "__Key Takeaway__  This is the value for which we are picking the \"best\" performers.  As such it will be kept for EDA purposes."
   ]
  },
  {
   "cell_type": "markdown",
   "metadata": {},
   "source": [
    "## City"
   ]
  },
  {
   "cell_type": "code",
   "execution_count": 16,
   "metadata": {},
   "outputs": [
    {
     "data": {
      "text/plain": [
       "(1.0, 104.0)"
      ]
     },
     "execution_count": 16,
     "metadata": {},
     "output_type": "execute_result"
    }
   ],
   "source": [
    "(zill.city.value_counts().min()/265), (zill.city.value_counts().max()/265)"
   ]
  },
  {
   "cell_type": "code",
   "execution_count": 17,
   "metadata": {},
   "outputs": [
    {
     "data": {
      "text/plain": [
       "New York        27560\n",
       "Los Angeles     24645\n",
       "Houston         22790\n",
       "San Antonio     12720\n",
       "Washington      11395\n",
       "                ...  \n",
       "Campo             265\n",
       "Kenneth City      265\n",
       "Clendenin         265\n",
       "Shingletown       265\n",
       "Porum             265\n",
       "Name: city, Length: 7046, dtype: int64"
      ]
     },
     "execution_count": 17,
     "metadata": {},
     "output_type": "execute_result"
    }
   ],
   "source": [
    "zill.city.value_counts()"
   ]
  },
  {
   "cell_type": "markdown",
   "metadata": {},
   "source": [
    "## State"
   ]
  },
  {
   "cell_type": "code",
   "execution_count": 18,
   "metadata": {},
   "outputs": [
    {
     "data": {
      "text/plain": [
       "(10.0, 1188.0)"
      ]
     },
     "execution_count": 18,
     "metadata": {},
     "output_type": "execute_result"
    }
   ],
   "source": [
    "(zill.state.value_counts().min()/265), (zill.state.value_counts().max()/265)"
   ]
  },
  {
   "cell_type": "code",
   "execution_count": 19,
   "metadata": {
    "scrolled": true
   },
   "outputs": [
    {
     "data": {
      "text/plain": [
       "CA    1188.0\n",
       "NY     985.0\n",
       "TX     944.0\n",
       "PA     797.0\n",
       "FL     765.0\n",
       "OH     529.0\n",
       "IL     523.0\n",
       "NJ     502.0\n",
       "MI     453.0\n",
       "MA     414.0\n",
       "NC     402.0\n",
       "TN     399.0\n",
       "IN     392.0\n",
       "VA     372.0\n",
       "MN     344.0\n",
       "WA     336.0\n",
       "WI     327.0\n",
       "MD     313.0\n",
       "GA     291.0\n",
       "MO     269.0\n",
       "CO     247.0\n",
       "AZ     215.0\n",
       "OK     210.0\n",
       "OR     210.0\n",
       "NH     195.0\n",
       "SC     192.0\n",
       "KS     168.0\n",
       "AL     158.0\n",
       "IA     148.0\n",
       "LA     145.0\n",
       "CT     124.0\n",
       "KY     120.0\n",
       "UT     116.0\n",
       "AR      97.0\n",
       "ID      95.0\n",
       "NV      88.0\n",
       "ME      77.0\n",
       "NE      70.0\n",
       "MS      67.0\n",
       "WV      60.0\n",
       "RI      59.0\n",
       "NM      53.0\n",
       "MT      52.0\n",
       "HI      51.0\n",
       "AK      28.0\n",
       "DE      26.0\n",
       "WY      24.0\n",
       "DC      18.0\n",
       "VT      16.0\n",
       "SD      10.0\n",
       "Name: state, dtype: float64"
      ]
     },
     "execution_count": 19,
     "metadata": {},
     "output_type": "execute_result"
    }
   ],
   "source": [
    "zill.state.value_counts()/265"
   ]
  },
  {
   "cell_type": "markdown",
   "metadata": {},
   "source": [
    "## Metro"
   ]
  },
  {
   "cell_type": "code",
   "execution_count": 20,
   "metadata": {},
   "outputs": [
    {
     "data": {
      "text/plain": [
       "(1.0, 765.0)"
      ]
     },
     "execution_count": 20,
     "metadata": {},
     "output_type": "execute_result"
    }
   ],
   "source": [
    "(zill.metro.value_counts().min()/265), (zill.metro.value_counts().max()/265)"
   ]
  },
  {
   "cell_type": "code",
   "execution_count": 21,
   "metadata": {},
   "outputs": [
    {
     "data": {
      "text/plain": [
       "New York                          765.0\n",
       "Los Angeles-Long Beach-Anaheim    344.0\n",
       "Chicago                           317.0\n",
       "Philadelphia                      281.0\n",
       "Washington                        248.0\n",
       "                                  ...  \n",
       "Shiner                              1.0\n",
       "Nordland                            1.0\n",
       "Buchanan Dam                        1.0\n",
       "Bigfork                             1.0\n",
       "Porum                               1.0\n",
       "Name: metro, Length: 1290, dtype: float64"
      ]
     },
     "execution_count": 21,
     "metadata": {},
     "output_type": "execute_result"
    }
   ],
   "source": [
    "zill.metro.value_counts()/265"
   ]
  },
  {
   "cell_type": "markdown",
   "metadata": {},
   "source": [
    "## CountyName"
   ]
  },
  {
   "cell_type": "code",
   "execution_count": 22,
   "metadata": {},
   "outputs": [
    {
     "data": {
      "text/plain": [
       "(1.0, 261.0)"
      ]
     },
     "execution_count": 22,
     "metadata": {},
     "output_type": "execute_result"
    }
   ],
   "source": [
    "(zill.countyname.value_counts().min()/265), (zill.countyname.value_counts().max()/265)"
   ]
  },
  {
   "cell_type": "code",
   "execution_count": 23,
   "metadata": {},
   "outputs": [
    {
     "data": {
      "text/plain": [
       "Los Angeles      261.0\n",
       "Jefferson        172.0\n",
       "Orange           164.0\n",
       "Montgomery       154.0\n",
       "Washington       152.0\n",
       "                 ...  \n",
       "Hopewell City      1.0\n",
       "Sierra             1.0\n",
       "Converse           1.0\n",
       "Castro             1.0\n",
       "Somervell          1.0\n",
       "Name: countyname, Length: 1063, dtype: float64"
      ]
     },
     "execution_count": 23,
     "metadata": {},
     "output_type": "execute_result"
    }
   ],
   "source": [
    "zill.countyname.value_counts()/265"
   ]
  },
  {
   "cell_type": "markdown",
   "metadata": {},
   "source": [
    "## SizeRank"
   ]
  },
  {
   "cell_type": "code",
   "execution_count": 24,
   "metadata": {},
   "outputs": [
    {
     "data": {
      "text/plain": [
       "(1, 14723)"
      ]
     },
     "execution_count": 24,
     "metadata": {},
     "output_type": "execute_result"
    }
   ],
   "source": [
    "zill.sizerank.min(), zill.sizerank.max()"
   ]
  },
  {
   "cell_type": "code",
   "execution_count": 25,
   "metadata": {},
   "outputs": [
    {
     "data": {
      "text/plain": [
       "date\n",
       "1996-04-01    5851\n",
       "1996-05-01    5851\n",
       "1996-06-01    5851\n",
       "1996-07-01    5851\n",
       "1996-08-01    5851\n",
       "              ... \n",
       "2017-12-01    7294\n",
       "2018-01-01    7294\n",
       "2018-02-01    7294\n",
       "2018-03-01    7294\n",
       "2018-04-01    7294\n",
       "Name: sizerank, Length: 3626260, dtype: int64"
      ]
     },
     "execution_count": 25,
     "metadata": {},
     "output_type": "execute_result"
    }
   ],
   "source": [
    "zill.sizerank"
   ]
  },
  {
   "cell_type": "markdown",
   "metadata": {},
   "source": [
    "## Value"
   ]
  },
  {
   "cell_type": "code",
   "execution_count": 26,
   "metadata": {},
   "outputs": [
    {
     "data": {
      "text/plain": [
       "(11300.0, 8558700.0)"
      ]
     },
     "execution_count": 26,
     "metadata": {},
     "output_type": "execute_result"
    }
   ],
   "source": [
    "zill.value.min(), zill.value.max()"
   ]
  },
  {
   "cell_type": "code",
   "execution_count": 27,
   "metadata": {},
   "outputs": [
    {
     "data": {
      "text/plain": [
       "pandas.core.indexes.datetimes.DatetimeIndex"
      ]
     },
     "execution_count": 27,
     "metadata": {},
     "output_type": "execute_result"
    }
   ],
   "source": [
    "type(zill.index)"
   ]
  },
  {
   "cell_type": "markdown",
   "metadata": {},
   "source": [
    "### Let's first explore all house values by year in the data set"
   ]
  },
  {
   "cell_type": "code",
   "execution_count": 28,
   "metadata": {},
   "outputs": [
    {
     "data": {
      "text/plain": [
       "Index(['regionid', 'zip', 'city', 'state', 'metro', 'countyname', 'sizerank',\n",
       "       'value'],\n",
       "      dtype='object')"
      ]
     },
     "execution_count": 28,
     "metadata": {},
     "output_type": "execute_result"
    }
   ],
   "source": [
    "zill.columns"
   ]
  },
  {
   "cell_type": "code",
   "execution_count": 29,
   "metadata": {},
   "outputs": [],
   "source": [
    "yearly = zill.groupby([zill.index.year, zill.zip]).agg({'regionid': 'min', 'sizerank': 'min', 'value': 'mean'})"
   ]
  },
  {
   "cell_type": "code",
   "execution_count": 30,
   "metadata": {},
   "outputs": [
    {
     "data": {
      "text/html": [
       "<div>\n",
       "<style scoped>\n",
       "    .dataframe tbody tr th:only-of-type {\n",
       "        vertical-align: middle;\n",
       "    }\n",
       "\n",
       "    .dataframe tbody tr th {\n",
       "        vertical-align: top;\n",
       "    }\n",
       "\n",
       "    .dataframe thead th {\n",
       "        text-align: right;\n",
       "    }\n",
       "</style>\n",
       "<table border=\"1\" class=\"dataframe\">\n",
       "  <thead>\n",
       "    <tr style=\"text-align: right;\">\n",
       "      <th></th>\n",
       "      <th></th>\n",
       "      <th>regionid</th>\n",
       "      <th>sizerank</th>\n",
       "      <th>value</th>\n",
       "    </tr>\n",
       "    <tr>\n",
       "      <th>date</th>\n",
       "      <th>zip</th>\n",
       "      <th></th>\n",
       "      <th></th>\n",
       "      <th></th>\n",
       "    </tr>\n",
       "  </thead>\n",
       "  <tbody>\n",
       "    <tr>\n",
       "      <th rowspan=\"5\" valign=\"top\">1996</th>\n",
       "      <th>01001</th>\n",
       "      <td>58196</td>\n",
       "      <td>5851</td>\n",
       "      <td>112222.222222</td>\n",
       "    </tr>\n",
       "    <tr>\n",
       "      <th>01002</th>\n",
       "      <td>58197</td>\n",
       "      <td>4200</td>\n",
       "      <td>158444.444444</td>\n",
       "    </tr>\n",
       "    <tr>\n",
       "      <th>01005</th>\n",
       "      <td>58200</td>\n",
       "      <td>11214</td>\n",
       "      <td>103944.444444</td>\n",
       "    </tr>\n",
       "    <tr>\n",
       "      <th>01007</th>\n",
       "      <td>58201</td>\n",
       "      <td>6851</td>\n",
       "      <td>131288.888889</td>\n",
       "    </tr>\n",
       "    <tr>\n",
       "      <th>01008</th>\n",
       "      <td>58202</td>\n",
       "      <td>14548</td>\n",
       "      <td>116877.777778</td>\n",
       "    </tr>\n",
       "  </tbody>\n",
       "</table>\n",
       "</div>"
      ],
      "text/plain": [
       "            regionid  sizerank          value\n",
       "date zip                                     \n",
       "1996 01001     58196      5851  112222.222222\n",
       "     01002     58197      4200  158444.444444\n",
       "     01005     58200     11214  103944.444444\n",
       "     01007     58201      6851  131288.888889\n",
       "     01008     58202     14548  116877.777778"
      ]
     },
     "execution_count": 30,
     "metadata": {},
     "output_type": "execute_result"
    }
   ],
   "source": [
    "yearly.head()"
   ]
  },
  {
   "cell_type": "code",
   "execution_count": 31,
   "metadata": {},
   "outputs": [
    {
     "data": {
      "text/plain": [
       "Int64Index([1996, 1996, 1996, 1996, 1996, 1996, 1996, 1996, 1996, 1996,\n",
       "            ...\n",
       "            2018, 2018, 2018, 2018, 2018, 2018, 2018, 2018, 2018, 2018],\n",
       "           dtype='int64', name='date', length=314732)"
      ]
     },
     "execution_count": 31,
     "metadata": {},
     "output_type": "execute_result"
    }
   ],
   "source": [
    "yearly.index.get_level_values(0)"
   ]
  },
  {
   "cell_type": "code",
   "execution_count": 32,
   "metadata": {},
   "outputs": [],
   "source": [
    "sns.set(rc={'figure.figsize':(12,7)})"
   ]
  },
  {
   "cell_type": "code",
   "execution_count": 33,
   "metadata": {},
   "outputs": [
    {
     "data": {
      "image/png": "[encoded data removed]",
      "text/plain": [
       "<Figure size 864x504 with 1 Axes>"
      ]
     },
     "metadata": {},
     "output_type": "display_data"
    }
   ],
   "source": [
    "yearly_lineplot = sns.lineplot(x = yearly.index.get_level_values(0), \n",
    "                               y = 'value',\n",
    "                               data = yearly);"
   ]
  },
  {
   "cell_type": "markdown",
   "metadata": {},
   "source": [
    "__Key takeaway__: It appears that there was a dip in the mean of all housing prices starting in 2006 hitting the bottom in 2011 and rebounding through 2018.  Perhaps it's best to investigate housing value from 2011 through 2018.  With that said, it would be interesting to see which zip codes exhibited resilience to the housing crisis from 2006 to 2011 as a potential future indicator of retained value through a national crisis."
   ]
  },
  {
   "cell_type": "code",
   "execution_count": 34,
   "metadata": {},
   "outputs": [],
   "source": [
    "fig = yearly_lineplot.get_figure()    \n",
    "fig.savefig('../viz/all_values_annual.png')"
   ]
  },
  {
   "cell_type": "code",
   "execution_count": 35,
   "metadata": {},
   "outputs": [],
   "source": [
    "states = zill.groupby([zill.index.year, zill.state]).agg({'regionid':'min', 'sizerank':'min', 'value':'mean'})"
   ]
  },
  {
   "cell_type": "markdown",
   "metadata": {},
   "source": [
    "### What zip codes inceased in value the most from 2011 to 2018?\n",
    "After housing prices rebounded from the 2006 dip, which 10 zip codes increase the most in value?"
   ]
  },
  {
   "cell_type": "markdown",
   "metadata": {},
   "source": [
    "### Determining the highest growing zipcodes from 2011 - 2018"
   ]
  },
  {
   "cell_type": "code",
   "execution_count": 101,
   "metadata": {},
   "outputs": [],
   "source": [
    "values_2018 = yearly.loc[yearly.index.get_level_values(0) == 2018].value\n",
    "values_2011 = yearly.loc[yearly.index.get_level_values(0) == 2011].value\n",
    "zip_growth = pd.DataFrame(np.log(values_2018.values) - np.log(values_2011.values), columns = ['growth'])\n",
    "zip_growth['zipcodes'] = values_2018.index.get_level_values(1)\n",
    "zip_growth1118 = zip_growth.sort_values(by='growth', ascending=False)"
   ]
  },
  {
   "cell_type": "markdown",
   "metadata": {},
   "source": [
    "#### Top 10 zipcodes by growth"
   ]
  },
  {
   "cell_type": "code",
   "execution_count": 37,
   "metadata": {},
   "outputs": [
    {
     "data": {
      "text/plain": [
       "['33404',\n",
       " '11216',\n",
       " '85008',\n",
       " '94804',\n",
       " '34207',\n",
       " '33936',\n",
       " '94089',\n",
       " '94606',\n",
       " '33056',\n",
       " '94601']"
      ]
     },
     "execution_count": 37,
     "metadata": {},
     "output_type": "execute_result"
    }
   ],
   "source": [
    "list(zip_growth.head(10)['zipcodes'].values)"
   ]
  },
  {
   "cell_type": "markdown",
   "metadata": {},
   "source": [
    "### Determining the highest growing states from 2011 - 2018"
   ]
  },
  {
   "cell_type": "code",
   "execution_count": 38,
   "metadata": {},
   "outputs": [],
   "source": [
    "states = zill.groupby([zill.index.year, zill.state]).agg({'regionid': 'min', 'sizerank': 'min', 'value': 'mean'})"
   ]
  },
  {
   "cell_type": "code",
   "execution_count": 39,
   "metadata": {},
   "outputs": [],
   "source": [
    "states_values_2018 = states.loc[states.index.get_level_values(0) == 2018].value\n",
    "states_values_2011 = states.loc[states.index.get_level_values(0) == 2011].value\n",
    "states_growth = pd.DataFrame(np.log(states_values_2018.values) - np.log(states_values_2011.values), columns = ['growth'])\n",
    "states_growth['states'] = states_values_2018.index.get_level_values(1)\n",
    "states_growth = states_growth.sort_values(by='growth', ascending=False)"
   ]
  },
  {
   "cell_type": "markdown",
   "metadata": {},
   "source": [
    "#### Top 10 states by growth"
   ]
  },
  {
   "cell_type": "code",
   "execution_count": 40,
   "metadata": {},
   "outputs": [
    {
     "data": {
      "text/plain": [
       "['NV', 'CA', 'WA', 'FL', 'CO', 'AZ', 'OR', 'MI', 'ID', 'DC']"
      ]
     },
     "execution_count": 40,
     "metadata": {},
     "output_type": "execute_result"
    }
   ],
   "source": [
    "top_10 = states_growth.head(10)\n",
    "list(top_10['states'].values)"
   ]
  },
  {
   "cell_type": "code",
   "execution_count": 41,
   "metadata": {},
   "outputs": [],
   "source": [
    "top_10_list = list(top_10['states'][0:10])"
   ]
  },
  {
   "cell_type": "code",
   "execution_count": 42,
   "metadata": {},
   "outputs": [],
   "source": [
    "top_10_states = states.loc[states.index.get_level_values(1).isin(top_10_list)]"
   ]
  },
  {
   "cell_type": "code",
   "execution_count": 43,
   "metadata": {},
   "outputs": [
    {
     "data": {
      "text/plain": [
       "<matplotlib.axes._subplots.AxesSubplot at 0x1a18641a50>"
      ]
     },
     "execution_count": 43,
     "metadata": {},
     "output_type": "execute_result"
    },
    {
     "data": {
      "image/png": "[encoded data removed]",
      "text/plain": [
       "<Figure size 864x504 with 1 Axes>"
      ]
     },
     "metadata": {},
     "output_type": "display_data"
    }
   ],
   "source": [
    "sns.lineplot(x=top_10_states.index.get_level_values(0),\n",
    "            y=top_10_states['value'],\n",
    "            hue=top_10_states.index.get_level_values(1))"
   ]
  },
  {
   "cell_type": "markdown",
   "metadata": {},
   "source": [
    "### Top 10 most profitable zip codes from 2011 to 2018\n",
    "- 33404\n",
    "- 11216\n",
    "- 85008\n",
    "- 94804\n",
    "- 34207\n",
    "- 33936\n",
    "- 94089\n",
    "- 94606\n",
    "- 33056\n",
    "- 94601"
   ]
  },
  {
   "cell_type": "markdown",
   "metadata": {},
   "source": [
    "### Top 10 most profitable states from 2011 to 2018\n",
    "- NV \n",
    "- CA \n",
    "- WA \n",
    "- FL \n",
    "- CO \n",
    "- AZ \n",
    "- OR \n",
    "- MI \n",
    "- ID\n",
    "- DC"
   ]
  },
  {
   "cell_type": "markdown",
   "metadata": {},
   "source": [
    "### Using standard deviation to measure volatility:"
   ]
  },
  {
   "cell_type": "code",
   "execution_count": 44,
   "metadata": {},
   "outputs": [],
   "source": [
    "vol_zips = yearly.groupby(yearly.index.get_level_values(1)).std()\n",
    "vol_states = states.groupby(states.index.get_level_values(1)).std()\n",
    "vol_zips = vol_zips.drop(['regionid','sizerank'],axis=1)\n",
    "vol_states = vol_states.drop(['regionid','sizerank'],axis=1)"
   ]
  },
  {
   "cell_type": "code",
   "execution_count": 66,
   "metadata": {},
   "outputs": [],
   "source": [
    "vol_zips.sort_values(by='value', ascending=True)\n",
    "vol_zips_top_10 = vol_zips.sort_values(by='value', ascending=True)[0:10]"
   ]
  },
  {
   "cell_type": "code",
   "execution_count": 67,
   "metadata": {},
   "outputs": [],
   "source": [
    "vol_states.sort_values(by='value', ascending=True)\n",
    "vol_states_top_10 = vol_states.sort_values(by='value', ascending=True)[0:10]"
   ]
  },
  {
   "cell_type": "markdown",
   "metadata": {},
   "source": [
    "### Resiliant Zips\n",
    "To assess resiliance to risk, we can use standard deviation again to determine which zipcodes were the least affected by the housing crisis from 2006 to 2011"
   ]
  },
  {
   "cell_type": "code",
   "execution_count": 69,
   "metadata": {},
   "outputs": [],
   "source": [
    "crisis_list = ['2006','2007','2008','2009','2010','2011']\n",
    "crisis_years = yearly.loc[yearly.index.get_level_values(0).isin(crisis_list)]"
   ]
  },
  {
   "cell_type": "code",
   "execution_count": 70,
   "metadata": {},
   "outputs": [],
   "source": [
    "vol_zips_crisis = crisis_years.groupby(crisis_years.index.get_level_values(1)).std()"
   ]
  },
  {
   "cell_type": "code",
   "execution_count": 76,
   "metadata": {},
   "outputs": [],
   "source": [
    "vol_zips_crisis = vol_zips_crisis.drop(['regionid','sizerank'],axis=1)\n",
    "vol_zips_crisis_top_10 = vol_zips_crisis.sort_values(by='value', ascending=True)[0:10]"
   ]
  },
  {
   "cell_type": "markdown",
   "metadata": {},
   "source": [
    "## Maximum real estate value increase across the entire data set\n",
    "What zip codes increased in value the most from 1996 to 2018?"
   ]
  },
  {
   "cell_type": "code",
   "execution_count": 77,
   "metadata": {},
   "outputs": [],
   "source": [
    "values_2018 = yearly.loc[yearly.index.get_level_values(0) == 2018].value\n",
    "values_1996 = yearly.loc[yearly.index.get_level_values(0) == 1996].value\n",
    "zip_growth = pd.DataFrame(np.log(values_2018.values) - np.log(values_1996.values), columns = ['growth'])\n",
    "zip_growth['zipcodes'] = values_2018.index.get_level_values(1)\n",
    "zip_growth = zip_growth.sort_values(by='growth', ascending=False)"
   ]
  },
  {
   "cell_type": "code",
   "execution_count": 79,
   "metadata": {},
   "outputs": [],
   "source": [
    "zip_growth_top_10 = zip_growth[0:10]"
   ]
  },
  {
   "cell_type": "markdown",
   "metadata": {},
   "source": [
    "## Seasonality in real estate prices\n",
    "Are there any sesonality trend in the real estate prices?  Let's take a look."
   ]
  },
  {
   "cell_type": "code",
   "execution_count": 80,
   "metadata": {},
   "outputs": [],
   "source": [
    "monthly = zill.groupby([zill.index.month, zill.zip]).agg({'regionid': 'min', 'sizerank': 'min', 'value': 'mean'})"
   ]
  },
  {
   "cell_type": "code",
   "execution_count": 64,
   "metadata": {},
   "outputs": [
    {
     "data": {
      "image/png": "[encoded data removed]",
      "text/plain": [
       "<Figure size 864x504 with 1 Axes>"
      ]
     },
     "metadata": {},
     "output_type": "display_data"
    }
   ],
   "source": [
    "## Monthly sales prices for all housing prices\n",
    "monthly_lineplot_all = sns.lineplot(x = monthly.index.get_level_values(0),\n",
    "                                y = 'value',\n",
    "                                data = monthly);"
   ]
  },
  {
   "cell_type": "code",
   "execution_count": 86,
   "metadata": {},
   "outputs": [],
   "source": [
    "top_zips_list = list(zip_growth[0:10]['zipcodes'].values)"
   ]
  },
  {
   "cell_type": "code",
   "execution_count": 88,
   "metadata": {},
   "outputs": [],
   "source": [
    "monthly = zill.groupby([zill.index.month, zill.zip]).mean()\n",
    "monthly_top_zips = monthly.loc[monthly.index.get_level_values(1).isin(top_zips_list)]"
   ]
  },
  {
   "cell_type": "code",
   "execution_count": 92,
   "metadata": {},
   "outputs": [
    {
     "data": {
      "text/plain": [
       "(120, 120)"
      ]
     },
     "execution_count": 92,
     "metadata": {},
     "output_type": "execute_result"
    }
   ],
   "source": [
    "len(monthly_top_zips.index.get_level_values(0)),\\\n",
    "len(monthly_top_zips['value'])"
   ]
  },
  {
   "cell_type": "code",
   "execution_count": 98,
   "metadata": {},
   "outputs": [
    {
     "data": {
      "image/png": "[encoded data removed]",
      "text/plain": [
       "<Figure size 864x504 with 1 Axes>"
      ]
     },
     "metadata": {},
     "output_type": "display_data"
    }
   ],
   "source": [
    "## Monthly sales prices by zip\n",
    "colors = ['#a6cee3','#1f78b4','#b2df8a','#33a02c','#fb9a99','#e31a1c','#fdbf6f','#ff7f00','#cab2d6','#6a3d9a']\n",
    "monthly_lineplot = sns.lineplot(x = monthly_top_zips.index.get_level_values(0),\n",
    "                                y = monthly_top_zips['value'],\n",
    "                                hue = monthly_top_zips.index.get_level_values(1),\n",
    "                                palette = sns.color_palette(colors))"
   ]
  },
  {
   "cell_type": "markdown",
   "metadata": {},
   "source": [
    "__Key Takeaway__: In the aggregate, there appears to be an increase in housing prices in March followed by a dip through May.  Prices then increase from May back to March before the cycle repeats.  When looking at the house values by zip code, there appears to be a much less drastic relationship.  Additional analysis regarding seasonality will take place after selecting the top 10 target zip codes."
   ]
  },
  {
   "cell_type": "code",
   "execution_count": 128,
   "metadata": {},
   "outputs": [
    {
     "data": {
      "text/html": [
       "<div>\n",
       "<style scoped>\n",
       "    .dataframe tbody tr th:only-of-type {\n",
       "        vertical-align: middle;\n",
       "    }\n",
       "\n",
       "    .dataframe tbody tr th {\n",
       "        vertical-align: top;\n",
       "    }\n",
       "\n",
       "    .dataframe thead th {\n",
       "        text-align: right;\n",
       "    }\n",
       "</style>\n",
       "<table border=\"1\" class=\"dataframe\">\n",
       "  <thead>\n",
       "    <tr style=\"text-align: right;\">\n",
       "      <th></th>\n",
       "      <th>growth</th>\n",
       "      <th>zipcodes</th>\n",
       "    </tr>\n",
       "  </thead>\n",
       "  <tbody>\n",
       "    <tr>\n",
       "      <th>5242</th>\n",
       "      <td>1.092565</td>\n",
       "      <td>33404</td>\n",
       "    </tr>\n",
       "    <tr>\n",
       "      <th>1545</th>\n",
       "      <td>1.088616</td>\n",
       "      <td>11216</td>\n",
       "    </tr>\n",
       "    <tr>\n",
       "      <th>11516</th>\n",
       "      <td>1.086232</td>\n",
       "      <td>85008</td>\n",
       "    </tr>\n",
       "    <tr>\n",
       "      <th>12732</th>\n",
       "      <td>1.084198</td>\n",
       "      <td>94804</td>\n",
       "    </tr>\n",
       "    <tr>\n",
       "      <th>5473</th>\n",
       "      <td>1.056110</td>\n",
       "      <td>34207</td>\n",
       "    </tr>\n",
       "    <tr>\n",
       "      <th>...</th>\n",
       "      <td>...</td>\n",
       "      <td>...</td>\n",
       "    </tr>\n",
       "    <tr>\n",
       "      <th>4817</th>\n",
       "      <td>-0.300682</td>\n",
       "      <td>31701</td>\n",
       "    </tr>\n",
       "    <tr>\n",
       "      <th>9740</th>\n",
       "      <td>-0.309264</td>\n",
       "      <td>70805</td>\n",
       "    </tr>\n",
       "    <tr>\n",
       "      <th>9106</th>\n",
       "      <td>-0.336947</td>\n",
       "      <td>62573</td>\n",
       "    </tr>\n",
       "    <tr>\n",
       "      <th>4119</th>\n",
       "      <td>-0.394881</td>\n",
       "      <td>27801</td>\n",
       "    </tr>\n",
       "    <tr>\n",
       "      <th>2532</th>\n",
       "      <td>-0.591824</td>\n",
       "      <td>15902</td>\n",
       "    </tr>\n",
       "  </tbody>\n",
       "</table>\n",
       "<p>13684 rows × 2 columns</p>\n",
       "</div>"
      ],
      "text/plain": [
       "         growth zipcodes\n",
       "5242   1.092565    33404\n",
       "1545   1.088616    11216\n",
       "11516  1.086232    85008\n",
       "12732  1.084198    94804\n",
       "5473   1.056110    34207\n",
       "...         ...      ...\n",
       "4817  -0.300682    31701\n",
       "9740  -0.309264    70805\n",
       "9106  -0.336947    62573\n",
       "4119  -0.394881    27801\n",
       "2532  -0.591824    15902\n",
       "\n",
       "[13684 rows x 2 columns]"
      ]
     },
     "execution_count": 128,
     "metadata": {},
     "output_type": "execute_result"
    }
   ],
   "source": [
    "zip_growth1118"
   ]
  },
  {
   "cell_type": "code",
   "execution_count": 131,
   "metadata": {},
   "outputs": [
    {
     "data": {
      "text/plain": [
       "0        b'01001'\n",
       "1        b'01002'\n",
       "2        b'01005'\n",
       "3        b'01007'\n",
       "4        b'01008'\n",
       "           ...   \n",
       "13679    b'99709'\n",
       "13680    b'99712'\n",
       "13681    b'99801'\n",
       "13682    b'99835'\n",
       "13683    b'99901'\n",
       "Name: zipcodes, Length: 13684, dtype: object"
      ]
     },
     "execution_count": 131,
     "metadata": {},
     "output_type": "execute_result"
    }
   ],
   "source": [
    "list_of_rankings = [vol_zips_crisis,zip_growth1118,zip_growth9618,vol_zips]\n",
    "zip_growth1118.zipcodes.apply(lambda x: x.encode('utf-8').strip())\n",
    "zip_growth9618.zipcodes.apply(lambda x : x.encode('utf-8').strip())"
   ]
  },
  {
   "cell_type": "code",
   "execution_count": 132,
   "metadata": {},
   "outputs": [],
   "source": [
    "import pickle\n",
    "with open('../Step02_Zip_Code_Selection/rankings.pickle', \"wb\") as f:\n",
    "    pickle.dump(vol_zips_crisis, f)\n",
    "    pickle.dump(zip_growth1118, f)\n",
    "    pickle.dump(zip_growth9618, f)\n",
    "    pickle.dump(vol_zips, f)"
   ]
  }
 ],
 "metadata": {
  "kernelspec": {
   "display_name": "Python 3",
   "language": "python",
   "name": "python3"
  },
  "language_info": {
   "codemirror_mode": {
    "name": "ipython",
    "version": 3
   },
   "file_extension": ".py",
   "mimetype": "text/x-python",
   "name": "python",
   "nbconvert_exporter": "python",
   "pygments_lexer": "ipython3",
   "version": "3.7.7"
  }
 },
 "nbformat": 4,
 "nbformat_minor": 4
}
