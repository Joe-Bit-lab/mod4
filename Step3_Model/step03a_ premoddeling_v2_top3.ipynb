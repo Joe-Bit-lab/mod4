{
 "cells": [
  {
   "cell_type": "markdown",
   "metadata": {},
   "source": [
    "# Premoddeling Analysis and Preparation\n",
    "\n",
    "## Import required packages and data"
   ]
  },
  {
   "cell_type": "code",
   "execution_count": 1,
   "metadata": {},
   "outputs": [],
   "source": [
    "import pandas as pd\n",
    "import numpy as np\n",
    "import matplotlib.pyplot as plt\n",
    "import seaborn as sns\n",
    "from statsmodels.graphics.tsaplots import plot_pacf, plot_acf\n",
    "from matplotlib.pylab import rcParams\n",
    "%matplotlib inline"
   ]
  },
  {
   "cell_type": "code",
   "execution_count": 2,
   "metadata": {},
   "outputs": [],
   "source": [
    "zill = pd.read_csv('https://mod4finalproject.s3.amazonaws.com/zillow_cleaned_no_nulls.csv', \n",
    "                   index_col=0, \n",
    "                   dtype = {'zip':'object'})"
   ]
  },
  {
   "cell_type": "code",
   "execution_count": 3,
   "metadata": {},
   "outputs": [
    {
     "data": {
      "text/plain": [
       "regionid        int64\n",
       "zip            object\n",
       "city           object\n",
       "state          object\n",
       "metro          object\n",
       "countyname     object\n",
       "sizerank        int64\n",
       "value         float64\n",
       "dtype: object"
      ]
     },
     "execution_count": 3,
     "metadata": {},
     "output_type": "execute_result"
    }
   ],
   "source": [
    "zill.index = pd.to_datetime(zill.index)\n",
    "zill.dtypes"
   ]
  },
  {
   "cell_type": "markdown",
   "metadata": {},
   "source": [
    "## Define list of best zip codes\n",
    "Create new data frame of just these values"
   ]
  },
  {
   "cell_type": "code",
   "execution_count": 22,
   "metadata": {},
   "outputs": [
    {
     "data": {
      "text/html": [
       "<div>\n",
       "<style scoped>\n",
       "    .dataframe tbody tr th:only-of-type {\n",
       "        vertical-align: middle;\n",
       "    }\n",
       "\n",
       "    .dataframe tbody tr th {\n",
       "        vertical-align: top;\n",
       "    }\n",
       "\n",
       "    .dataframe thead th {\n",
       "        text-align: right;\n",
       "    }\n",
       "</style>\n",
       "<table border=\"1\" class=\"dataframe\">\n",
       "  <thead>\n",
       "    <tr style=\"text-align: right;\">\n",
       "      <th></th>\n",
       "      <th>regionid</th>\n",
       "      <th>zip</th>\n",
       "      <th>city</th>\n",
       "      <th>state</th>\n",
       "      <th>metro</th>\n",
       "      <th>countyname</th>\n",
       "      <th>sizerank</th>\n",
       "      <th>value</th>\n",
       "    </tr>\n",
       "    <tr>\n",
       "      <th>date</th>\n",
       "      <th></th>\n",
       "      <th></th>\n",
       "      <th></th>\n",
       "      <th></th>\n",
       "      <th></th>\n",
       "      <th></th>\n",
       "      <th></th>\n",
       "      <th></th>\n",
       "    </tr>\n",
       "  </thead>\n",
       "  <tbody>\n",
       "    <tr>\n",
       "      <th>1996-04-01</th>\n",
       "      <td>72571</td>\n",
       "      <td>33404</td>\n",
       "      <td>Riviera Beach</td>\n",
       "      <td>FL</td>\n",
       "      <td>Miami-Fort Lauderdale</td>\n",
       "      <td>Palm Beach</td>\n",
       "      <td>2410</td>\n",
       "      <td>56800.0</td>\n",
       "    </tr>\n",
       "    <tr>\n",
       "      <th>1996-05-01</th>\n",
       "      <td>72571</td>\n",
       "      <td>33404</td>\n",
       "      <td>Riviera Beach</td>\n",
       "      <td>FL</td>\n",
       "      <td>Miami-Fort Lauderdale</td>\n",
       "      <td>Palm Beach</td>\n",
       "      <td>2410</td>\n",
       "      <td>56700.0</td>\n",
       "    </tr>\n",
       "    <tr>\n",
       "      <th>1996-06-01</th>\n",
       "      <td>72571</td>\n",
       "      <td>33404</td>\n",
       "      <td>Riviera Beach</td>\n",
       "      <td>FL</td>\n",
       "      <td>Miami-Fort Lauderdale</td>\n",
       "      <td>Palm Beach</td>\n",
       "      <td>2410</td>\n",
       "      <td>56600.0</td>\n",
       "    </tr>\n",
       "    <tr>\n",
       "      <th>1996-07-01</th>\n",
       "      <td>72571</td>\n",
       "      <td>33404</td>\n",
       "      <td>Riviera Beach</td>\n",
       "      <td>FL</td>\n",
       "      <td>Miami-Fort Lauderdale</td>\n",
       "      <td>Palm Beach</td>\n",
       "      <td>2410</td>\n",
       "      <td>56500.0</td>\n",
       "    </tr>\n",
       "    <tr>\n",
       "      <th>1996-08-01</th>\n",
       "      <td>72571</td>\n",
       "      <td>33404</td>\n",
       "      <td>Riviera Beach</td>\n",
       "      <td>FL</td>\n",
       "      <td>Miami-Fort Lauderdale</td>\n",
       "      <td>Palm Beach</td>\n",
       "      <td>2410</td>\n",
       "      <td>56500.0</td>\n",
       "    </tr>\n",
       "    <tr>\n",
       "      <th>...</th>\n",
       "      <td>...</td>\n",
       "      <td>...</td>\n",
       "      <td>...</td>\n",
       "      <td>...</td>\n",
       "      <td>...</td>\n",
       "      <td>...</td>\n",
       "      <td>...</td>\n",
       "      <td>...</td>\n",
       "    </tr>\n",
       "    <tr>\n",
       "      <th>2017-12-01</th>\n",
       "      <td>72571</td>\n",
       "      <td>33404</td>\n",
       "      <td>Riviera Beach</td>\n",
       "      <td>FL</td>\n",
       "      <td>Miami-Fort Lauderdale</td>\n",
       "      <td>Palm Beach</td>\n",
       "      <td>2410</td>\n",
       "      <td>128500.0</td>\n",
       "    </tr>\n",
       "    <tr>\n",
       "      <th>2018-01-01</th>\n",
       "      <td>72571</td>\n",
       "      <td>33404</td>\n",
       "      <td>Riviera Beach</td>\n",
       "      <td>FL</td>\n",
       "      <td>Miami-Fort Lauderdale</td>\n",
       "      <td>Palm Beach</td>\n",
       "      <td>2410</td>\n",
       "      <td>129900.0</td>\n",
       "    </tr>\n",
       "    <tr>\n",
       "      <th>2018-02-01</th>\n",
       "      <td>72571</td>\n",
       "      <td>33404</td>\n",
       "      <td>Riviera Beach</td>\n",
       "      <td>FL</td>\n",
       "      <td>Miami-Fort Lauderdale</td>\n",
       "      <td>Palm Beach</td>\n",
       "      <td>2410</td>\n",
       "      <td>130700.0</td>\n",
       "    </tr>\n",
       "    <tr>\n",
       "      <th>2018-03-01</th>\n",
       "      <td>72571</td>\n",
       "      <td>33404</td>\n",
       "      <td>Riviera Beach</td>\n",
       "      <td>FL</td>\n",
       "      <td>Miami-Fort Lauderdale</td>\n",
       "      <td>Palm Beach</td>\n",
       "      <td>2410</td>\n",
       "      <td>132300.0</td>\n",
       "    </tr>\n",
       "    <tr>\n",
       "      <th>2018-04-01</th>\n",
       "      <td>72571</td>\n",
       "      <td>33404</td>\n",
       "      <td>Riviera Beach</td>\n",
       "      <td>FL</td>\n",
       "      <td>Miami-Fort Lauderdale</td>\n",
       "      <td>Palm Beach</td>\n",
       "      <td>2410</td>\n",
       "      <td>134700.0</td>\n",
       "    </tr>\n",
       "  </tbody>\n",
       "</table>\n",
       "<p>265 rows × 8 columns</p>\n",
       "</div>"
      ],
      "text/plain": [
       "            regionid    zip           city state                  metro  \\\n",
       "date                                                                      \n",
       "1996-04-01     72571  33404  Riviera Beach    FL  Miami-Fort Lauderdale   \n",
       "1996-05-01     72571  33404  Riviera Beach    FL  Miami-Fort Lauderdale   \n",
       "1996-06-01     72571  33404  Riviera Beach    FL  Miami-Fort Lauderdale   \n",
       "1996-07-01     72571  33404  Riviera Beach    FL  Miami-Fort Lauderdale   \n",
       "1996-08-01     72571  33404  Riviera Beach    FL  Miami-Fort Lauderdale   \n",
       "...              ...    ...            ...   ...                    ...   \n",
       "2017-12-01     72571  33404  Riviera Beach    FL  Miami-Fort Lauderdale   \n",
       "2018-01-01     72571  33404  Riviera Beach    FL  Miami-Fort Lauderdale   \n",
       "2018-02-01     72571  33404  Riviera Beach    FL  Miami-Fort Lauderdale   \n",
       "2018-03-01     72571  33404  Riviera Beach    FL  Miami-Fort Lauderdale   \n",
       "2018-04-01     72571  33404  Riviera Beach    FL  Miami-Fort Lauderdale   \n",
       "\n",
       "            countyname  sizerank     value  \n",
       "date                                        \n",
       "1996-04-01  Palm Beach      2410   56800.0  \n",
       "1996-05-01  Palm Beach      2410   56700.0  \n",
       "1996-06-01  Palm Beach      2410   56600.0  \n",
       "1996-07-01  Palm Beach      2410   56500.0  \n",
       "1996-08-01  Palm Beach      2410   56500.0  \n",
       "...                ...       ...       ...  \n",
       "2017-12-01  Palm Beach      2410  128500.0  \n",
       "2018-01-01  Palm Beach      2410  129900.0  \n",
       "2018-02-01  Palm Beach      2410  130700.0  \n",
       "2018-03-01  Palm Beach      2410  132300.0  \n",
       "2018-04-01  Palm Beach      2410  134700.0  \n",
       "\n",
       "[265 rows x 8 columns]"
      ]
     },
     "execution_count": 22,
     "metadata": {},
     "output_type": "execute_result"
    }
   ],
   "source": [
    "zill.loc[(zill.zip == '33404')]"
   ]
  },
  {
   "cell_type": "code",
   "execution_count": 15,
   "metadata": {},
   "outputs": [],
   "source": [
    "best_zips = ['10021', '10011', '10014']\n",
    "top_zips = zill.loc[(zill.zip.isin(best_zips))]"
   ]
  },
  {
   "cell_type": "code",
   "execution_count": 5,
   "metadata": {},
   "outputs": [],
   "source": [
    "kill_cols = ['regionid', 'city', 'state', 'metro', 'countyname', 'sizerank']\n",
    "top_zips = top_zips.drop(columns = kill_cols)"
   ]
  },
  {
   "cell_type": "markdown",
   "metadata": {},
   "source": [
    "## Define dataframes of just each zip code's name"
   ]
  },
  {
   "cell_type": "code",
   "execution_count": 6,
   "metadata": {},
   "outputs": [],
   "source": [
    "eastside = top_zips.loc[(top_zips.zip == '10021')]\n",
    "chelsea = top_zips.loc[(top_zips.zip == '10011')]\n",
    "greenwich = top_zips.loc[(top_zips.zip == '10014')]"
   ]
  },
  {
   "cell_type": "markdown",
   "metadata": {},
   "source": [
    "## Review mean house values over time"
   ]
  },
  {
   "cell_type": "code",
   "execution_count": 7,
   "metadata": {},
   "outputs": [
    {
     "data": {
      "image/png": "[encoded data removed]",
      "text/plain": [
       "<Figure size 1080x360 with 1 Axes>"
      ]
     },
     "metadata": {
      "needs_background": "light"
     },
     "output_type": "display_data"
    }
   ],
   "source": [
    "eastside.value.rolling(1).mean().plot(figsize=(15,5));"
   ]
  },
  {
   "cell_type": "code",
   "execution_count": 8,
   "metadata": {},
   "outputs": [
    {
     "data": {
      "image/png": "[encoded data removed]",
      "text/plain": [
       "<Figure size 1080x360 with 1 Axes>"
      ]
     },
     "metadata": {
      "needs_background": "light"
     },
     "output_type": "display_data"
    }
   ],
   "source": [
    "chelsea.value.rolling(1).mean().plot(figsize=(15,5));"
   ]
  },
  {
   "cell_type": "code",
   "execution_count": 9,
   "metadata": {},
   "outputs": [
    {
     "data": {
      "image/png": "[encoded data removed]",
      "text/plain": [
       "<Figure size 1080x360 with 1 Axes>"
      ]
     },
     "metadata": {
      "needs_background": "light"
     },
     "output_type": "display_data"
    }
   ],
   "source": [
    "greenwich.value.rolling(1).mean().plot(figsize=(15,5));"
   ]
  },
  {
   "cell_type": "markdown",
   "metadata": {},
   "source": [
    "## Create and review autocorrilation plots"
   ]
  },
  {
   "cell_type": "code",
   "execution_count": 10,
   "metadata": {},
   "outputs": [
    {
     "name": "stderr",
     "output_type": "stream",
     "text": [
      "/Users/algrhythm/opt/anaconda3/lib/python3.7/site-packages/numpy/core/fromnumeric.py:3335: RuntimeWarning: Mean of empty slice.\n",
      "  out=out, **kwargs)\n",
      "/Users/algrhythm/opt/anaconda3/lib/python3.7/site-packages/numpy/core/_methods.py:161: RuntimeWarning: invalid value encountered in double_scalars\n",
      "  ret = ret.dtype.type(ret / rcount)\n",
      "/Users/algrhythm/opt/anaconda3/lib/python3.7/site-packages/pandas/plotting/_matplotlib/misc.py:411: RuntimeWarning: invalid value encountered in double_scalars\n",
      "  c0 = np.sum((data - mean) ** 2) / float(n)\n",
      "/Users/algrhythm/opt/anaconda3/lib/python3.7/site-packages/pandas/plotting/_matplotlib/misc.py:420: RuntimeWarning: divide by zero encountered in double_scalars\n",
      "  ax.axhline(y=z99 / np.sqrt(n), linestyle=\"--\", color=\"grey\")\n",
      "/Users/algrhythm/opt/anaconda3/lib/python3.7/site-packages/pandas/plotting/_matplotlib/misc.py:421: RuntimeWarning: divide by zero encountered in double_scalars\n",
      "  ax.axhline(y=z95 / np.sqrt(n), color=\"grey\")\n",
      "/Users/algrhythm/opt/anaconda3/lib/python3.7/site-packages/pandas/plotting/_matplotlib/misc.py:423: RuntimeWarning: divide by zero encountered in double_scalars\n",
      "  ax.axhline(y=-z95 / np.sqrt(n), color=\"grey\")\n",
      "/Users/algrhythm/opt/anaconda3/lib/python3.7/site-packages/pandas/plotting/_matplotlib/misc.py:424: RuntimeWarning: divide by zero encountered in double_scalars\n",
      "  ax.axhline(y=-z99 / np.sqrt(n), linestyle=\"--\", color=\"grey\")\n"
     ]
    },
    {
     "data": {
      "image/png": "[encoded data removed]",
      "text/plain": [
       "<Figure size 1080x360 with 1 Axes>"
      ]
     },
     "metadata": {
      "needs_background": "light"
     },
     "output_type": "display_data"
    }
   ],
   "source": [
    "plt.figure(figsize=(15,5))\n",
    "figure = pd.plotting.autocorrelation_plot(top_zips.value);"
   ]
  },
  {
   "cell_type": "code",
   "execution_count": 11,
   "metadata": {},
   "outputs": [
    {
     "name": "stderr",
     "output_type": "stream",
     "text": [
      "/Users/algrhythm/opt/anaconda3/lib/python3.7/site-packages/numpy/core/fromnumeric.py:3335: RuntimeWarning: Mean of empty slice.\n",
      "  out=out, **kwargs)\n",
      "/Users/algrhythm/opt/anaconda3/lib/python3.7/site-packages/numpy/core/_methods.py:161: RuntimeWarning: invalid value encountered in double_scalars\n",
      "  ret = ret.dtype.type(ret / rcount)\n",
      "/Users/algrhythm/opt/anaconda3/lib/python3.7/site-packages/pandas/plotting/_matplotlib/misc.py:411: RuntimeWarning: invalid value encountered in double_scalars\n",
      "  c0 = np.sum((data - mean) ** 2) / float(n)\n",
      "/Users/algrhythm/opt/anaconda3/lib/python3.7/site-packages/pandas/plotting/_matplotlib/misc.py:420: RuntimeWarning: divide by zero encountered in double_scalars\n",
      "  ax.axhline(y=z99 / np.sqrt(n), linestyle=\"--\", color=\"grey\")\n",
      "/Users/algrhythm/opt/anaconda3/lib/python3.7/site-packages/pandas/plotting/_matplotlib/misc.py:421: RuntimeWarning: divide by zero encountered in double_scalars\n",
      "  ax.axhline(y=z95 / np.sqrt(n), color=\"grey\")\n",
      "/Users/algrhythm/opt/anaconda3/lib/python3.7/site-packages/pandas/plotting/_matplotlib/misc.py:423: RuntimeWarning: divide by zero encountered in double_scalars\n",
      "  ax.axhline(y=-z95 / np.sqrt(n), color=\"grey\")\n",
      "/Users/algrhythm/opt/anaconda3/lib/python3.7/site-packages/pandas/plotting/_matplotlib/misc.py:424: RuntimeWarning: divide by zero encountered in double_scalars\n",
      "  ax.axhline(y=-z99 / np.sqrt(n), linestyle=\"--\", color=\"grey\")\n"
     ]
    },
    {
     "data": {
      "image/png": "[encoded data removed]",
      "text/plain": [
       "<Figure size 1080x360 with 1 Axes>"
      ]
     },
     "metadata": {
      "needs_background": "light"
     },
     "output_type": "display_data"
    }
   ],
   "source": [
    "plt.figure(figsize=(15,5))\n",
    "figure = pd.plotting.autocorrelation_plot(eastside.value);"
   ]
  },
  {
   "cell_type": "code",
   "execution_count": 12,
   "metadata": {},
   "outputs": [
    {
     "name": "stderr",
     "output_type": "stream",
     "text": [
      "/Users/algrhythm/opt/anaconda3/lib/python3.7/site-packages/numpy/core/fromnumeric.py:3335: RuntimeWarning: Mean of empty slice.\n",
      "  out=out, **kwargs)\n",
      "/Users/algrhythm/opt/anaconda3/lib/python3.7/site-packages/numpy/core/_methods.py:161: RuntimeWarning: invalid value encountered in double_scalars\n",
      "  ret = ret.dtype.type(ret / rcount)\n",
      "/Users/algrhythm/opt/anaconda3/lib/python3.7/site-packages/pandas/plotting/_matplotlib/misc.py:411: RuntimeWarning: invalid value encountered in double_scalars\n",
      "  c0 = np.sum((data - mean) ** 2) / float(n)\n",
      "/Users/algrhythm/opt/anaconda3/lib/python3.7/site-packages/pandas/plotting/_matplotlib/misc.py:420: RuntimeWarning: divide by zero encountered in double_scalars\n",
      "  ax.axhline(y=z99 / np.sqrt(n), linestyle=\"--\", color=\"grey\")\n",
      "/Users/algrhythm/opt/anaconda3/lib/python3.7/site-packages/pandas/plotting/_matplotlib/misc.py:421: RuntimeWarning: divide by zero encountered in double_scalars\n",
      "  ax.axhline(y=z95 / np.sqrt(n), color=\"grey\")\n",
      "/Users/algrhythm/opt/anaconda3/lib/python3.7/site-packages/pandas/plotting/_matplotlib/misc.py:423: RuntimeWarning: divide by zero encountered in double_scalars\n",
      "  ax.axhline(y=-z95 / np.sqrt(n), color=\"grey\")\n",
      "/Users/algrhythm/opt/anaconda3/lib/python3.7/site-packages/pandas/plotting/_matplotlib/misc.py:424: RuntimeWarning: divide by zero encountered in double_scalars\n",
      "  ax.axhline(y=-z99 / np.sqrt(n), linestyle=\"--\", color=\"grey\")\n"
     ]
    },
    {
     "data": {
      "image/png": "[encoded data removed]",
      "text/plain": [
       "<Figure size 1080x360 with 1 Axes>"
      ]
     },
     "metadata": {
      "needs_background": "light"
     },
     "output_type": "display_data"
    }
   ],
   "source": [
    "plt.figure(figsize=(15,5))\n",
    "figure = pd.plotting.autocorrelation_plot(chelsea.value);"
   ]
  },
  {
   "cell_type": "code",
   "execution_count": 13,
   "metadata": {},
   "outputs": [
    {
     "name": "stderr",
     "output_type": "stream",
     "text": [
      "/Users/algrhythm/opt/anaconda3/lib/python3.7/site-packages/numpy/core/fromnumeric.py:3335: RuntimeWarning: Mean of empty slice.\n",
      "  out=out, **kwargs)\n",
      "/Users/algrhythm/opt/anaconda3/lib/python3.7/site-packages/numpy/core/_methods.py:161: RuntimeWarning: invalid value encountered in double_scalars\n",
      "  ret = ret.dtype.type(ret / rcount)\n",
      "/Users/algrhythm/opt/anaconda3/lib/python3.7/site-packages/pandas/plotting/_matplotlib/misc.py:411: RuntimeWarning: invalid value encountered in double_scalars\n",
      "  c0 = np.sum((data - mean) ** 2) / float(n)\n",
      "/Users/algrhythm/opt/anaconda3/lib/python3.7/site-packages/pandas/plotting/_matplotlib/misc.py:420: RuntimeWarning: divide by zero encountered in double_scalars\n",
      "  ax.axhline(y=z99 / np.sqrt(n), linestyle=\"--\", color=\"grey\")\n",
      "/Users/algrhythm/opt/anaconda3/lib/python3.7/site-packages/pandas/plotting/_matplotlib/misc.py:421: RuntimeWarning: divide by zero encountered in double_scalars\n",
      "  ax.axhline(y=z95 / np.sqrt(n), color=\"grey\")\n",
      "/Users/algrhythm/opt/anaconda3/lib/python3.7/site-packages/pandas/plotting/_matplotlib/misc.py:423: RuntimeWarning: divide by zero encountered in double_scalars\n",
      "  ax.axhline(y=-z95 / np.sqrt(n), color=\"grey\")\n",
      "/Users/algrhythm/opt/anaconda3/lib/python3.7/site-packages/pandas/plotting/_matplotlib/misc.py:424: RuntimeWarning: divide by zero encountered in double_scalars\n",
      "  ax.axhline(y=-z99 / np.sqrt(n), linestyle=\"--\", color=\"grey\")\n"
     ]
    },
    {
     "data": {
      "image/png": "[encoded data removed]",
      "text/plain": [
       "<Figure size 1080x360 with 1 Axes>"
      ]
     },
     "metadata": {
      "needs_background": "light"
     },
     "output_type": "display_data"
    }
   ],
   "source": [
    "plt.figure(figsize=(15,5))\n",
    "figure = pd.plotting.autocorrelation_plot(greenwich.value);"
   ]
  },
  {
   "cell_type": "markdown",
   "metadata": {},
   "source": [
    "## Alternative to pandas' autocorrelaiton"
   ]
  },
  {
   "cell_type": "code",
   "execution_count": 14,
   "metadata": {},
   "outputs": [
    {
     "name": "stderr",
     "output_type": "stream",
     "text": [
      "/Users/algrhythm/opt/anaconda3/lib/python3.7/site-packages/statsmodels/tsa/stattools.py:402: RuntimeWarning: Mean of empty slice.\n",
      "  xo = x - x.mean()\n",
      "/Users/algrhythm/opt/anaconda3/lib/python3.7/site-packages/numpy/core/_methods.py:161: RuntimeWarning: invalid value encountered in double_scalars\n",
      "  ret = ret.dtype.type(ret / rcount)\n"
     ]
    },
    {
     "ename": "ValueError",
     "evalue": "negative dimensions are not allowed",
     "output_type": "error",
     "traceback": [
      "\u001b[0;31m---------------------------------------------------------------------------\u001b[0m",
      "\u001b[0;31mValueError\u001b[0m                                Traceback (most recent call last)",
      "\u001b[0;32m<ipython-input-14-774a06ccf9b5>\u001b[0m in \u001b[0;36m<module>\u001b[0;34m\u001b[0m\n\u001b[1;32m      1\u001b[0m \u001b[0mrcParams\u001b[0m\u001b[0;34m[\u001b[0m\u001b[0;34m'figure.figsize'\u001b[0m\u001b[0;34m]\u001b[0m \u001b[0;34m=\u001b[0m \u001b[0;36m15\u001b[0m\u001b[0;34m,\u001b[0m \u001b[0;36m5\u001b[0m\u001b[0;34m\u001b[0m\u001b[0;34m\u001b[0m\u001b[0m\n\u001b[0;32m----> 2\u001b[0;31m \u001b[0mplot_acf\u001b[0m\u001b[0;34m(\u001b[0m\u001b[0mtop_zips\u001b[0m\u001b[0;34m.\u001b[0m\u001b[0mvalue\u001b[0m\u001b[0;34m,\u001b[0m \u001b[0mlags\u001b[0m\u001b[0;34m=\u001b[0m\u001b[0;36m100\u001b[0m\u001b[0;34m)\u001b[0m\u001b[0;34m;\u001b[0m\u001b[0;34m\u001b[0m\u001b[0;34m\u001b[0m\u001b[0m\n\u001b[0m",
      "\u001b[0;32m~/opt/anaconda3/lib/python3.7/site-packages/statsmodels/graphics/tsaplots.py\u001b[0m in \u001b[0;36mplot_acf\u001b[0;34m(x, ax, lags, alpha, use_vlines, unbiased, fft, missing, title, zero, vlines_kwargs, **kwargs)\u001b[0m\n\u001b[1;32m    151\u001b[0m     \u001b[0;31m# acf has different return type based on alpha\u001b[0m\u001b[0;34m\u001b[0m\u001b[0;34m\u001b[0m\u001b[0;34m\u001b[0m\u001b[0m\n\u001b[1;32m    152\u001b[0m     acf_x = acf(x, nlags=nlags, alpha=alpha, fft=fft, unbiased=unbiased,\n\u001b[0;32m--> 153\u001b[0;31m                 missing=missing)\n\u001b[0m\u001b[1;32m    154\u001b[0m     \u001b[0;32mif\u001b[0m \u001b[0malpha\u001b[0m \u001b[0;32mis\u001b[0m \u001b[0;32mnot\u001b[0m \u001b[0;32mNone\u001b[0m\u001b[0;34m:\u001b[0m\u001b[0;34m\u001b[0m\u001b[0;34m\u001b[0m\u001b[0m\n\u001b[1;32m    155\u001b[0m         \u001b[0macf_x\u001b[0m\u001b[0;34m,\u001b[0m \u001b[0mconfint\u001b[0m \u001b[0;34m=\u001b[0m \u001b[0macf_x\u001b[0m\u001b[0;34m\u001b[0m\u001b[0;34m\u001b[0m\u001b[0m\n",
      "\u001b[0;32m~/opt/anaconda3/lib/python3.7/site-packages/statsmodels/tsa/stattools.py\u001b[0m in \u001b[0;36macf\u001b[0;34m(x, unbiased, nlags, qstat, fft, alpha, missing)\u001b[0m\n\u001b[1;32m    575\u001b[0m     \u001b[0mx\u001b[0m \u001b[0;34m=\u001b[0m \u001b[0marray_like\u001b[0m\u001b[0;34m(\u001b[0m\u001b[0mx\u001b[0m\u001b[0;34m,\u001b[0m \u001b[0;34m'x'\u001b[0m\u001b[0;34m)\u001b[0m\u001b[0;34m\u001b[0m\u001b[0;34m\u001b[0m\u001b[0m\n\u001b[1;32m    576\u001b[0m     \u001b[0mnobs\u001b[0m \u001b[0;34m=\u001b[0m \u001b[0mlen\u001b[0m\u001b[0;34m(\u001b[0m\u001b[0mx\u001b[0m\u001b[0;34m)\u001b[0m  \u001b[0;31m# TODO: should this shrink for missing='drop' and NaNs in x?\u001b[0m\u001b[0;34m\u001b[0m\u001b[0;34m\u001b[0m\u001b[0m\n\u001b[0;32m--> 577\u001b[0;31m     \u001b[0mavf\u001b[0m \u001b[0;34m=\u001b[0m \u001b[0macovf\u001b[0m\u001b[0;34m(\u001b[0m\u001b[0mx\u001b[0m\u001b[0;34m,\u001b[0m \u001b[0munbiased\u001b[0m\u001b[0;34m=\u001b[0m\u001b[0munbiased\u001b[0m\u001b[0;34m,\u001b[0m \u001b[0mdemean\u001b[0m\u001b[0;34m=\u001b[0m\u001b[0;32mTrue\u001b[0m\u001b[0;34m,\u001b[0m \u001b[0mfft\u001b[0m\u001b[0;34m=\u001b[0m\u001b[0mfft\u001b[0m\u001b[0;34m,\u001b[0m \u001b[0mmissing\u001b[0m\u001b[0;34m=\u001b[0m\u001b[0mmissing\u001b[0m\u001b[0;34m)\u001b[0m\u001b[0;34m\u001b[0m\u001b[0;34m\u001b[0m\u001b[0m\n\u001b[0m\u001b[1;32m    578\u001b[0m     \u001b[0macf\u001b[0m \u001b[0;34m=\u001b[0m \u001b[0mavf\u001b[0m\u001b[0;34m[\u001b[0m\u001b[0;34m:\u001b[0m\u001b[0mnlags\u001b[0m \u001b[0;34m+\u001b[0m \u001b[0;36m1\u001b[0m\u001b[0;34m]\u001b[0m \u001b[0;34m/\u001b[0m \u001b[0mavf\u001b[0m\u001b[0;34m[\u001b[0m\u001b[0;36m0\u001b[0m\u001b[0;34m]\u001b[0m\u001b[0;34m\u001b[0m\u001b[0;34m\u001b[0m\u001b[0m\n\u001b[1;32m    579\u001b[0m     \u001b[0;32mif\u001b[0m \u001b[0;32mnot\u001b[0m \u001b[0;34m(\u001b[0m\u001b[0mqstat\u001b[0m \u001b[0;32mor\u001b[0m \u001b[0malpha\u001b[0m\u001b[0;34m)\u001b[0m\u001b[0;34m:\u001b[0m\u001b[0;34m\u001b[0m\u001b[0;34m\u001b[0m\u001b[0m\n",
      "\u001b[0;32m~/opt/anaconda3/lib/python3.7/site-packages/statsmodels/tsa/stattools.py\u001b[0m in \u001b[0;36macovf\u001b[0;34m(x, unbiased, demean, fft, missing, nlag)\u001b[0m\n\u001b[1;32m    442\u001b[0m         \u001b[0md\u001b[0m \u001b[0;34m=\u001b[0m \u001b[0mnotmask_int\u001b[0m\u001b[0;34m.\u001b[0m\u001b[0msum\u001b[0m\u001b[0;34m(\u001b[0m\u001b[0;34m)\u001b[0m \u001b[0;34m*\u001b[0m \u001b[0mnp\u001b[0m\u001b[0;34m.\u001b[0m\u001b[0mones\u001b[0m\u001b[0;34m(\u001b[0m\u001b[0;36m2\u001b[0m \u001b[0;34m*\u001b[0m \u001b[0mn\u001b[0m \u001b[0;34m-\u001b[0m \u001b[0;36m1\u001b[0m\u001b[0;34m)\u001b[0m\u001b[0;34m\u001b[0m\u001b[0;34m\u001b[0m\u001b[0m\n\u001b[1;32m    443\u001b[0m     \u001b[0;32melse\u001b[0m\u001b[0;34m:\u001b[0m  \u001b[0;31m# biased and no NaNs or missing=='none'\u001b[0m\u001b[0;34m\u001b[0m\u001b[0;34m\u001b[0m\u001b[0m\n\u001b[0;32m--> 444\u001b[0;31m         \u001b[0md\u001b[0m \u001b[0;34m=\u001b[0m \u001b[0mn\u001b[0m \u001b[0;34m*\u001b[0m \u001b[0mnp\u001b[0m\u001b[0;34m.\u001b[0m\u001b[0mones\u001b[0m\u001b[0;34m(\u001b[0m\u001b[0;36m2\u001b[0m \u001b[0;34m*\u001b[0m \u001b[0mn\u001b[0m \u001b[0;34m-\u001b[0m \u001b[0;36m1\u001b[0m\u001b[0;34m)\u001b[0m\u001b[0;34m\u001b[0m\u001b[0;34m\u001b[0m\u001b[0m\n\u001b[0m\u001b[1;32m    445\u001b[0m \u001b[0;34m\u001b[0m\u001b[0m\n\u001b[1;32m    446\u001b[0m     \u001b[0;32mif\u001b[0m \u001b[0mfft\u001b[0m\u001b[0;34m:\u001b[0m\u001b[0;34m\u001b[0m\u001b[0;34m\u001b[0m\u001b[0m\n",
      "\u001b[0;32m~/opt/anaconda3/lib/python3.7/site-packages/numpy/core/numeric.py\u001b[0m in \u001b[0;36mones\u001b[0;34m(shape, dtype, order)\u001b[0m\n\u001b[1;32m    205\u001b[0m \u001b[0;34m\u001b[0m\u001b[0m\n\u001b[1;32m    206\u001b[0m     \"\"\"\n\u001b[0;32m--> 207\u001b[0;31m     \u001b[0ma\u001b[0m \u001b[0;34m=\u001b[0m \u001b[0mempty\u001b[0m\u001b[0;34m(\u001b[0m\u001b[0mshape\u001b[0m\u001b[0;34m,\u001b[0m \u001b[0mdtype\u001b[0m\u001b[0;34m,\u001b[0m \u001b[0morder\u001b[0m\u001b[0;34m)\u001b[0m\u001b[0;34m\u001b[0m\u001b[0;34m\u001b[0m\u001b[0m\n\u001b[0m\u001b[1;32m    208\u001b[0m     \u001b[0mmultiarray\u001b[0m\u001b[0;34m.\u001b[0m\u001b[0mcopyto\u001b[0m\u001b[0;34m(\u001b[0m\u001b[0ma\u001b[0m\u001b[0;34m,\u001b[0m \u001b[0;36m1\u001b[0m\u001b[0;34m,\u001b[0m \u001b[0mcasting\u001b[0m\u001b[0;34m=\u001b[0m\u001b[0;34m'unsafe'\u001b[0m\u001b[0;34m)\u001b[0m\u001b[0;34m\u001b[0m\u001b[0;34m\u001b[0m\u001b[0m\n\u001b[1;32m    209\u001b[0m     \u001b[0;32mreturn\u001b[0m \u001b[0ma\u001b[0m\u001b[0;34m\u001b[0m\u001b[0;34m\u001b[0m\u001b[0m\n",
      "\u001b[0;31mValueError\u001b[0m: negative dimensions are not allowed"
     ]
    },
    {
     "data": {
      "image/png": "[encoded data removed]",
      "text/plain": [
       "<Figure size 1080x360 with 1 Axes>"
      ]
     },
     "metadata": {
      "needs_background": "light"
     },
     "output_type": "display_data"
    }
   ],
   "source": [
    "rcParams['figure.figsize'] = 15, 5\n",
    "plot_acf(top_zips.value, lags=100);"
   ]
  },
  {
   "cell_type": "code",
   "execution_count": null,
   "metadata": {},
   "outputs": [],
   "source": [
    "rcParams['figure.figsize'] = 15, 5\n",
    "plot_acf(eastside.value, lags=100);"
   ]
  },
  {
   "cell_type": "code",
   "execution_count": null,
   "metadata": {},
   "outputs": [],
   "source": [
    "rcParams['figure.figsize'] = 15, 5\n",
    "plot_acf(chelsea.value, lags=100);"
   ]
  },
  {
   "cell_type": "code",
   "execution_count": null,
   "metadata": {},
   "outputs": [],
   "source": [
    "rcParams['figure.figsize'] = 15, 5\n",
    "plot_acf(greenwich.value, lags=100);"
   ]
  },
  {
   "cell_type": "markdown",
   "metadata": {},
   "source": [
    "## Plot partial autocorrelation function\n",
    "Plots currently inlcude dumm lags, better values pending further analysis"
   ]
  },
  {
   "cell_type": "code",
   "execution_count": null,
   "metadata": {},
   "outputs": [],
   "source": [
    "rcParams['figure.figsize'] = 15, 5\n",
    "plot_pacf(top_zips.value, lags=100);"
   ]
  },
  {
   "cell_type": "code",
   "execution_count": null,
   "metadata": {},
   "outputs": [],
   "source": [
    "rcParams['figure.figsize'] = 15, 5\n",
    "plot_pacf(eastside.value, lags=100);"
   ]
  },
  {
   "cell_type": "code",
   "execution_count": null,
   "metadata": {},
   "outputs": [],
   "source": [
    "rcParams['figure.figsize'] = 15, 5\n",
    "plot_pacf(chelsea.value, lags=100);"
   ]
  },
  {
   "cell_type": "code",
   "execution_count": null,
   "metadata": {},
   "outputs": [],
   "source": [
    "rcParams['figure.figsize'] = 15, 5\n",
    "plot_pacf(greenwich.value, lags=100);"
   ]
  },
  {
   "cell_type": "code",
   "execution_count": null,
   "metadata": {},
   "outputs": [],
   "source": []
  },
  {
   "cell_type": "code",
   "execution_count": null,
   "metadata": {},
   "outputs": [],
   "source": []
  },
  {
   "cell_type": "code",
   "execution_count": null,
   "metadata": {},
   "outputs": [],
   "source": []
  }
 ],
 "metadata": {
  "kernelspec": {
   "display_name": "Python 3",
   "language": "python",
   "name": "python3"
  },
  "language_info": {
   "codemirror_mode": {
    "name": "ipython",
    "version": 3
   },
   "file_extension": ".py",
   "mimetype": "text/x-python",
   "name": "python",
   "nbconvert_exporter": "python",
   "pygments_lexer": "ipython3",
   "version": "3.7.7"
  }
 },
 "nbformat": 4,
 "nbformat_minor": 4
}
