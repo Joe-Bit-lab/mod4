{
 "cells": [
  {
   "cell_type": "markdown",
   "metadata": {},
   "source": [
    "code from: https://machinelearningmastery.com/arima-for-time-zill-forecasting-with-python/\n",
    "\n"
   ]
  },
  {
   "cell_type": "code",
   "execution_count": 2,
   "metadata": {},
   "outputs": [],
   "source": [
    "import pandas as pd\n",
    "import numpy as np\n",
    "from pandas import read_csv\n",
    "from pandas import DataFrame\n",
    "from statsmodels.tsa.arima_model import ARIMA\n",
    "from matplotlib import pyplot"
   ]
  },
  {
   "cell_type": "code",
   "execution_count": 3,
   "metadata": {},
   "outputs": [],
   "source": [
    "zill = pd.read_csv('https://mod4finalproject.s3.amazonaws.com/zillow_cleaned_no_nulls.csv', \n",
    "                   index_col=0, \n",
    "                   dtype = {'zip':'object'})"
   ]
  },
  {
   "cell_type": "code",
   "execution_count": 3,
   "metadata": {},
   "outputs": [],
   "source": [
    "zill = zill.drop(columns = ['regionid', 'city', 'state', 'metro', 'countyname', 'sizerank'])"
   ]
  },
  {
   "cell_type": "code",
   "execution_count": 28,
   "metadata": {},
   "outputs": [],
   "source": [
    "zill.index = pd.to_datetime(zill.index)"
   ]
  },
  {
   "cell_type": "code",
   "execution_count": 4,
   "metadata": {},
   "outputs": [],
   "source": [
    "best_zips = ['90210', '33480', '01001']"
   ]
  },
  {
   "cell_type": "code",
   "execution_count": null,
   "metadata": {},
   "outputs": [],
   "source": []
  },
  {
   "cell_type": "code",
   "execution_count": 39,
   "metadata": {},
   "outputs": [],
   "source": [
    "# zill = zill.resample('M', convention='start').sum()"
   ]
  },
  {
   "cell_type": "markdown",
   "metadata": {},
   "source": [
    "# Model for all data"
   ]
  },
  {
   "cell_type": "code",
   "execution_count": 40,
   "metadata": {},
   "outputs": [
    {
     "name": "stderr",
     "output_type": "stream",
     "text": [
      "/Users/algrhythm/opt/anaconda3/lib/python3.7/site-packages/statsmodels/regression/linear_model.py:1406: RuntimeWarning: invalid value encountered in sqrt\n",
      "  return rho, np.sqrt(sigmasq)\n"
     ]
    },
    {
     "ename": "ValueError",
     "evalue": "The computed initial AR coefficients are not stationary\nYou should induce stationarity, choose a different model order, or you can\npass your own start_params.",
     "output_type": "error",
     "traceback": [
      "\u001b[0;31m---------------------------------------------------------------------------\u001b[0m",
      "\u001b[0;31mValueError\u001b[0m                                Traceback (most recent call last)",
      "\u001b[0;32m<ipython-input-40-4c61f34bf2aa>\u001b[0m in \u001b[0;36m<module>\u001b[0;34m\u001b[0m\n\u001b[1;32m      3\u001b[0m \u001b[0;34m\u001b[0m\u001b[0m\n\u001b[1;32m      4\u001b[0m \u001b[0mmodel\u001b[0m \u001b[0;34m=\u001b[0m \u001b[0mARIMA\u001b[0m\u001b[0;34m(\u001b[0m\u001b[0mnp\u001b[0m\u001b[0;34m.\u001b[0m\u001b[0masarray\u001b[0m\u001b[0;34m(\u001b[0m\u001b[0mzill\u001b[0m\u001b[0;34m.\u001b[0m\u001b[0mvalue\u001b[0m\u001b[0;34m.\u001b[0m\u001b[0mvalues\u001b[0m\u001b[0;34m)\u001b[0m\u001b[0;34m,\u001b[0m \u001b[0morder\u001b[0m\u001b[0;34m=\u001b[0m\u001b[0;34m(\u001b[0m\u001b[0;36m10\u001b[0m\u001b[0;34m,\u001b[0m\u001b[0;36m1\u001b[0m\u001b[0;34m,\u001b[0m\u001b[0;36m0\u001b[0m\u001b[0;34m)\u001b[0m\u001b[0;34m)\u001b[0m\u001b[0;34m\u001b[0m\u001b[0;34m\u001b[0m\u001b[0m\n\u001b[0;32m----> 5\u001b[0;31m \u001b[0mmodel_fit\u001b[0m \u001b[0;34m=\u001b[0m \u001b[0mmodel\u001b[0m\u001b[0;34m.\u001b[0m\u001b[0mfit\u001b[0m\u001b[0;34m(\u001b[0m\u001b[0mdisp\u001b[0m\u001b[0;34m=\u001b[0m\u001b[0;36m0\u001b[0m\u001b[0;34m)\u001b[0m\u001b[0;34m\u001b[0m\u001b[0;34m\u001b[0m\u001b[0m\n\u001b[0m\u001b[1;32m      6\u001b[0m \u001b[0mprint\u001b[0m\u001b[0;34m(\u001b[0m\u001b[0mmodel_fit\u001b[0m\u001b[0;34m.\u001b[0m\u001b[0msummary\u001b[0m\u001b[0;34m(\u001b[0m\u001b[0;34m)\u001b[0m\u001b[0;34m)\u001b[0m\u001b[0;34m\u001b[0m\u001b[0;34m\u001b[0m\u001b[0m\n\u001b[1;32m      7\u001b[0m \u001b[0;34m\u001b[0m\u001b[0m\n",
      "\u001b[0;32m~/opt/anaconda3/lib/python3.7/site-packages/statsmodels/tsa/arima_model.py\u001b[0m in \u001b[0;36mfit\u001b[0;34m(self, start_params, trend, method, transparams, solver, maxiter, full_output, disp, callback, start_ar_lags, **kwargs)\u001b[0m\n\u001b[1;32m   1198\u001b[0m                                         \u001b[0mmethod\u001b[0m\u001b[0;34m,\u001b[0m \u001b[0mtransparams\u001b[0m\u001b[0;34m,\u001b[0m \u001b[0msolver\u001b[0m\u001b[0;34m,\u001b[0m\u001b[0;34m\u001b[0m\u001b[0;34m\u001b[0m\u001b[0m\n\u001b[1;32m   1199\u001b[0m                                         \u001b[0mmaxiter\u001b[0m\u001b[0;34m,\u001b[0m \u001b[0mfull_output\u001b[0m\u001b[0;34m,\u001b[0m \u001b[0mdisp\u001b[0m\u001b[0;34m,\u001b[0m\u001b[0;34m\u001b[0m\u001b[0;34m\u001b[0m\u001b[0m\n\u001b[0;32m-> 1200\u001b[0;31m                                         callback, start_ar_lags, **kwargs)\n\u001b[0m\u001b[1;32m   1201\u001b[0m         \u001b[0mnormalized_cov_params\u001b[0m \u001b[0;34m=\u001b[0m \u001b[0;32mNone\u001b[0m  \u001b[0;31m# TODO: fix this?\u001b[0m\u001b[0;34m\u001b[0m\u001b[0;34m\u001b[0m\u001b[0m\n\u001b[1;32m   1202\u001b[0m         arima_fit = ARIMAResults(self, mlefit._results.params,\n",
      "\u001b[0;32m~/opt/anaconda3/lib/python3.7/site-packages/statsmodels/tsa/arima_model.py\u001b[0m in \u001b[0;36mfit\u001b[0;34m(self, start_params, trend, method, transparams, solver, maxiter, full_output, disp, callback, start_ar_lags, **kwargs)\u001b[0m\n\u001b[1;32m    984\u001b[0m         \u001b[0;32melse\u001b[0m\u001b[0;34m:\u001b[0m  \u001b[0;31m# estimate starting parameters\u001b[0m\u001b[0;34m\u001b[0m\u001b[0;34m\u001b[0m\u001b[0m\n\u001b[1;32m    985\u001b[0m             start_params = self._fit_start_params((k_ar, k_ma, k), method,\n\u001b[0;32m--> 986\u001b[0;31m                                                   start_ar_lags)\n\u001b[0m\u001b[1;32m    987\u001b[0m \u001b[0;34m\u001b[0m\u001b[0m\n\u001b[1;32m    988\u001b[0m         \u001b[0;32mif\u001b[0m \u001b[0mtransparams\u001b[0m\u001b[0;34m:\u001b[0m  \u001b[0;31m# transform initial parameters to ensure invertibility\u001b[0m\u001b[0;34m\u001b[0m\u001b[0;34m\u001b[0m\u001b[0m\n",
      "\u001b[0;32m~/opt/anaconda3/lib/python3.7/site-packages/statsmodels/tsa/arima_model.py\u001b[0m in \u001b[0;36m_fit_start_params\u001b[0;34m(self, order, method, start_ar_lags)\u001b[0m\n\u001b[1;32m    575\u001b[0m                 \u001b[0;32mreturn\u001b[0m \u001b[0;34m-\u001b[0m\u001b[0mself\u001b[0m\u001b[0;34m.\u001b[0m\u001b[0mloglike_css\u001b[0m\u001b[0;34m(\u001b[0m\u001b[0mparams\u001b[0m\u001b[0;34m)\u001b[0m\u001b[0;34m\u001b[0m\u001b[0;34m\u001b[0m\u001b[0m\n\u001b[1;32m    576\u001b[0m \u001b[0;34m\u001b[0m\u001b[0m\n\u001b[0;32m--> 577\u001b[0;31m             \u001b[0mstart_params\u001b[0m \u001b[0;34m=\u001b[0m \u001b[0mself\u001b[0m\u001b[0;34m.\u001b[0m\u001b[0m_fit_start_params_hr\u001b[0m\u001b[0;34m(\u001b[0m\u001b[0morder\u001b[0m\u001b[0;34m,\u001b[0m \u001b[0mstart_ar_lags\u001b[0m\u001b[0;34m)\u001b[0m\u001b[0;34m\u001b[0m\u001b[0;34m\u001b[0m\u001b[0m\n\u001b[0m\u001b[1;32m    578\u001b[0m             \u001b[0;32mif\u001b[0m \u001b[0mself\u001b[0m\u001b[0;34m.\u001b[0m\u001b[0mtransparams\u001b[0m\u001b[0;34m:\u001b[0m\u001b[0;34m\u001b[0m\u001b[0;34m\u001b[0m\u001b[0m\n\u001b[1;32m    579\u001b[0m                 \u001b[0mstart_params\u001b[0m \u001b[0;34m=\u001b[0m \u001b[0mself\u001b[0m\u001b[0;34m.\u001b[0m\u001b[0m_invtransparams\u001b[0m\u001b[0;34m(\u001b[0m\u001b[0mstart_params\u001b[0m\u001b[0;34m)\u001b[0m\u001b[0;34m\u001b[0m\u001b[0;34m\u001b[0m\u001b[0m\n",
      "\u001b[0;32m~/opt/anaconda3/lib/python3.7/site-packages/statsmodels/tsa/arima_model.py\u001b[0m in \u001b[0;36m_fit_start_params_hr\u001b[0;34m(self, order, start_ar_lags)\u001b[0m\n\u001b[1;32m    553\u001b[0m         if p and not np.all(np.abs(np.roots(np.r_[1, -start_params[k:k + p]]\n\u001b[1;32m    554\u001b[0m                                             )) < 1):\n\u001b[0;32m--> 555\u001b[0;31m             raise ValueError(\"The computed initial AR coefficients are not \"\n\u001b[0m\u001b[1;32m    556\u001b[0m                              \u001b[0;34m\"stationary\\nYou should induce stationarity, \"\u001b[0m\u001b[0;34m\u001b[0m\u001b[0;34m\u001b[0m\u001b[0m\n\u001b[1;32m    557\u001b[0m                              \u001b[0;34m\"choose a different model order, or you can\\n\"\u001b[0m\u001b[0;34m\u001b[0m\u001b[0;34m\u001b[0m\u001b[0m\n",
      "\u001b[0;31mValueError\u001b[0m: The computed initial AR coefficients are not stationary\nYou should induce stationarity, choose a different model order, or you can\npass your own start_params."
     ]
    }
   ],
   "source": [
    "# def parser(x):\n",
    "#     return datetime.strptime('190'+x, '%Y-%m')\n",
    " \n",
    "model = ARIMA(np.asarray(zill.value.values), order=(10,1,0))\n",
    "model_fit = model.fit(disp=0)\n",
    "print(model_fit.summary())\n",
    "\n",
    "# plot residual errors\n",
    "residuals = DataFrame(model_fit.resid)\n",
    "residuals.plot()\n",
    "pyplot.show()\n",
    "residuals.plot(kind='kde')\n",
    "pyplot.show()\n",
    "print(residuals.describe())"
   ]
  },
  {
   "cell_type": "markdown",
   "metadata": {},
   "source": [
    "# Model for zip 1"
   ]
  },
  {
   "cell_type": "code",
   "execution_count": 10,
   "metadata": {},
   "outputs": [],
   "source": [
    "zip1 = zill.loc[(zill.zip == best_zips[0])]"
   ]
  },
  {
   "cell_type": "code",
   "execution_count": 11,
   "metadata": {},
   "outputs": [
    {
     "name": "stdout",
     "output_type": "stream",
     "text": [
      "                             ARIMA Model Results                              \n",
      "==============================================================================\n",
      "Dep. Variable:                    D.y   No. Observations:                  264\n",
      "Model:                ARIMA(16, 1, 0)   Log Likelihood               -2660.512\n",
      "Method:                       css-mle   S.D. of innovations           5684.600\n",
      "Date:                Wed, 06 May 2020   AIC                           5357.025\n",
      "Time:                        13:02:26   BIC                           5421.392\n",
      "Sample:                             1   HQIC                          5382.889\n",
      "                                                                              \n",
      "==============================================================================\n",
      "                 coef    std err          z      P>|z|      [0.025      0.975]\n",
      "------------------------------------------------------------------------------\n",
      "const       1.872e+04   8325.379      2.248      0.025    2399.603     3.5e+04\n",
      "ar.L1.D.y      1.7522      0.064     27.270      0.000       1.626       1.878\n",
      "ar.L2.D.y     -1.6912      0.129    -13.109      0.000      -1.944      -1.438\n",
      "ar.L3.D.y      1.5419      0.162      9.510      0.000       1.224       1.860\n",
      "ar.L4.D.y     -0.8755      0.181     -4.831      0.000      -1.231      -0.520\n",
      "ar.L5.D.y      0.0510      0.184      0.278      0.781      -0.309       0.411\n",
      "ar.L6.D.y      0.5253      0.184      2.855      0.004       0.165       0.886\n",
      "ar.L7.D.y     -0.7690      0.189     -4.079      0.000      -1.139      -0.399\n",
      "ar.L8.D.y      0.7157      0.193      3.704      0.000       0.337       1.094\n",
      "ar.L9.D.y     -0.4756      0.192     -2.479      0.013      -0.852      -0.100\n",
      "ar.L10.D.y     0.1355      0.186      0.727      0.467      -0.230       0.500\n",
      "ar.L11.D.y     0.4361      0.182      2.391      0.017       0.079       0.794\n",
      "ar.L12.D.y    -0.7813      0.186     -4.200      0.000      -1.146      -0.417\n",
      "ar.L13.D.y     0.8478      0.186      4.567      0.000       0.484       1.212\n",
      "ar.L14.D.y    -0.8126      0.168     -4.832      0.000      -1.142      -0.483\n",
      "ar.L15.D.y     0.6359      0.136      4.685      0.000       0.370       0.902\n",
      "ar.L16.D.y    -0.2765      0.069     -4.012      0.000      -0.412      -0.141\n",
      "                                    Roots                                     \n",
      "==============================================================================\n",
      "                   Real          Imaginary           Modulus         Frequency\n",
      "------------------------------------------------------------------------------\n",
      "AR.1            -1.0267           -0.2400j            1.0544           -0.4635\n",
      "AR.2            -1.0267           +0.2400j            1.0544            0.4635\n",
      "AR.3            -0.6891           -0.8391j            1.0858           -0.3594\n",
      "AR.4            -0.6891           +0.8391j            1.0858            0.3594\n",
      "AR.5            -0.3481           -1.0319j            1.0890           -0.3018\n",
      "AR.6            -0.3481           +1.0319j            1.0890            0.3018\n",
      "AR.7            -0.0503           -1.0527j            1.0539           -0.2576\n",
      "AR.8            -0.0503           +1.0527j            1.0539            0.2576\n",
      "AR.9             0.4143           -0.9893j            1.0725           -0.1869\n",
      "AR.10            0.4143           +0.9893j            1.0725            0.1869\n",
      "AR.11            0.8216           -0.8392j            1.1744           -0.1267\n",
      "AR.12            0.8216           +0.8392j            1.1744            0.1267\n",
      "AR.13            0.9682           -0.4838j            1.0824           -0.0737\n",
      "AR.14            0.9682           +0.4838j            1.0824            0.0737\n",
      "AR.15            1.0602           -0.0559j            1.0616           -0.0084\n",
      "AR.16            1.0602           +0.0559j            1.0616            0.0084\n",
      "------------------------------------------------------------------------------\n"
     ]
    },
    {
     "data": {
      "image/png": "[encoded data removed]",
      "text/plain": [
       "<Figure size 432x288 with 1 Axes>"
      ]
     },
     "metadata": {
      "needs_background": "light"
     },
     "output_type": "display_data"
    },
    {
     "data": {
      "image/png": "[encoded data removed]",
      "text/plain": [
       "<Figure size 432x288 with 1 Axes>"
      ]
     },
     "metadata": {
      "needs_background": "light"
     },
     "output_type": "display_data"
    },
    {
     "name": "stdout",
     "output_type": "stream",
     "text": [
      "                  0\n",
      "count    264.000000\n",
      "mean      14.018934\n",
      "std     5789.596538\n",
      "min   -29256.313980\n",
      "25%    -2290.267503\n",
      "50%     -275.935250\n",
      "75%     1770.189242\n",
      "max    19548.114503\n"
     ]
    }
   ],
   "source": [
    "# def parser(x):\n",
    "#     return datetime.strptime('190'+x, '%Y-%m')\n",
    " \n",
    "model = ARIMA(np.asarray(zip1.value.values), order=(16,1,0))\n",
    "model_fit = model.fit(disp=0)\n",
    "print(model_fit.summary())\n",
    "# plot residual errors\n",
    "residuals = DataFrame(model_fit.resid)\n",
    "residuals.plot()\n",
    "pyplot.show()\n",
    "residuals.plot(kind='kde')\n",
    "pyplot.show()\n",
    "print(residuals.describe())"
   ]
  },
  {
   "cell_type": "markdown",
   "metadata": {},
   "source": [
    "# Rolling forecast ARIMA model "
   ]
  },
  {
   "cell_type": "code",
   "execution_count": 20,
   "metadata": {
    "scrolled": false
   },
   "outputs": [
    {
     "name": "stdout",
     "output_type": "stream",
     "text": [
      "predicted=2494902.890173, expected=2481600.000000, difference=13302.890173\n",
      "predicted=2490026.436782, expected=2475000.000000, difference=15026.436782\n",
      "predicted=2483340.571429, expected=2474400.000000, difference=8940.571429\n",
      "predicted=2482689.772727, expected=2468400.000000, difference=14289.772727\n",
      "predicted=2476609.039548, expected=2457500.000000, difference=19109.039548\n",
      "predicted=2465601.685393, expected=2462500.000000, difference=3101.685393\n",
      "predicted=2470584.357542, expected=2483600.000000, difference=-13015.642458\n",
      "predicted=2491756.666667, expected=2512200.000000, difference=-20443.333333\n",
      "predicted=2520469.613260, expected=2538000.000000, difference=-17530.386740\n",
      "predicted=2546365.934066, expected=2559600.000000, difference=-13234.065934\n",
      "predicted=2568038.251366, expected=2575700.000000, difference=-7661.748634\n",
      "predicted=2584179.891304, expected=2583700.000000, difference=479.891304\n",
      "predicted=2592177.297297, expected=2590700.000000, difference=1477.297297\n",
      "predicted=2599169.354839, expected=2598900.000000, difference=269.354839\n",
      "predicted=2607367.914439, expected=2608500.000000, difference=-1132.085561\n",
      "predicted=2616973.936170, expected=2632200.000000, difference=-15226.063830\n",
      "predicted=2640754.497354, expected=2663800.000000, difference=-23045.502646\n",
      "predicted=2672475.789474, expected=2691700.000000, difference=-19224.210526\n",
      "predicted=2700476.439791, expected=2734000.000000, difference=-33523.560209\n",
      "predicted=2742951.041667, expected=2790000.000000, difference=-47048.958333\n",
      "predicted=2799194.818653, expected=2840300.000000, difference=-41105.181347\n",
      "predicted=2849706.701031, expected=2884600.000000, difference=-34893.298969\n",
      "predicted=2894185.641026, expected=2927000.000000, difference=-32814.358974\n",
      "predicted=2936753.061224, expected=2971500.000000, difference=-34746.938776\n",
      "predicted=2981429.441624, expected=3024100.000000, difference=-42670.558376\n",
      "predicted=3034244.949495, expected=3082000.000000, difference=-47755.050505\n",
      "predicted=3092384.924623, expected=3135600.000000, difference=-43215.075377\n",
      "predicted=3146201.000000, expected=3181200.000000, difference=-34999.000000\n",
      "predicted=3191975.124378, expected=3232900.000000, difference=-40924.875622\n",
      "predicted=3243877.722772, expected=3301000.000000, difference=-57122.277228\n",
      "predicted=3312259.113300, expected=3371600.000000, difference=-59340.886700\n",
      "predicted=3383150.000000, expected=3445700.000000, difference=-62550.000000\n",
      "predicted=3457555.121951, expected=3522000.000000, difference=-64444.878049\n",
      "predicted=3534167.961165, expected=3584500.000000, difference=-50332.038835\n",
      "predicted=3596911.111111, expected=3634100.000000, difference=-37188.888889\n",
      "predicted=3646689.903846, expected=3676200.000000, difference=-29510.096154\n",
      "predicted=3688931.100478, expected=3704100.000000, difference=-15168.899522\n",
      "predicted=3716903.333333, expected=3726800.000000, difference=-9896.666667\n",
      "predicted=3739650.236967, expected=3744600.000000, difference=-4949.763033\n",
      "predicted=3757473.584906, expected=3753300.000000, difference=4173.584906\n",
      "predicted=3766153.990610, expected=3764600.000000, difference=1553.990610\n",
      "predicted=3777446.728972, expected=3787700.000000, difference=-10253.271028\n",
      "predicted=3800594.418605, expected=3815500.000000, difference=-14905.581395\n",
      "predicted=3828463.425926, expected=3836500.000000, difference=-8036.574074\n",
      "predicted=3849500.460829, expected=3866100.000000, difference=-16599.539171\n",
      "predicted=3879176.605505, expected=3907100.000000, difference=-27923.394495\n",
      "predicted=3920304.109589, expected=3936600.000000, difference=-16295.890411\n",
      "predicted=3949878.181818, expected=3956400.000000, difference=-6521.818182\n",
      "predicted=3969707.692308, expected=3982300.000000, difference=-12592.307692\n",
      "predicted=3995664.414414, expected=3997100.000000, difference=-1435.585586\n",
      "predicted=4010470.852018, expected=4014500.000000, difference=-4029.147982\n",
      "predicted=4027888.839286, expected=4061100.000000, difference=-33211.160714\n",
      "predicted=4074636.444444, expected=4122400.000000, difference=-47763.555556\n",
      "predicted=4136147.787611, expected=4174400.000000, difference=-38252.212389\n",
      "predicted=4188316.299559, expected=4220600.000000, difference=-32283.700441\n",
      "predicted=4234657.894737, expected=4277500.000000, difference=-42842.105263\n",
      "predicted=4291744.978166, expected=4347200.000000, difference=-55455.021834\n",
      "predicted=4361686.086957, expected=4403800.000000, difference=-42113.913043\n",
      "predicted=4418468.398268, expected=4438400.000000, difference=-19931.601732\n",
      "predicted=4453154.310345, expected=4482000.000000, difference=-28845.689655\n",
      "predicted=4496878.111588, expected=4547700.000000, difference=-50821.888412\n",
      "predicted=4562795.299145, expected=4616800.000000, difference=-54004.700855\n",
      "predicted=4632125.106383, expected=4674600.000000, difference=-42474.893617\n",
      "predicted=4690105.084746, expected=4722700.000000, difference=-32594.915254\n",
      "predicted=4738342.616034, expected=4759500.000000, difference=-21157.383966\n",
      "predicted=4775231.512605, expected=4795800.000000, difference=-20568.487395\n",
      "predicted=4811617.573222, expected=4827800.000000, difference=-16182.426778\n",
      "predicted=4843685.000000, expected=4862000.000000, difference=-18315.000000\n",
      "predicted=4877960.995851, expected=4892200.000000, difference=-14239.004149\n",
      "predicted=4908219.834711, expected=4929100.000000, difference=-20880.165289\n",
      "predicted=4945205.761317, expected=4982400.000000, difference=-37194.238683\n",
      "predicted=4998658.196721, expected=5037100.000000, difference=-38441.803279\n",
      "predicted=5053515.102041, expected=5070200.000000, difference=-16684.897959\n",
      "predicted=5086682.926829, expected=5101200.000000, difference=-14517.073171\n",
      "predicted=5117741.700405, expected=5140000.000000, difference=-22258.299595\n",
      "predicted=5156631.451613, expected=5172300.000000, difference=-15668.548387\n",
      "predicted=5188994.377510, expected=5215400.000000, difference=-26405.622490\n",
      "predicted=5232200.000000, expected=5262600.000000, difference=-30400.000000\n",
      "predicted=5279521.115538, expected=5290800.000000, difference=-11278.884462\n",
      "predicted=5307765.873016, expected=5289300.000000, difference=18465.873016\n",
      "predicted=5306192.885375, expected=5298800.000000, difference=7392.885375\n",
      "predicted=5315663.779528, expected=5339400.000000, difference=-23736.220472\n",
      "predicted=5356356.862745, expected=5397000.000000, difference=-40643.137255\n",
      "predicted=5414115.625000, expected=5450400.000000, difference=-36284.375000\n",
      "predicted=5467656.809342, expected=5503000.000000, difference=-35343.190658\n",
      "predicted=5520393.798450, expected=5574100.000000, difference=-53706.201550\n",
      "predicted=5591701.158301, expected=5661000.000000, difference=-69298.841699\n",
      "predicted=5678867.692308, expected=5738200.000000, difference=-59332.307692\n",
      "predicted=5756295.019157, expected=5816100.000000, difference=-59804.980843\n",
      "predicted=5834423.282443, expected=5907800.000000, difference=-73376.717557\n",
      "predicted=5926402.281369, expected=5956700.000000, difference=-30297.718631\n",
      "Test MSE: 1088392598.636\n"
     ]
    },
    {
     "data": {
      "image/png": "[encoded data removed]",
      "text/plain": [
       "<Figure size 432x288 with 1 Axes>"
      ]
     },
     "metadata": {
      "needs_background": "light"
     },
     "output_type": "display_data"
    }
   ],
   "source": [
    "from matplotlib import pyplot\n",
    "from statsmodels.tsa.arima_model import ARIMA\n",
    "from sklearn.metrics import mean_squared_error\n",
    "\n",
    "# def parser(x):\n",
    "#     return datetime.strptime('190'+x, '%Y-%m')\n",
    "\n",
    "X = zip1.value.values\n",
    "size = int(len(X) * 0.66)\n",
    "train, test = X[0:size], X[size:len(X)]\n",
    "history = [x for x in train]\n",
    "predictions = list()\n",
    "\n",
    "for t in range(len(test)):\n",
    "    model = ARIMA(history, order=(0,1,0))\n",
    "    model_fit = model.fit(disp=0)\n",
    "    output = model_fit.forecast()\n",
    "    yhat = output[0]\n",
    "    predictions.append(yhat)\n",
    "    obs = test[t]\n",
    "    history.append(obs)\n",
    "    print('predicted=%f, expected=%f, difference=%f' % (yhat, obs, yhat-obs))\n",
    "\n",
    "error = mean_squared_error(test, predictions)\n",
    "print('Test MSE: %.3f' % error)\n",
    "\n",
    "# plot\n",
    "pyplot.plot(test)\n",
    "pyplot.plot(predictions, color='red')\n",
    "pyplot.show()"
   ]
  },
  {
   "cell_type": "code",
   "execution_count": null,
   "metadata": {},
   "outputs": [],
   "source": []
  },
  {
   "cell_type": "code",
   "execution_count": null,
   "metadata": {},
   "outputs": [],
   "source": []
  },
  {
   "cell_type": "code",
   "execution_count": null,
   "metadata": {},
   "outputs": [],
   "source": []
  },
  {
   "cell_type": "code",
   "execution_count": null,
   "metadata": {},
   "outputs": [],
   "source": []
  }
 ],
 "metadata": {
  "kernelspec": {
   "display_name": "Python 3",
   "language": "python",
   "name": "python3"
  },
  "language_info": {
   "codemirror_mode": {
    "name": "ipython",
    "version": 3
   },
   "file_extension": ".py",
   "mimetype": "text/x-python",
   "name": "python",
   "nbconvert_exporter": "python",
   "pygments_lexer": "ipython3",
   "version": "3.7.7"
  }
 },
 "nbformat": 4,
 "nbformat_minor": 4
}
